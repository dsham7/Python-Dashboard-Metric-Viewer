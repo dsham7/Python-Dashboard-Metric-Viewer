{
 "cells": [
  {
   "cell_type": "markdown",
   "id": "bdb3b815",
   "metadata": {},
   "source": [
    "# Generate a metric"
   ]
  },
  {
   "cell_type": "code",
   "execution_count": 1,
   "id": "e6193bae",
   "metadata": {},
   "outputs": [
    {
     "name": "stdout",
     "output_type": "stream",
     "text": [
      "Mean value to date: 2.39\n",
      "Standard deviation to date: 12.80\n"
     ]
    }
   ],
   "source": [
    "import pandas as pd\n",
    "import numpy as np\n",
    "\n",
    "# Generate a date range for 3 years of daily data\n",
    "dates = pd.date_range(start='2021-01-01', end='2023-12-31', freq='D')\n",
    "# Simulate some timeseries data\n",
    "np.random.seed(42)\n",
    "values = np.random.randn(len(dates)).cumsum()  # Example: cumulative sum of random values\n",
    "\n",
    "# Create the timeseries DataFrame\n",
    "ts_df = pd.DataFrame({'Date': dates, 'Value': values})\n",
    "\n",
    "# Calculate a general metric: mean and standard deviation to date\n",
    "mean_value = ts_df['Value'].mean()\n",
    "std_value = ts_df['Value'].std()\n",
    "\n",
    "print(f\"Mean value to date: {mean_value:.2f}\")\n",
    "print(f\"Standard deviation to date: {std_value:.2f}\")"
   ]
  },
  {
   "cell_type": "markdown",
   "id": "f6875e14",
   "metadata": {},
   "source": [
    "# Analyze and report"
   ]
  },
  {
   "cell_type": "code",
   "execution_count": 3,
   "id": "41d666d3",
   "metadata": {},
   "outputs": [
    {
     "data": {
      "application/vnd.plotly.v1+json": {
       "config": {
        "plotlyServerURL": "https://plot.ly"
       },
       "data": [
        {
         "alignmentgroup": "True",
         "boxpoints": "all",
         "hovertemplate": "Week=%{x}<br>Metric Value=%{y}<extra></extra>",
         "legendgroup": "",
         "marker": {
          "color": "#636efa"
         },
         "name": "",
         "notched": false,
         "offsetgroup": "",
         "orientation": "v",
         "showlegend": false,
         "type": "box",
         "x": [
          "2020-W53",
          "2020-W53",
          "2020-W53",
          "2021-W01",
          "2021-W01",
          "2021-W01",
          "2021-W01",
          "2021-W01",
          "2021-W01",
          "2021-W01",
          "2021-W02",
          "2021-W02",
          "2021-W02",
          "2021-W02",
          "2021-W02",
          "2021-W02",
          "2021-W02",
          "2021-W03",
          "2021-W03",
          "2021-W03",
          "2021-W03",
          "2021-W03",
          "2021-W03",
          "2021-W03",
          "2021-W04",
          "2021-W04",
          "2021-W04",
          "2021-W04",
          "2021-W04",
          "2021-W04",
          "2021-W04",
          "2021-W05",
          "2021-W05",
          "2021-W05",
          "2021-W05",
          "2021-W05",
          "2021-W05",
          "2021-W05",
          "2021-W06",
          "2021-W06",
          "2021-W06",
          "2021-W06",
          "2021-W06",
          "2021-W06",
          "2021-W06",
          "2021-W07",
          "2021-W07",
          "2021-W07",
          "2021-W07",
          "2021-W07",
          "2021-W07",
          "2021-W07",
          "2021-W08",
          "2021-W08",
          "2021-W08",
          "2021-W08",
          "2021-W08",
          "2021-W08",
          "2021-W08",
          "2021-W09",
          "2021-W09",
          "2021-W09",
          "2021-W09",
          "2021-W09",
          "2021-W09",
          "2021-W09",
          "2021-W10",
          "2021-W10",
          "2021-W10",
          "2021-W10",
          "2021-W10",
          "2021-W10",
          "2021-W10",
          "2021-W11",
          "2021-W11",
          "2021-W11",
          "2021-W11",
          "2021-W11",
          "2021-W11",
          "2021-W11",
          "2021-W12",
          "2021-W12",
          "2021-W12",
          "2021-W12",
          "2021-W12",
          "2021-W12",
          "2021-W12",
          "2021-W13",
          "2021-W13",
          "2021-W13",
          "2021-W13",
          "2021-W13",
          "2021-W13",
          "2021-W13",
          "2021-W14",
          "2021-W14",
          "2021-W14",
          "2021-W14",
          "2021-W14",
          "2021-W14",
          "2021-W14",
          "2021-W15",
          "2021-W15",
          "2021-W15",
          "2021-W15",
          "2021-W15",
          "2021-W15",
          "2021-W15",
          "2021-W16",
          "2021-W16",
          "2021-W16",
          "2021-W16",
          "2021-W16",
          "2021-W16",
          "2021-W16",
          "2021-W17",
          "2021-W17",
          "2021-W17",
          "2021-W17",
          "2021-W17",
          "2021-W17",
          "2021-W17",
          "2021-W18",
          "2021-W18",
          "2021-W18",
          "2021-W18",
          "2021-W18",
          "2021-W18",
          "2021-W18",
          "2021-W19",
          "2021-W19",
          "2021-W19",
          "2021-W19",
          "2021-W19",
          "2021-W19",
          "2021-W19",
          "2021-W20",
          "2021-W20",
          "2021-W20",
          "2021-W20",
          "2021-W20",
          "2021-W20",
          "2021-W20",
          "2021-W21",
          "2021-W21",
          "2021-W21",
          "2021-W21",
          "2021-W21",
          "2021-W21",
          "2021-W21",
          "2021-W22",
          "2021-W22",
          "2021-W22",
          "2021-W22",
          "2021-W22",
          "2021-W22",
          "2021-W22",
          "2021-W23",
          "2021-W23",
          "2021-W23",
          "2021-W23",
          "2021-W23",
          "2021-W23",
          "2021-W23",
          "2021-W24",
          "2021-W24",
          "2021-W24",
          "2021-W24",
          "2021-W24",
          "2021-W24",
          "2021-W24",
          "2021-W25",
          "2021-W25",
          "2021-W25",
          "2021-W25",
          "2021-W25",
          "2021-W25",
          "2021-W25",
          "2021-W26",
          "2021-W26",
          "2021-W26",
          "2021-W26",
          "2021-W26",
          "2021-W26",
          "2021-W26",
          "2021-W27",
          "2021-W27",
          "2021-W27",
          "2021-W27",
          "2021-W27",
          "2021-W27",
          "2021-W27",
          "2021-W28",
          "2021-W28",
          "2021-W28",
          "2021-W28",
          "2021-W28",
          "2021-W28",
          "2021-W28",
          "2021-W29",
          "2021-W29",
          "2021-W29",
          "2021-W29",
          "2021-W29",
          "2021-W29",
          "2021-W29",
          "2021-W30",
          "2021-W30",
          "2021-W30",
          "2021-W30",
          "2021-W30",
          "2021-W30",
          "2021-W30",
          "2021-W31",
          "2021-W31",
          "2021-W31",
          "2021-W31",
          "2021-W31",
          "2021-W31",
          "2021-W31",
          "2021-W32",
          "2021-W32",
          "2021-W32",
          "2021-W32",
          "2021-W32",
          "2021-W32",
          "2021-W32",
          "2021-W33",
          "2021-W33",
          "2021-W33",
          "2021-W33",
          "2021-W33",
          "2021-W33",
          "2021-W33",
          "2021-W34",
          "2021-W34",
          "2021-W34",
          "2021-W34",
          "2021-W34",
          "2021-W34",
          "2021-W34",
          "2021-W35",
          "2021-W35",
          "2021-W35",
          "2021-W35",
          "2021-W35",
          "2021-W35",
          "2021-W35",
          "2021-W36",
          "2021-W36",
          "2021-W36",
          "2021-W36",
          "2021-W36",
          "2021-W36",
          "2021-W36",
          "2021-W37",
          "2021-W37",
          "2021-W37",
          "2021-W37",
          "2021-W37",
          "2021-W37",
          "2021-W37",
          "2021-W38",
          "2021-W38",
          "2021-W38",
          "2021-W38",
          "2021-W38",
          "2021-W38",
          "2021-W38",
          "2021-W39",
          "2021-W39",
          "2021-W39",
          "2021-W39",
          "2021-W39",
          "2021-W39",
          "2021-W39",
          "2021-W40",
          "2021-W40",
          "2021-W40",
          "2021-W40",
          "2021-W40",
          "2021-W40",
          "2021-W40",
          "2021-W41",
          "2021-W41",
          "2021-W41",
          "2021-W41",
          "2021-W41",
          "2021-W41",
          "2021-W41",
          "2021-W42",
          "2021-W42",
          "2021-W42",
          "2021-W42",
          "2021-W42",
          "2021-W42",
          "2021-W42",
          "2021-W43",
          "2021-W43",
          "2021-W43",
          "2021-W43",
          "2021-W43",
          "2021-W43",
          "2021-W43",
          "2021-W44",
          "2021-W44",
          "2021-W44",
          "2021-W44",
          "2021-W44",
          "2021-W44",
          "2021-W44",
          "2021-W45",
          "2021-W45",
          "2021-W45",
          "2021-W45",
          "2021-W45",
          "2021-W45",
          "2021-W45",
          "2021-W46",
          "2021-W46",
          "2021-W46",
          "2021-W46",
          "2021-W46",
          "2021-W46",
          "2021-W46",
          "2021-W47",
          "2021-W47",
          "2021-W47",
          "2021-W47",
          "2021-W47",
          "2021-W47",
          "2021-W47",
          "2021-W48",
          "2021-W48",
          "2021-W48",
          "2021-W48",
          "2021-W48",
          "2021-W48",
          "2021-W48",
          "2021-W49",
          "2021-W49",
          "2021-W49",
          "2021-W49",
          "2021-W49",
          "2021-W49",
          "2021-W49",
          "2021-W50",
          "2021-W50",
          "2021-W50",
          "2021-W50",
          "2021-W50",
          "2021-W50",
          "2021-W50",
          "2021-W51",
          "2021-W51",
          "2021-W51",
          "2021-W51",
          "2021-W51",
          "2021-W51",
          "2021-W51",
          "2021-W52",
          "2021-W52",
          "2021-W52",
          "2021-W52",
          "2021-W52",
          "2021-W52",
          "2021-W52",
          "2022-W01",
          "2022-W01",
          "2022-W01",
          "2022-W01",
          "2022-W01",
          "2022-W01",
          "2022-W01",
          "2022-W02",
          "2022-W02",
          "2022-W02",
          "2022-W02",
          "2022-W02",
          "2022-W02",
          "2022-W02",
          "2022-W03",
          "2022-W03",
          "2022-W03",
          "2022-W03",
          "2022-W03",
          "2022-W03",
          "2022-W03",
          "2022-W04",
          "2022-W04",
          "2022-W04",
          "2022-W04",
          "2022-W04",
          "2022-W04",
          "2022-W04",
          "2022-W05",
          "2022-W05",
          "2022-W05",
          "2022-W05",
          "2022-W05",
          "2022-W05",
          "2022-W05",
          "2022-W06",
          "2022-W06",
          "2022-W06",
          "2022-W06",
          "2022-W06",
          "2022-W06",
          "2022-W06",
          "2022-W07",
          "2022-W07",
          "2022-W07",
          "2022-W07",
          "2022-W07",
          "2022-W07",
          "2022-W07",
          "2022-W08",
          "2022-W08",
          "2022-W08",
          "2022-W08",
          "2022-W08",
          "2022-W08",
          "2022-W08",
          "2022-W09",
          "2022-W09",
          "2022-W09",
          "2022-W09",
          "2022-W09",
          "2022-W09",
          "2022-W09",
          "2022-W10",
          "2022-W10",
          "2022-W10",
          "2022-W10",
          "2022-W10",
          "2022-W10",
          "2022-W10",
          "2022-W11",
          "2022-W11",
          "2022-W11",
          "2022-W11",
          "2022-W11",
          "2022-W11",
          "2022-W11",
          "2022-W12",
          "2022-W12",
          "2022-W12",
          "2022-W12",
          "2022-W12",
          "2022-W12",
          "2022-W12",
          "2022-W13",
          "2022-W13",
          "2022-W13",
          "2022-W13",
          "2022-W13",
          "2022-W13",
          "2022-W13",
          "2022-W14",
          "2022-W14",
          "2022-W14",
          "2022-W14",
          "2022-W14",
          "2022-W14",
          "2022-W14",
          "2022-W15",
          "2022-W15",
          "2022-W15",
          "2022-W15",
          "2022-W15",
          "2022-W15",
          "2022-W15",
          "2022-W16",
          "2022-W16",
          "2022-W16",
          "2022-W16",
          "2022-W16",
          "2022-W16",
          "2022-W16",
          "2022-W17",
          "2022-W17",
          "2022-W17",
          "2022-W17",
          "2022-W17",
          "2022-W17",
          "2022-W17",
          "2022-W18",
          "2022-W18",
          "2022-W18",
          "2022-W18",
          "2022-W18",
          "2022-W18",
          "2022-W18",
          "2022-W19",
          "2022-W19",
          "2022-W19",
          "2022-W19",
          "2022-W19",
          "2022-W19",
          "2022-W19",
          "2022-W20",
          "2022-W20",
          "2022-W20",
          "2022-W20",
          "2022-W20",
          "2022-W20",
          "2022-W20",
          "2022-W21",
          "2022-W21",
          "2022-W21",
          "2022-W21",
          "2022-W21",
          "2022-W21",
          "2022-W21",
          "2022-W22",
          "2022-W22",
          "2022-W22",
          "2022-W22",
          "2022-W22",
          "2022-W22",
          "2022-W22",
          "2022-W23",
          "2022-W23",
          "2022-W23",
          "2022-W23",
          "2022-W23",
          "2022-W23",
          "2022-W23",
          "2022-W24",
          "2022-W24",
          "2022-W24",
          "2022-W24",
          "2022-W24",
          "2022-W24",
          "2022-W24",
          "2022-W25",
          "2022-W25",
          "2022-W25",
          "2022-W25",
          "2022-W25",
          "2022-W25",
          "2022-W25",
          "2022-W26",
          "2022-W26",
          "2022-W26",
          "2022-W26",
          "2022-W26",
          "2022-W26",
          "2022-W26",
          "2022-W27",
          "2022-W27",
          "2022-W27",
          "2022-W27",
          "2022-W27",
          "2022-W27",
          "2022-W27",
          "2022-W28",
          "2022-W28",
          "2022-W28",
          "2022-W28",
          "2022-W28",
          "2022-W28",
          "2022-W28",
          "2022-W29",
          "2022-W29",
          "2022-W29",
          "2022-W29",
          "2022-W29",
          "2022-W29",
          "2022-W29",
          "2022-W30",
          "2022-W30",
          "2022-W30",
          "2022-W30",
          "2022-W30",
          "2022-W30",
          "2022-W30",
          "2022-W31",
          "2022-W31",
          "2022-W31",
          "2022-W31",
          "2022-W31",
          "2022-W31",
          "2022-W31",
          "2022-W32",
          "2022-W32",
          "2022-W32",
          "2022-W32",
          "2022-W32",
          "2022-W32",
          "2022-W32",
          "2022-W33",
          "2022-W33",
          "2022-W33",
          "2022-W33",
          "2022-W33",
          "2022-W33",
          "2022-W33",
          "2022-W34",
          "2022-W34",
          "2022-W34",
          "2022-W34",
          "2022-W34",
          "2022-W34",
          "2022-W34",
          "2022-W35",
          "2022-W35",
          "2022-W35",
          "2022-W35",
          "2022-W35",
          "2022-W35",
          "2022-W35",
          "2022-W36",
          "2022-W36",
          "2022-W36",
          "2022-W36",
          "2022-W36",
          "2022-W36",
          "2022-W36",
          "2022-W37",
          "2022-W37",
          "2022-W37",
          "2022-W37",
          "2022-W37",
          "2022-W37",
          "2022-W37",
          "2022-W38",
          "2022-W38",
          "2022-W38",
          "2022-W38",
          "2022-W38",
          "2022-W38",
          "2022-W38",
          "2022-W39",
          "2022-W39",
          "2022-W39",
          "2022-W39",
          "2022-W39",
          "2022-W39",
          "2022-W39",
          "2022-W40",
          "2022-W40",
          "2022-W40",
          "2022-W40",
          "2022-W40",
          "2022-W40",
          "2022-W40",
          "2022-W41",
          "2022-W41",
          "2022-W41",
          "2022-W41",
          "2022-W41",
          "2022-W41",
          "2022-W41",
          "2022-W42",
          "2022-W42",
          "2022-W42",
          "2022-W42",
          "2022-W42",
          "2022-W42",
          "2022-W42",
          "2022-W43",
          "2022-W43",
          "2022-W43",
          "2022-W43",
          "2022-W43",
          "2022-W43",
          "2022-W43",
          "2022-W44",
          "2022-W44",
          "2022-W44",
          "2022-W44",
          "2022-W44",
          "2022-W44",
          "2022-W44",
          "2022-W45",
          "2022-W45",
          "2022-W45",
          "2022-W45",
          "2022-W45",
          "2022-W45",
          "2022-W45",
          "2022-W46",
          "2022-W46",
          "2022-W46",
          "2022-W46",
          "2022-W46",
          "2022-W46",
          "2022-W46",
          "2022-W47",
          "2022-W47",
          "2022-W47",
          "2022-W47",
          "2022-W47",
          "2022-W47",
          "2022-W47",
          "2022-W48",
          "2022-W48",
          "2022-W48",
          "2022-W48",
          "2022-W48",
          "2022-W48",
          "2022-W48",
          "2022-W49",
          "2022-W49",
          "2022-W49",
          "2022-W49",
          "2022-W49",
          "2022-W49",
          "2022-W49",
          "2022-W50",
          "2022-W50",
          "2022-W50",
          "2022-W50",
          "2022-W50",
          "2022-W50",
          "2022-W50",
          "2022-W51",
          "2022-W51",
          "2022-W51",
          "2022-W51",
          "2022-W51",
          "2022-W51",
          "2022-W51",
          "2022-W52",
          "2022-W52",
          "2022-W52",
          "2022-W52",
          "2022-W52",
          "2022-W52",
          "2022-W52",
          "2023-W01",
          "2023-W01",
          "2023-W01",
          "2023-W01",
          "2023-W01",
          "2023-W01",
          "2023-W01",
          "2023-W02",
          "2023-W02",
          "2023-W02",
          "2023-W02",
          "2023-W02",
          "2023-W02",
          "2023-W02",
          "2023-W03",
          "2023-W03",
          "2023-W03",
          "2023-W03",
          "2023-W03",
          "2023-W03",
          "2023-W03",
          "2023-W04",
          "2023-W04",
          "2023-W04",
          "2023-W04",
          "2023-W04",
          "2023-W04",
          "2023-W04",
          "2023-W05",
          "2023-W05",
          "2023-W05",
          "2023-W05",
          "2023-W05",
          "2023-W05",
          "2023-W05",
          "2023-W06",
          "2023-W06",
          "2023-W06",
          "2023-W06",
          "2023-W06",
          "2023-W06",
          "2023-W06",
          "2023-W07",
          "2023-W07",
          "2023-W07",
          "2023-W07",
          "2023-W07",
          "2023-W07",
          "2023-W07",
          "2023-W08",
          "2023-W08",
          "2023-W08",
          "2023-W08",
          "2023-W08",
          "2023-W08",
          "2023-W08",
          "2023-W09",
          "2023-W09",
          "2023-W09",
          "2023-W09",
          "2023-W09",
          "2023-W09",
          "2023-W09",
          "2023-W10",
          "2023-W10",
          "2023-W10",
          "2023-W10",
          "2023-W10",
          "2023-W10",
          "2023-W10",
          "2023-W11",
          "2023-W11",
          "2023-W11",
          "2023-W11",
          "2023-W11",
          "2023-W11",
          "2023-W11",
          "2023-W12",
          "2023-W12",
          "2023-W12",
          "2023-W12",
          "2023-W12",
          "2023-W12",
          "2023-W12",
          "2023-W13",
          "2023-W13",
          "2023-W13",
          "2023-W13",
          "2023-W13",
          "2023-W13",
          "2023-W13",
          "2023-W14",
          "2023-W14",
          "2023-W14",
          "2023-W14",
          "2023-W14",
          "2023-W14",
          "2023-W14",
          "2023-W15",
          "2023-W15",
          "2023-W15",
          "2023-W15",
          "2023-W15",
          "2023-W15",
          "2023-W15",
          "2023-W16",
          "2023-W16",
          "2023-W16",
          "2023-W16",
          "2023-W16",
          "2023-W16",
          "2023-W16",
          "2023-W17",
          "2023-W17",
          "2023-W17",
          "2023-W17",
          "2023-W17",
          "2023-W17",
          "2023-W17",
          "2023-W18",
          "2023-W18",
          "2023-W18",
          "2023-W18",
          "2023-W18",
          "2023-W18",
          "2023-W18",
          "2023-W19",
          "2023-W19",
          "2023-W19",
          "2023-W19",
          "2023-W19",
          "2023-W19",
          "2023-W19",
          "2023-W20",
          "2023-W20",
          "2023-W20",
          "2023-W20",
          "2023-W20",
          "2023-W20",
          "2023-W20",
          "2023-W21",
          "2023-W21",
          "2023-W21",
          "2023-W21",
          "2023-W21",
          "2023-W21",
          "2023-W21",
          "2023-W22",
          "2023-W22",
          "2023-W22",
          "2023-W22",
          "2023-W22",
          "2023-W22",
          "2023-W22",
          "2023-W23",
          "2023-W23",
          "2023-W23",
          "2023-W23",
          "2023-W23",
          "2023-W23",
          "2023-W23",
          "2023-W24",
          "2023-W24",
          "2023-W24",
          "2023-W24",
          "2023-W24",
          "2023-W24",
          "2023-W24",
          "2023-W25",
          "2023-W25",
          "2023-W25",
          "2023-W25",
          "2023-W25",
          "2023-W25",
          "2023-W25",
          "2023-W26",
          "2023-W26",
          "2023-W26",
          "2023-W26",
          "2023-W26",
          "2023-W26",
          "2023-W26",
          "2023-W27",
          "2023-W27",
          "2023-W27",
          "2023-W27",
          "2023-W27",
          "2023-W27",
          "2023-W27",
          "2023-W28",
          "2023-W28",
          "2023-W28",
          "2023-W28",
          "2023-W28",
          "2023-W28",
          "2023-W28",
          "2023-W29",
          "2023-W29",
          "2023-W29",
          "2023-W29",
          "2023-W29",
          "2023-W29",
          "2023-W29",
          "2023-W30",
          "2023-W30",
          "2023-W30",
          "2023-W30",
          "2023-W30",
          "2023-W30",
          "2023-W30",
          "2023-W31",
          "2023-W31",
          "2023-W31",
          "2023-W31",
          "2023-W31",
          "2023-W31",
          "2023-W31",
          "2023-W32",
          "2023-W32",
          "2023-W32",
          "2023-W32",
          "2023-W32",
          "2023-W32",
          "2023-W32",
          "2023-W33",
          "2023-W33",
          "2023-W33",
          "2023-W33",
          "2023-W33",
          "2023-W33",
          "2023-W33",
          "2023-W34",
          "2023-W34",
          "2023-W34",
          "2023-W34",
          "2023-W34",
          "2023-W34",
          "2023-W34",
          "2023-W35",
          "2023-W35",
          "2023-W35",
          "2023-W35",
          "2023-W35",
          "2023-W35",
          "2023-W35",
          "2023-W36",
          "2023-W36",
          "2023-W36",
          "2023-W36",
          "2023-W36",
          "2023-W36",
          "2023-W36",
          "2023-W37",
          "2023-W37",
          "2023-W37",
          "2023-W37",
          "2023-W37",
          "2023-W37",
          "2023-W37",
          "2023-W38",
          "2023-W38",
          "2023-W38",
          "2023-W38",
          "2023-W38",
          "2023-W38",
          "2023-W38",
          "2023-W39",
          "2023-W39",
          "2023-W39",
          "2023-W39",
          "2023-W39",
          "2023-W39",
          "2023-W39",
          "2023-W40",
          "2023-W40",
          "2023-W40",
          "2023-W40",
          "2023-W40",
          "2023-W40",
          "2023-W40",
          "2023-W41",
          "2023-W41",
          "2023-W41",
          "2023-W41",
          "2023-W41",
          "2023-W41",
          "2023-W41",
          "2023-W42",
          "2023-W42",
          "2023-W42",
          "2023-W42",
          "2023-W42",
          "2023-W42",
          "2023-W42",
          "2023-W43",
          "2023-W43",
          "2023-W43",
          "2023-W43",
          "2023-W43",
          "2023-W43",
          "2023-W43",
          "2023-W44",
          "2023-W44",
          "2023-W44",
          "2023-W44",
          "2023-W44",
          "2023-W44",
          "2023-W44",
          "2023-W45",
          "2023-W45",
          "2023-W45",
          "2023-W45",
          "2023-W45",
          "2023-W45",
          "2023-W45",
          "2023-W46",
          "2023-W46",
          "2023-W46",
          "2023-W46",
          "2023-W46",
          "2023-W46",
          "2023-W46",
          "2023-W47",
          "2023-W47",
          "2023-W47",
          "2023-W47",
          "2023-W47",
          "2023-W47",
          "2023-W47",
          "2023-W48",
          "2023-W48",
          "2023-W48",
          "2023-W48",
          "2023-W48",
          "2023-W48",
          "2023-W48",
          "2023-W49",
          "2023-W49",
          "2023-W49",
          "2023-W49",
          "2023-W49",
          "2023-W49",
          "2023-W49",
          "2023-W50",
          "2023-W50",
          "2023-W50",
          "2023-W50",
          "2023-W50",
          "2023-W50",
          "2023-W50",
          "2023-W51",
          "2023-W51",
          "2023-W51",
          "2023-W51",
          "2023-W51",
          "2023-W51",
          "2023-W51",
          "2023-W52",
          "2023-W52",
          "2023-W52",
          "2023-W52",
          "2023-W52",
          "2023-W52",
          "2023-W52"
         ],
         "x0": " ",
         "xaxis": "x",
         "y": {
          "bdata": "fDCpKCrK3z/nLbql1/DWP666gJEkGfA/bDLBj7w7BEAIuMvBMFwCQFSqZI+tfABAWOSE4+ceDUAqjaBaTqERQIPm0esggQ9A8TgWUiXsEUA6JyonmxEQQHdw8chlaQxADmBLs+9YDkBeiqinExX+P2AyzbWB3sM/lt9b+kMN2r9eSTpm37f2v9anNDC3sPG/6RR9uP0bAMDMHoeaY2gLwFcwbxV7Xf+/uQHOWCF9AcALeJge1fIAwLwLH3+3WAzAI+XIac5ZEMAUQphxcdAPwE/eP8jWghTAcAAIzR8CE8Dqpy+hLWkVwBTlXmXfkxbAySSULAX8GMAz582PSZMRwHU/OccboRHAhjIbWjTcFcC/THcj65ESwEbr7/kPdBfA+G9Yoy+eFsApfCxn43QewHRJDLR54iHAi3gYta59IcCv7nNqlgMgwO67OqqxVx/As4QVKx7OH8DZRwVZOYEgwNpemy46diPAPOklmsnmJMCz/nZyotIlwGcGnFJjtSPAWwQUlnQFI8AFpxXJIYwmwEM8knMz5iXAvYzD9FyrJsBSEP558gUowIJxjdfEzCbA6NEurOW8JMAmyMDsFOAiwHu5EdjCjSTAyVK17RMsJcBl2GyReIIkwOVRy+r9jiLAGJUsPlSEI8DQiq7vYuMjwJYYVnnUGSbAVHcpq0l+KMD5ybRIRt4mwDlQ5DDhJyTAgaaes79MJMB01jyj8EoiwFKR00fIkSHA/aHDahXcIsCxen6SDCMiwFrdOBYmHx7AjScCq9VDHsDBsbO4owEYwLiwTRchPiHAWDY4X6EyH8CfB1uBftkewD6LfL7WBSDAU/x/87atH8DGgb0bftAjwHm7KfH2QCTAKneqex+KI8DDOnD0cJUgwIYuPKvLniHAqxXbir48I8AVjXTXpD0kwKwcWEH1aCLAgBaXMKPAIcAv5FLr388iwG8+JO4UySHAGf4cyGCXIcCo5EoX3U4fwNz2cQziDiHAcYOpYaW2IcCa6AXIZ38iwBzH1Jy5bCXAm20hiRzVJMCSgcB/c08kwItonkTVTCTAxTmiEvHEJMCG3vOLnJknwLra1F77cCjAWozFpXMgKcByz9i7N7sqwEGlSsbLDSvAX8RKBew+KsAcBLvcMXkmwH6TYZnPHybAoR9P9PGbJcBMMrq6D8IlwKqg/uh4mCnATYQGIwymKcA0qYqkNYcpwAYnlJIHmiTAIq19tYT8JMCeo7JLIGIkwND6aQnmcyTACj0oAUPKJsAeT73uIoEkwCn37JAlACPA7K4/bSNrIcDMJ8OovjwjwEYvcpqDbiDAyUubBkM8I8BUsyh+yg8iwPSgoC+OXBvAwV8oV91SH8CsEj1yYMsgwHL3SPFamCDAOX3igCKaIcC0jYkPE7QkwGyJ3F/4kCTAYkiWpd6wJsA53JPwY74lwHI6hrYilSfAuTzttZF7JMDHX0NJmAwmwGUugoh9sSbAioJbNPgQJcDsTV0NLIcnwBvBdGy2EifAwQ/Lm3R1JMDYra2mfKwnwAJrbVL0TSfA5Dzh9uTIJsAjJH7gmTglwJ4cAnvrsSfAXxSkXv5VKsCYld5xwkopwE6v2BG0sijAN3OIeHMyKMAEW6XPEYEnwGSo7AI+3SjAaksJDlRmKMB58ah1RtAnwAF+ve0FPinAhVbHIb+CJcBeK0HnJJAkwGtccW8X8ibACg4HpO+hJcAvVNod+ZQnwJrPCV38ASbAlo537MiwI8BUAoNl+VQlwGVOscK5ZyPAuRgmvWGUIsALDmmrfO8gwFj8gnCoSBrAJzk3du9DG8CFIvbfwkcewNwwbN9P6yDAXYYnwgGNIsDKUjiie7QiwIC3einQBSLAhEPeviV4IcB65JJdQqEfwBlJYf/xkx/AljytwobDGcCd6hr2iNIawO4c5d4p4g/AxoH+/MvgCsDzj2C0IN4QwBJhY7+4JhXA3Jywf6s4E8DNAFztfh0UwIswTvtbQhHAcCPWJ4e7DsCNpwZ7rlAPwE+T+SF1CxPAjmxbPqkaGcCwoox15OMawKvSVKfwdhfAoo1fQ7WbFsDaQqc1WJcbwE35c94B5hrAKOnROnFbGcDgJk0ng+QcwA62EgoZRxzAynAa+X0LHMAhL7Bj8k4gwGLlEfiELx/AdnqOq0bxHMCWKPlIO5wYwD9eYWYjZRTAyKyhKN/nGcB15bBdNKgdwOUa/fXOmBvANNt7DrGKGcC0mFllSHsXwGMkbucrJADA6+ZLuPkl97/cPW1fy+rTv85TGgXJkeQ/cE4hvv209D/0VV31S1PvP+2xeeNizvs/gpI01cnh7j9Ch9M3xU3nP+bBAVWwFs8/fDtEMsXI1D9CrjJchB0FQGw45oFuteg//mQWOKNV9z9QzoyBX8DDv7tjk7soCuS/ngcVYQyd3T/MJwQpG93gP4Zc0HTHn+G/etjHB8ZB9L+wLkxISMTiv60g+w+5EfW/sArIxxub8b909Cc+cuDwvyBsmLpmTfu/KASlWsYA3D/K8XvcuSTxP2DpdRqEhO6/oalxEBWN6L+mrqrvN932vw1TdplNc+K/jK+KBtHn9b9714bnxr33v7/vCbqyUu+/kPkB63PzvL/kGA1AoQP1v+6h0ze/Xfq/QmqAvI/7AMBk0LtplDUGwJ4obuHbK/C/Kotajhti47+g/mtuot39vzECPdgkXO6/fENUokfG8j/at6z2oKUBQGRdaRfW9+U/dpJcjPbjyT9ArpZxw4H3P2qgxnNMXug/+sp2oAhJ8z/0V9RN763/PxDYAkI62fA/ioHTy9LK7z/eo0TfaPsBwIZMFAVbLQrA4EGGeJ0yDMCxRx+cCRcTwN2A3o/lHgnAqT0rw+lHEsDh1cfIhAoUwBAFKe2jhBPA5PAIkI2BC8B2/ddtGX8TwGjLlA8KsA3AMHVh/RSbDcBuskQZm7oSwNFhD3Jp4RDAfp8FJJMVEMB4Pc1kMnwSwFVXLDK4NBLAIT7x10e/E8AXttvzCUsTwN25eF4EpRDADHNPJ9+ZBMDP/j736oAOwBQw51Pu4Pq/So1CX1cODcD2Itx5MkUOwBPvD9NSkAnAwwX9KNpQB8D278MLJEwMwNHFWgtg9g3AM2paQgX0EMBYYKyxh08TwMU0LjQT0w/Aax/LROj3DMBQejA6fkERwAYv/QibUAvAa0B7lUHbCMDVr7a6g1oCwEl9IsQRovq/h+f0BNHyA8BQyXA3EW4IwO6rnCWccwLAxYqxriQj+7/otJmXwXj7v07s9ekumPm/0IstrHib1L/dWCB14zvtv2YhSi4idNe/tk7b0G0y4r/jYfVirCnpv8r9TV8D/9M/eUvbnag08j/Y8/RLyzj/P4pEbYUEDgpAA35UlQg5CkCod71XrK0PQNqgmDQ/Mg1ADtfruyPKD0ChWtlKm78OQGlB5RxBhg9Aj5JTZpEkEkDo9IuDa70NQEyF5IZQPRdAjYZBGyc3E0CFQoqxpbcMQNdt4Km6/RJAuZDwSWQoFkDSqdyNfacYQHQtMI/qKhtAzL0sJGAeG0C515VKlocXQGwpXwA21RdAXvgqH8wfFUD40r3oUQYZQGYT7bK7bxhA9mvQj2wiFUDKOxMxU9kTQM2l4bEqgBVAnqqIr+k+E0A/1qgV6+kPQMqpw65+7hBAnsMRM1fpEUBGVeosdsQPQET7u3HG/wtAk+YbcQPbDUBMQdcyVkUCQJT0NFNnC+w/6A6wW6I3xD+AdE2BaGqsv7bzasibWNA/OLf2EDax+z9vYIGuF7UEQO3eZNSJbQNAOpUs3JdGA0D0xzJ904L2P0GkGA//NvY/SLm6iaaY8T8LJ6J5gcL2P5PRKuxVDOM/b7p0QGnV8T/elb8+wS0FQDK+uZoDTwRA2mtgPbiFB0C+3O9zIgsNQL36xV9v1QlAnjiLX2CgC0A2gvdqKroLQBd0/tI0ggxAgkYVEhVTBkCyKvx1R4UGQE4SL/0tgQpAAqeclY8OE0Dn0gSt2uQWQPAnuom2gR9A/hN9+vJvHEBkcXaZNO0fQOF6mE15VCBAhjA2J6e1JEC9KVzhzRcjQD9b6NvdaSFAAhElRPo2IECRCPoCFu8XQBa6uny21BVAwO4valzLEkAorlk+XWUTQNZhpoVSwxRAVPJWc4VEHEBIK7it4AggQGNJeIYBwx1AGIl5ggcrGkB0HkErwSIcQKwhhPTV2hZAQGbB4T8uHkBL4DSE/3IhQEYjsbnHgiBAnuZBg08rGkDm5EkIrZUfQDsZZBljIB9A3s/2m/QJIkBzLwSTN7MdQLquHQJ1TRtAj+HYnNNSG0At8h9L74IbQIOym1QRthlAyrACtN0zHEBRu89pn+4XQKKUUHzTXBdANMyAQwLYF0CyGEFRy+YZQDwNVON8vxxA/XQjtto/GED65eTi6xwSQCmL+DJDORdA+lzOUo2NGEAcVp4RGo8VQAVRlkB7wxtA9V/jqe45HEBSUx0sxHggQLVjaPRVmyBAubmFTnC6JECS+nRXLD0oQGPK3Ry0vSdAyflF3CWvKUB7KbCTlPkqQHjpN9pRti1AGz6TZ0fIK0AUYKOKiSctQAT8G1tzRS9AAj6b2vnAK0AZBE7LJWMpQLAn3Y0PTyVAdaOO3B/FJEAF7GKPgTQmQLxB7oC2NSlA16szQaZbKUCepMcmgJ0sQNhAP37j2ilA9wcEwMFyJkDmxYcAUVYmQHQ1hTr1GidAIZTR3DcKJ0AtfXUXsOciQNc8J/MOuiJAXqQAhiseIEBnJgHYCnUhQPKp7Ju9MCJA2cSLr4VPIEBItQU+2JAeQGa71cU1VBpA+gHS0gYUGkA6UuimF+YdQNkDuXu19BlAO0PIQNr4G0AAzmJm3tkZQHP9UIv3rRZAGkFyLV5AFkBfWTmdRxwSQBZYk4qvyg9AGC5piW41BkBRnHIsmPYSQLZyXE20GhNAcm1odS9OEEBw2CICTSkRQJF2U+JGthBA264LDwKoD0CswREl6UgSQJo99j6ZUBVAdFSYjV0xE0ATS5hBuuMQQBvIUDUmlA9ACGkZIaFT+j9wfiArQavAP7fAqrIf9Pc/chZ5rvQiCUBFug0T7iQHQIiSsvi3wQtAF7BHsSg/DkCqOxZ6WnAbQBNejlLM6h9AQ2VOfs9nH0DI29RMVpUbQBu3MwlWKBVAe52rzq74FUDxaF7/LfISQFYgMnGVgwpAv7WvCWdXBUBZLNbLyGD5P47w/YKoLwpAY8YK1KCeEECO5yPZdpYQQKapFVPtgRZARwlS9ibRFkCD+Px5Ml8TQNR2i1DgdhlADOlfWbieG0CJ+UR+lHgXQMbXzlmstRZA95GGRwo1E0Bv3eFAG1oLQByvhIN1YRFAsLYpobMEGUA6hA6IkWwTQBN6/4kMrRVAFGxQfsoSE0CPIy9/+R8RQDCjxve5gg1AcBKo+UWZBkAaclFIpfwGQAy0nBvcVgBAnVZKYMGAAkAjkGEj3hkCQEiwa4uAMABASUVfnZ/b8T+hk3wUVkLhP/r/ZyZAt/Q/uJ0V5AG7/D/3DV3Y4S3qP1s1xcmcW+0/wOH65Xyz+j8AIMBATytDv/HaNhZqXuE/AMKCPGWuvr82Ow/4FtncP8IE3/YlANS/48u3xWrwAMBfR/S9n/UNwPKNqWElkw3ANx+S/Tt/C8BlRTEso10RwHssc/tvnw3AivWdgR11FcDTbNbtx7gVwIYMSo/ckBrAbH//e1csHcBNyQI1zvscwNJDQzRvNiDAqTAfq1P7IMC1Rve2NfAdwKF/fTp5HyDAB56vyDLnHMCecy1UArYgwJou1at/TR/AHoVSG1WJGcCqB/jwJbYhwEsyoZgoTiPAbdktmbImIsCAKscpqI4iwNbQzlSh0CHA2D2v4N4FI8Cig4xhidkiwNz+wU4+KSPAfKD6xlbTIMD30xdUE1EgwKoIDSVySB/A13UtnBp3IMAn5RAiwnAhwO5/XWY6TiLAv8vGxESEIcD9SekL0FsiwIYkLq1yxyHABTBrfK9BG8DCRytfp8UXwFbUDHyAExnApg1QdnVFFMCMxgX5U+cVwPjURBdeDh7Ae0k071ILIcAjJIFfK8kkwBVDzfIkfSXAr7uM0LZzJcA/s8DSYBkiwFC7a8z9cSHAv0U3viviIcCiqgrlgzkgwCEbadKdpSTAyQe+WfssJMC+SgOCTKIiwPArp8NVlyXARrBiortNI8BAr7I7bKAiwMrww9kMdSPAehWr3RAxIsCPCyg58UwbwP4nYRO2khrAnL3PiYiUGcAtFvI962obwC9AKNgo0R7AEzvFSuV+G8Ai4tCHhusewIt27949oh7AW9PIc65FIMCXjZU346AewLYQvbI3Sx3AOIq508YkGcAqj9+QCC8bwJjwM6liQxzAFJAl2dEWIMB2SCFBTPogwJh/ZLkeOSDAqECpbBVrHcCTUv7DsI0gwBGZj47noB3AdHPcObs0GMDW9yq/X40WwHpIdPgRFw7AqrtaLuUjEsCg35Dxax4XwCD718jUOx7AIyGbvuE/GMDldsS2z6EVwHxX4+a62hXABYtrzgq8FMBpJ9QBizwZwNqns5kv6A7AFWI/fIrfDcAb8HUbgP8MwF2NJGAhMQfAbnzpAQZYA8DqetZMgo0BwBcrSpJm4AfASi+SXtUaBMDiinQKyjHkv2A/v0zk2+Y/v4l+tNF1AkAcfMXrsr38P5nIKx2O0Ok/ZtKo0hvK5T9bGSRvm5LnP6ZXyK4cS/0/SDchITe2wT/03Z6l0K/6PyhdUFudKPg/yBKlHBxU8T/Qp28SfCiyPzW3LDzDV/m/SsU0ohxY6L+2s0u2ff/lv7v0feVso/+/2AgdtQguCsD0noyYuN0MwPE74kYhB/+/7JDURDWXAcA5aNsUpZ0NwJwmlzjtlA/A4Ds/dbvhEMAIDDEcWKsbwI0vAS/x4hvART38SGvPHMA3rbv2gAYawF2OnTcsoRLAJlCF6CM/DMAk5KYF02UOwI5VjKP+nxPAdkb6nL+pAsCJ+U4ZeDACwMUxZSPxEwLAO2bGoVlFAsBcujsrrK8AwJ8hvJlS1wHAtDLwtC5uBsBfa5FJJs4KwM+8FG86EQvAgJUzhSlqD8BBjUgBCY8SwOeUm/UMIhLAs8UDtSUnE8B0iSzwHUYKwKcxbcymvRfA9rmL0/JfE8DQ/qgj6scMwC6n9OAbrxbA4u4ZYAUOGMAfValeYIoZwOqIjx2rKx/AN73uixMkIcDmvp7xsFwjwOB7XLQOtx/ASepTOuz4G8C2qmOw2eIWwCOo/a/b/xPA3SHB1QGEGMD2LPisHZ0awHdNGBL/pxjA3DEDi3SLHcCPb1RIWLEawKBiyiRwpxvAUYdjK0EnHcBXu5JHO08awKcmbFFOiBjA2MXAbu/5GcDU3KUUyFYVwAqmeVjKqRnAGJSYhRIzF8Da0O+VvNMUwGqa1VO2EBbAquYyg8DCFMDlhgtu5MMZwCgSe0qwERbA7ADPRgfPFsBu/Ob6S+YYwJdMboEctBTASmZe+luFF8APp/SnnycdwEjlulPOsCHASbwGZId6IMAAW6rTGwojwBFgOeNODx/A8pFbGJqxI8DdxoEqBE0gwD95gV7zwR/Aa+TJEH4SIMB1gzuzfSkhwJfsnyEiXSDAnCSw/GZwIMD7x2wBBnccwEmSr+kNAhzAF4g3NSVoG8AMErf3e9wcwCEz1evLFh3AxQfJiJvbG8DKvW71aFkhwHGEgFGuCyTAtEcANSGPIsBHukaIpTciwN0DoJjYlSLAxrV4bGiMIsAJR8YxctohwKKIQ5PN7iLAVWI/iEt9JMAE8fOzBRkkwHo/yvryDSbAKqh1eew8JcC4eDuDpaQowDDbYQa4lSbAlJVLur+jJcCROPxlqSAlwBv7LyCGKSPAtMxiHpqpH8Bgn6UX45obwGMMCp34eyHA4rxbUx0LJMCbAtaLBUslwDVDd72pPSXAVnkQI580JMDLAn7UM6glwH8xy++TSCXAhAUIfVXLJsDgkJFZbgQowGaasDuk1CrACtvdQlatLMD+HA1EZmEvwKoiYfaFqjDAGQO+/JQ5L8DiZZlM1o8wwFqwNATl2yvALg8/2lDfKsARSBoDroAqwIyS3q4oOCzAXFGkqpnRKsCgYfCqU/grwOP+6JjbuSvAtEZbMhibJsA007r1RswmwGazDWjZfyTAJSuYJeDnJcCgAoUoyvklwOBtAccjbyLAMSqDmiWwI8BCm55YLBAgwHVd28SbSx3AKJM5D5OLH8DapkUq/QMdwFe/+tkXIBnASozKGVyjFsDEv/cWRescwFg+z7zb0x/Abk+hoahoIMDqvBDFxI4gwHhlvxL4oR7ASH9x0gDsHcBT3bOqsqEhwFG0w18J3yDAR9HJW9VMH8DS6L+mmw8dwN5KBnjjvBjAu4CRx/NmFcCldRR6wJATwHqFRP+Z2BPAhg+q8Gx9GsC+TAYaf8UYwMO1RQXT8BfA+IwFQrraFsB7AI88HvYbwJrcc1yPJCDANLVMBbESHMCmhL0qMjscwAnaH9lWgRnAVG0SW1dkGcAkeFr23kUZwAZWBn4RhRXADjSChX+VF8AoflwJEjMXwPZw17pwDBnAgqsTT13JGsBfMxDt9AUcwFkv/uN9IhvAQWIi+LoMHcAoBhYJ1gYYwM803fjpmhvA8RieQEVaHMC/Y2ccjhwewCoNWorZUhjAmxeW4pOJF8Ddy7cH+GgTwHqBwcQuWhnAylHIJLlIGMB1c7XEvbkUwPXCqYN7ZRTAAgUUOm4iEMBYI1NKIjQSwJrjQ6HsIQnAAJXWuB/36r8QWdiqv0nzv9yTU+uGavq/+Je+s7ZLyb8UjcGadhz2P8PQ4kGofes/QNxcRPkW3D82gPDobRzEPySp4cxQ//K/BkiFlw7ZAMB6htOLieEIwDIXlJj8BQ/AIgZcdwVND8BUIxh+WW0NwFyXr7DsBQHAAAPGu40CCcAUmNRPqSIBwG/aURjp2ALAuTgMUzY+A8A6gP8fXbD7v4Kf6D6E0wbApl2cZ1fEA8CsY2eCcm8CwCooMnHQ/fy/WVpoJGFd+L96TYhQD9ftP6IaI0Nj3dI/rN26x+48zr/6hqgYAIDrv+zGGwY8o/a/hkUjb/xqAMC0wRxXhZ/rv9Z/Afw/1eE/AONcz2+Ti7+8e+Hm9RDrv3ahYqY/9te/+WmafO+m7b+O7r2E6svSv6xKzrjmPLe/pyw9Uku0+b+gGHE70Dauv4x0Pbgzyvs/LKGtNDj88T8UMkpPY5DnPz2lKD4ZW/A/J1sXmwi19T8adpwpNx8AQNJRz6MOGhBALgDF+LnJDkCdw1ZO0GYIQGl3vJLvu/o/gRFSwBcU7j8vmS50twTtP5tbQARvnAVAhSe1n114AUCoYCH2rkIDQK0SVaIMIQNASgp39+CiDEAy1jyoBG0YQOsx9JdoTRZA9z34+jhYFEDkVkN9cYUYQGbNgECzPxtAewqjP11RIUCOajniVXwiQOkhMsBgxCFAbTqMD8vyIkADWnMOcyolQAy9AUyJziZAmiv9t0LSJ0DdrlPnZfQpQE5TtNATSyxAHhWVKL4OL0CiVDLucC0wQKbMEK6oAjBA+OdFtTcoMEDpY896FV0xQHWQmcjyizBA3RRWKFTqMEBU4x5OooUwQIZSOSD+jDBAIrtEv0bUMUAsLJydMgUyQKPXm+EVETJAnhFnWfa0MEDaravSAHQxQO/DM0Y/GTJApEf1VQpDNEBxvAfIP/QzQN31aQRaLDRAc6dXoDFsNEDHNL+aBQA2QDgmBFGg5zVAgjZsRQ4vNkBKzHhgrco2QMrjCf5y+jZAao/bhCmINkARipdm2bk2QGEiXe6yzDdA9VF1OenFNkAIJGeG8+c2QGe6Q2i4NDZAxyew+6ZmN0Diafpnt+A1QLtca+ehUTVAXG2G3DKyNUBAF1EL+UI3QDEU/AgkMjdASi2aegKkNkA+EBb9lYU4QE6fG/PkEjdAZbChAADgNEB/bxrKpFA1QL0F8Cke0DRAFNhgpq7KM0DQ539/BYA0QFZLvDhvvjRAV+i0wwcuNEDvsEO8ReYyQFbPTxmfxTNAifbqrhJsNEBgegcYr1I0QCAWyUtsKzZAjsSFOHsZNUDWazdn8pIzQFxxE4TR4TJAgQqi/SXWMkBqtSJ8cRQzQImZr9av1jJASwIeJNAwM0DSdN1Aa/AxQMgSe88FYjNAp4xq8/1MM0B0LesMBWs0QExhFebBwjRAAP1/ra83NUCd6jryi8k1QIBUcvkoPDZAJVsEdLLgNkClqxzL9TQ4QI2COQFFZzhA/xdpRsYcOUCj2EhbzQU5QLqb3+B4djpAYv8e1VDJOUDFZMRDW5Y7QKmzJ3kTjDtAeSw4MswdOkBUsKillz46QJTy5D4+kDlAkHJLqXJnOkAkwtNLYMA5QHkV/jcnTjlAgDYCR25qN0CUQzHuo/Y2QC7xK5MgijRAZAdh66X0MkBWkVB0ULczQCcqT6d6gDRA8t24cGXtNEBjHRqx2fUzQFHWX+Gi6TNAuELMyLboM0BjVjMyLMAyQBBKPugKQTRAMw7nuKUhNUCR3jqdFOk0QJETwpr27zRAg0IjLk8lNUBORjwLoBozQKwJ5gZZ2zJABYDcgcIsMkBz+5pWWCwxQBokRiZi5DBAZ2tvVZewMkC5b4qcpVQzQDAoQdNswjJAm1VBnAFVM0B686zEPbs0QGrXsY/ypzVAO39Kfza3NUAErDvZmBE1QHLylJxXxDVAlMniERMpNkBPaOZzPg43QBH5aRLZsDdAjbIFj4i9OECPYERigzQ4QJk4EB/EhTlA1RNQAlq4OUDhqzpOnss7QNQsV7EvGztARM8I0ZfXPEC0Tv8YQgo9QP3BccR+YzxALH9J057nO0DGcE2LnJU7QEtQAa8yAjxARJ3rOguIPECp+wg6LfU7QPe2xx/x7jtAkiRR9FwTPkBRJzs5nc0/QOhv1xCoHkBA114fXYUjQEDlvt6M4jJAQDjwpE5qgUBA88F/4f78P0BCxLxzG7s/QADWUCDzDz5AjDvgnCZ2PkAgXPM+1Rs/QAPqTSMjoD5AdUqb94kZQEBIbesnSPk+QH/XP+Jmgj1AqBXkjty7PUA8gEkx68c+QBSS8omAO0BAK7y/0cMAQECT8GoI1opAQKJg9i/ohUBAYY42ic9vQECVswhO6+BAQIRP855qNEFA+1kXZ6NqQEADAEitoidBQCPHp4JJ2EFAynxfEjeIQUBrXQ/D4LpBQIYGoiQd+kFATJir5nobQkA/TXSACtVBQEMKTL8Sf0FANXI2ZM17QUA31z5g6RFCQOvh2RB+V0JAXQOAxg0oQkAqUHrM1IpCQAXhD8E3HkFAtM80gkKxQUBir0iRk9JAQPmnTRovpEBA48l3wt0UQEBynipGS94+QH5d9Zu7A0BAwsvW87uPP0AzxE5ucOg/QI74nnFt3D9AIWBPZUYrQEBgPAqyGzVAQDqPaDbFIT9AYxYER2gQQED2Ty+5aaI/QOwFc5LtEz5AtcDrnVSmPUDPrRdphiY/QMgzdEUXAEBAM3G9Ru2mP0C8hMtShE0/QOVKEaYt+z5AM1zIs2mHQEBwnpL2TLhAQLPrX5FY70BAUEJm5ThzQUCRlgyKyZFBQJ1LCD+hcEFAHRkeQX9XQUCHVDgGVU5BQFQVeFORSUFAbth6SrSmQUCOMid0Wq1BQCzjkJohC0JA",
          "dtype": "f8"
         },
         "y0": " ",
         "yaxis": "y"
        }
       ],
       "layout": {
        "boxmode": "group",
        "legend": {
         "tracegroupgap": 0
        },
        "template": {
         "data": {
          "bar": [
           {
            "error_x": {
             "color": "#2a3f5f"
            },
            "error_y": {
             "color": "#2a3f5f"
            },
            "marker": {
             "line": {
              "color": "#E5ECF6",
              "width": 0.5
             },
             "pattern": {
              "fillmode": "overlay",
              "size": 10,
              "solidity": 0.2
             }
            },
            "type": "bar"
           }
          ],
          "barpolar": [
           {
            "marker": {
             "line": {
              "color": "#E5ECF6",
              "width": 0.5
             },
             "pattern": {
              "fillmode": "overlay",
              "size": 10,
              "solidity": 0.2
             }
            },
            "type": "barpolar"
           }
          ],
          "carpet": [
           {
            "aaxis": {
             "endlinecolor": "#2a3f5f",
             "gridcolor": "white",
             "linecolor": "white",
             "minorgridcolor": "white",
             "startlinecolor": "#2a3f5f"
            },
            "baxis": {
             "endlinecolor": "#2a3f5f",
             "gridcolor": "white",
             "linecolor": "white",
             "minorgridcolor": "white",
             "startlinecolor": "#2a3f5f"
            },
            "type": "carpet"
           }
          ],
          "choropleth": [
           {
            "colorbar": {
             "outlinewidth": 0,
             "ticks": ""
            },
            "type": "choropleth"
           }
          ],
          "contour": [
           {
            "colorbar": {
             "outlinewidth": 0,
             "ticks": ""
            },
            "colorscale": [
             [
              0,
              "#0d0887"
             ],
             [
              0.1111111111111111,
              "#46039f"
             ],
             [
              0.2222222222222222,
              "#7201a8"
             ],
             [
              0.3333333333333333,
              "#9c179e"
             ],
             [
              0.4444444444444444,
              "#bd3786"
             ],
             [
              0.5555555555555556,
              "#d8576b"
             ],
             [
              0.6666666666666666,
              "#ed7953"
             ],
             [
              0.7777777777777778,
              "#fb9f3a"
             ],
             [
              0.8888888888888888,
              "#fdca26"
             ],
             [
              1,
              "#f0f921"
             ]
            ],
            "type": "contour"
           }
          ],
          "contourcarpet": [
           {
            "colorbar": {
             "outlinewidth": 0,
             "ticks": ""
            },
            "type": "contourcarpet"
           }
          ],
          "heatmap": [
           {
            "colorbar": {
             "outlinewidth": 0,
             "ticks": ""
            },
            "colorscale": [
             [
              0,
              "#0d0887"
             ],
             [
              0.1111111111111111,
              "#46039f"
             ],
             [
              0.2222222222222222,
              "#7201a8"
             ],
             [
              0.3333333333333333,
              "#9c179e"
             ],
             [
              0.4444444444444444,
              "#bd3786"
             ],
             [
              0.5555555555555556,
              "#d8576b"
             ],
             [
              0.6666666666666666,
              "#ed7953"
             ],
             [
              0.7777777777777778,
              "#fb9f3a"
             ],
             [
              0.8888888888888888,
              "#fdca26"
             ],
             [
              1,
              "#f0f921"
             ]
            ],
            "type": "heatmap"
           }
          ],
          "histogram": [
           {
            "marker": {
             "pattern": {
              "fillmode": "overlay",
              "size": 10,
              "solidity": 0.2
             }
            },
            "type": "histogram"
           }
          ],
          "histogram2d": [
           {
            "colorbar": {
             "outlinewidth": 0,
             "ticks": ""
            },
            "colorscale": [
             [
              0,
              "#0d0887"
             ],
             [
              0.1111111111111111,
              "#46039f"
             ],
             [
              0.2222222222222222,
              "#7201a8"
             ],
             [
              0.3333333333333333,
              "#9c179e"
             ],
             [
              0.4444444444444444,
              "#bd3786"
             ],
             [
              0.5555555555555556,
              "#d8576b"
             ],
             [
              0.6666666666666666,
              "#ed7953"
             ],
             [
              0.7777777777777778,
              "#fb9f3a"
             ],
             [
              0.8888888888888888,
              "#fdca26"
             ],
             [
              1,
              "#f0f921"
             ]
            ],
            "type": "histogram2d"
           }
          ],
          "histogram2dcontour": [
           {
            "colorbar": {
             "outlinewidth": 0,
             "ticks": ""
            },
            "colorscale": [
             [
              0,
              "#0d0887"
             ],
             [
              0.1111111111111111,
              "#46039f"
             ],
             [
              0.2222222222222222,
              "#7201a8"
             ],
             [
              0.3333333333333333,
              "#9c179e"
             ],
             [
              0.4444444444444444,
              "#bd3786"
             ],
             [
              0.5555555555555556,
              "#d8576b"
             ],
             [
              0.6666666666666666,
              "#ed7953"
             ],
             [
              0.7777777777777778,
              "#fb9f3a"
             ],
             [
              0.8888888888888888,
              "#fdca26"
             ],
             [
              1,
              "#f0f921"
             ]
            ],
            "type": "histogram2dcontour"
           }
          ],
          "mesh3d": [
           {
            "colorbar": {
             "outlinewidth": 0,
             "ticks": ""
            },
            "type": "mesh3d"
           }
          ],
          "parcoords": [
           {
            "line": {
             "colorbar": {
              "outlinewidth": 0,
              "ticks": ""
             }
            },
            "type": "parcoords"
           }
          ],
          "pie": [
           {
            "automargin": true,
            "type": "pie"
           }
          ],
          "scatter": [
           {
            "fillpattern": {
             "fillmode": "overlay",
             "size": 10,
             "solidity": 0.2
            },
            "type": "scatter"
           }
          ],
          "scatter3d": [
           {
            "line": {
             "colorbar": {
              "outlinewidth": 0,
              "ticks": ""
             }
            },
            "marker": {
             "colorbar": {
              "outlinewidth": 0,
              "ticks": ""
             }
            },
            "type": "scatter3d"
           }
          ],
          "scattercarpet": [
           {
            "marker": {
             "colorbar": {
              "outlinewidth": 0,
              "ticks": ""
             }
            },
            "type": "scattercarpet"
           }
          ],
          "scattergeo": [
           {
            "marker": {
             "colorbar": {
              "outlinewidth": 0,
              "ticks": ""
             }
            },
            "type": "scattergeo"
           }
          ],
          "scattergl": [
           {
            "marker": {
             "colorbar": {
              "outlinewidth": 0,
              "ticks": ""
             }
            },
            "type": "scattergl"
           }
          ],
          "scattermap": [
           {
            "marker": {
             "colorbar": {
              "outlinewidth": 0,
              "ticks": ""
             }
            },
            "type": "scattermap"
           }
          ],
          "scattermapbox": [
           {
            "marker": {
             "colorbar": {
              "outlinewidth": 0,
              "ticks": ""
             }
            },
            "type": "scattermapbox"
           }
          ],
          "scatterpolar": [
           {
            "marker": {
             "colorbar": {
              "outlinewidth": 0,
              "ticks": ""
             }
            },
            "type": "scatterpolar"
           }
          ],
          "scatterpolargl": [
           {
            "marker": {
             "colorbar": {
              "outlinewidth": 0,
              "ticks": ""
             }
            },
            "type": "scatterpolargl"
           }
          ],
          "scatterternary": [
           {
            "marker": {
             "colorbar": {
              "outlinewidth": 0,
              "ticks": ""
             }
            },
            "type": "scatterternary"
           }
          ],
          "surface": [
           {
            "colorbar": {
             "outlinewidth": 0,
             "ticks": ""
            },
            "colorscale": [
             [
              0,
              "#0d0887"
             ],
             [
              0.1111111111111111,
              "#46039f"
             ],
             [
              0.2222222222222222,
              "#7201a8"
             ],
             [
              0.3333333333333333,
              "#9c179e"
             ],
             [
              0.4444444444444444,
              "#bd3786"
             ],
             [
              0.5555555555555556,
              "#d8576b"
             ],
             [
              0.6666666666666666,
              "#ed7953"
             ],
             [
              0.7777777777777778,
              "#fb9f3a"
             ],
             [
              0.8888888888888888,
              "#fdca26"
             ],
             [
              1,
              "#f0f921"
             ]
            ],
            "type": "surface"
           }
          ],
          "table": [
           {
            "cells": {
             "fill": {
              "color": "#EBF0F8"
             },
             "line": {
              "color": "white"
             }
            },
            "header": {
             "fill": {
              "color": "#C8D4E3"
             },
             "line": {
              "color": "white"
             }
            },
            "type": "table"
           }
          ]
         },
         "layout": {
          "annotationdefaults": {
           "arrowcolor": "#2a3f5f",
           "arrowhead": 0,
           "arrowwidth": 1
          },
          "autotypenumbers": "strict",
          "coloraxis": {
           "colorbar": {
            "outlinewidth": 0,
            "ticks": ""
           }
          },
          "colorscale": {
           "diverging": [
            [
             0,
             "#8e0152"
            ],
            [
             0.1,
             "#c51b7d"
            ],
            [
             0.2,
             "#de77ae"
            ],
            [
             0.3,
             "#f1b6da"
            ],
            [
             0.4,
             "#fde0ef"
            ],
            [
             0.5,
             "#f7f7f7"
            ],
            [
             0.6,
             "#e6f5d0"
            ],
            [
             0.7,
             "#b8e186"
            ],
            [
             0.8,
             "#7fbc41"
            ],
            [
             0.9,
             "#4d9221"
            ],
            [
             1,
             "#276419"
            ]
           ],
           "sequential": [
            [
             0,
             "#0d0887"
            ],
            [
             0.1111111111111111,
             "#46039f"
            ],
            [
             0.2222222222222222,
             "#7201a8"
            ],
            [
             0.3333333333333333,
             "#9c179e"
            ],
            [
             0.4444444444444444,
             "#bd3786"
            ],
            [
             0.5555555555555556,
             "#d8576b"
            ],
            [
             0.6666666666666666,
             "#ed7953"
            ],
            [
             0.7777777777777778,
             "#fb9f3a"
            ],
            [
             0.8888888888888888,
             "#fdca26"
            ],
            [
             1,
             "#f0f921"
            ]
           ],
           "sequentialminus": [
            [
             0,
             "#0d0887"
            ],
            [
             0.1111111111111111,
             "#46039f"
            ],
            [
             0.2222222222222222,
             "#7201a8"
            ],
            [
             0.3333333333333333,
             "#9c179e"
            ],
            [
             0.4444444444444444,
             "#bd3786"
            ],
            [
             0.5555555555555556,
             "#d8576b"
            ],
            [
             0.6666666666666666,
             "#ed7953"
            ],
            [
             0.7777777777777778,
             "#fb9f3a"
            ],
            [
             0.8888888888888888,
             "#fdca26"
            ],
            [
             1,
             "#f0f921"
            ]
           ]
          },
          "colorway": [
           "#636efa",
           "#EF553B",
           "#00cc96",
           "#ab63fa",
           "#FFA15A",
           "#19d3f3",
           "#FF6692",
           "#B6E880",
           "#FF97FF",
           "#FECB52"
          ],
          "font": {
           "color": "#2a3f5f"
          },
          "geo": {
           "bgcolor": "white",
           "lakecolor": "white",
           "landcolor": "#E5ECF6",
           "showlakes": true,
           "showland": true,
           "subunitcolor": "white"
          },
          "hoverlabel": {
           "align": "left"
          },
          "hovermode": "closest",
          "mapbox": {
           "style": "light"
          },
          "paper_bgcolor": "white",
          "plot_bgcolor": "#E5ECF6",
          "polar": {
           "angularaxis": {
            "gridcolor": "white",
            "linecolor": "white",
            "ticks": ""
           },
           "bgcolor": "#E5ECF6",
           "radialaxis": {
            "gridcolor": "white",
            "linecolor": "white",
            "ticks": ""
           }
          },
          "scene": {
           "xaxis": {
            "backgroundcolor": "#E5ECF6",
            "gridcolor": "white",
            "gridwidth": 2,
            "linecolor": "white",
            "showbackground": true,
            "ticks": "",
            "zerolinecolor": "white"
           },
           "yaxis": {
            "backgroundcolor": "#E5ECF6",
            "gridcolor": "white",
            "gridwidth": 2,
            "linecolor": "white",
            "showbackground": true,
            "ticks": "",
            "zerolinecolor": "white"
           },
           "zaxis": {
            "backgroundcolor": "#E5ECF6",
            "gridcolor": "white",
            "gridwidth": 2,
            "linecolor": "white",
            "showbackground": true,
            "ticks": "",
            "zerolinecolor": "white"
           }
          },
          "shapedefaults": {
           "line": {
            "color": "#2a3f5f"
           }
          },
          "ternary": {
           "aaxis": {
            "gridcolor": "white",
            "linecolor": "white",
            "ticks": ""
           },
           "baxis": {
            "gridcolor": "white",
            "linecolor": "white",
            "ticks": ""
           },
           "bgcolor": "#E5ECF6",
           "caxis": {
            "gridcolor": "white",
            "linecolor": "white",
            "ticks": ""
           }
          },
          "title": {
           "x": 0.05
          },
          "xaxis": {
           "automargin": true,
           "gridcolor": "white",
           "linecolor": "white",
           "ticks": "",
           "title": {
            "standoff": 15
           },
           "zerolinecolor": "white",
           "zerolinewidth": 2
          },
          "yaxis": {
           "automargin": true,
           "gridcolor": "white",
           "linecolor": "white",
           "ticks": "",
           "title": {
            "standoff": 15
           },
           "zerolinecolor": "white",
           "zerolinewidth": 2
          }
         }
        },
        "title": {
         "text": "Weekly Distribution of Daily Metric"
        },
        "xaxis": {
         "anchor": "y",
         "domain": [
          0,
          1
         ],
         "tickangle": 45,
         "tickmode": "array",
         "tickvals": [
          "2020-W53",
          "2021-W01",
          "2021-W14",
          "2021-W27",
          "2021-W40",
          "2022-W01",
          "2022-W14",
          "2022-W27",
          "2022-W40",
          "2023-W01",
          "2023-W14",
          "2023-W27",
          "2023-W40"
         ],
         "title": {
          "text": "Week"
         }
        },
        "yaxis": {
         "anchor": "x",
         "domain": [
          0,
          1
         ],
         "title": {
          "text": "Metric Value"
         }
        }
       }
      }
     },
     "metadata": {},
     "output_type": "display_data"
    }
   ],
   "source": [
    "import plotly.express as px\n",
    "\n",
    "# Add a 'Week' column to the DataFrame (ISO week)\n",
    "ts_df['Week'] = ts_df['Date'].dt.isocalendar().week\n",
    "ts_df['Year'] = ts_df['Date'].dt.isocalendar().year\n",
    "\n",
    "# Combine year and week for unique week labels\n",
    "ts_df['Year-Week'] = ts_df['Year'].astype(str) + '-W' + ts_df['Week'].astype(str).str.zfill(2)\n",
    "\n",
    "# Create a box plot for each week's daily data\n",
    "fig = px.box(ts_df, x='Year-Week', y='Value', points='all',\n",
    "             title='Weekly Distribution of Daily Metric',\n",
    "             labels={'Year-Week': 'Week', 'Value': 'Metric Value'})\n",
    "\n",
    "# Optionally, show fewer x-ticks for readability\n",
    "fig.update_xaxes(tickangle=45, tickmode='array', tickvals=ts_df['Year-Week'][::4])\n",
    "# Reduce the number of x-tick labels for better readability\n",
    "# Show only the first week of each quarter\n",
    "\n",
    "# Find the first week of each quarter\n",
    "quarter_starts = ts_df.groupby([ts_df['Year'], ((ts_df['Week'] - 1) // 13) + 1])['Year-Week'].first().values\n",
    "\n",
    "fig.update_xaxes(\n",
    "    tickmode='array',\n",
    "    tickvals=quarter_starts,\n",
    "    tickangle=45\n",
    ")\n",
    "fig.show()"
   ]
  },
  {
   "cell_type": "markdown",
   "id": "0fbf0637",
   "metadata": {},
   "source": [
    "# Dashboard"
   ]
  },
  {
   "cell_type": "code",
   "execution_count": 6,
   "id": "b90d8bff",
   "metadata": {},
   "outputs": [
    {
     "data": {
      "text/html": [
       "\n",
       "        <iframe\n",
       "            width=\"100%\"\n",
       "            height=\"650\"\n",
       "            src=\"http://localhost:8050/\"\n",
       "            frameborder=\"0\"\n",
       "            allowfullscreen\n",
       "            \n",
       "        ></iframe>\n",
       "        "
      ],
      "text/plain": [
       "<IPython.lib.display.IFrame at 0x176d5486840>"
      ]
     },
     "metadata": {},
     "output_type": "display_data"
    }
   ],
   "source": [
    "import dash\n",
    "from dash import dcc, html, Input, Output\n",
    "\n",
    "import plotly.express as px\n",
    "\n",
    "# Predefined timeframes (as examples)\n",
    "timeframes = {\n",
    "    \"2021 Q1\": (\"2021-01-01\", \"2021-03-31\"),\n",
    "    \"2021 Q2\": (\"2021-04-01\", \"2021-06-30\"),\n",
    "    \"2021 Q3\": (\"2021-07-01\", \"2021-09-30\"),\n",
    "    \"2021 Q4\": (\"2021-10-01\", \"2021-12-31\"),\n",
    "    \"2022 Q1\": (\"2022-01-01\", \"2022-03-31\"),\n",
    "    \"2022 Q2\": (\"2022-04-01\", \"2022-06-30\"),\n",
    "    \"2022 Q3\": (\"2022-07-01\", \"2022-09-30\"),\n",
    "    \"2022 Q4\": (\"2022-10-01\", \"2022-12-31\"),\n",
    "    \"2023 Q1\": (\"2023-01-01\", \"2023-03-31\"),\n",
    "    \"2023 Q2\": (\"2023-04-01\", \"2023-06-30\"),\n",
    "    \"2023 Q3\": (\"2023-07-01\", \"2023-09-30\"),\n",
    "    \"2023 Q4\": (\"2023-10-01\", \"2023-12-31\"),\n",
    "}\n",
    "\n",
    "app = dash.Dash(__name__)\n",
    "\n",
    "app.layout = html.Div([\n",
    "    html.H2(\"Weekly Distribution of Daily Metric - Timeframe Comparison\"),\n",
    "    html.Div([\n",
    "        html.Label(\"Select Timeframe 1:\"),\n",
    "        dcc.Dropdown(\n",
    "            id='timeframe1',\n",
    "            options=[{'label': k, 'value': k} for k in timeframes.keys()],\n",
    "            value='2021 Q1'\n",
    "        ),\n",
    "        html.Label(\"Select Timeframe 2:\"),\n",
    "        dcc.Dropdown(\n",
    "            id='timeframe2',\n",
    "            options=[{'label': k, 'value': k} for k in timeframes.keys()],\n",
    "            value='2023 Q1'\n",
    "        ),\n",
    "    ], style={'width': '40%', 'display': 'inline-block', 'verticalAlign': 'top'}),\n",
    "    dcc.Graph(id='comparison-graph')\n",
    "])\n",
    "\n",
    "@app.callback(\n",
    "    Output('comparison-graph', 'figure'),\n",
    "    Input('timeframe1', 'value'),\n",
    "    Input('timeframe2', 'value')\n",
    ")\n",
    "def update_graph(tf1, tf2):\n",
    "    # Filter data for each timeframe\n",
    "    tf1_start, tf1_end = timeframes[tf1]\n",
    "    tf2_start, tf2_end = timeframes[tf2]\n",
    "    df1 = ts_df[(ts_df['Date'] >= tf1_start) & (ts_df['Date'] <= tf1_end)].copy()\n",
    "    df2 = ts_df[(ts_df['Date'] >= tf2_start) & (ts_df['Date'] <= tf2_end)].copy()\n",
    "    df1['Timeframe'] = tf1\n",
    "    df2['Timeframe'] = tf2\n",
    "    compare_df = pd.concat([df1, df2])\n",
    "\n",
    "    fig = px.box(\n",
    "        compare_df,\n",
    "        x='Year-Week',\n",
    "        y='Value',\n",
    "        color='Timeframe',\n",
    "        points='all',\n",
    "        title=f'Weekly Distribution: {tf1} vs {tf2}',\n",
    "        labels={'Year-Week': 'Week', 'Value': 'Metric Value'}\n",
    "    )\n",
    "\n",
    "    # Show only the first week of each quarter for x-ticks\n",
    "    quarter_starts = compare_df.groupby([compare_df['Year'], ((compare_df['Week'] - 1) // 13) + 1])['Year-Week'].first().values\n",
    "    fig.update_xaxes(\n",
    "        tickmode='array',\n",
    "        tickvals=quarter_starts,\n",
    "        tickangle=45\n",
    "    )\n",
    "    return fig\n",
    "\n",
    "if __name__ == '__main__':\n",
    "    # app.run(debug=True)\n",
    "    app.run(host='localhost', port=8050, debug=True)"
   ]
  },
  {
   "cell_type": "markdown",
   "id": "12224d7a",
   "metadata": {},
   "source": []
  }
 ],
 "metadata": {
  "kernelspec": {
   "display_name": ".venv",
   "language": "python",
   "name": "python3"
  },
  "language_info": {
   "codemirror_mode": {
    "name": "ipython",
    "version": 3
   },
   "file_extension": ".py",
   "mimetype": "text/x-python",
   "name": "python",
   "nbconvert_exporter": "python",
   "pygments_lexer": "ipython3",
   "version": "3.12.4"
  }
 },
 "nbformat": 4,
 "nbformat_minor": 5
}
