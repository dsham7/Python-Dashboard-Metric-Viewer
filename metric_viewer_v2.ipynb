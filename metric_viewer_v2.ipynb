{
 "cells": [
  {
   "cell_type": "markdown",
   "id": "bdb3b815",
   "metadata": {},
   "source": [
    "# Generate a metric"
   ]
  },
  {
   "cell_type": "code",
   "execution_count": null,
   "id": "e6193bae",
   "metadata": {},
   "outputs": [
    {
     "name": "stdout",
     "output_type": "stream",
     "text": [
      "Mean value to date: 2.39\n",
      "Standard deviation to date: 12.80\n"
     ]
    }
   ],
   "source": [
    "import pandas as pd\n",
    "import numpy as np\n",
    "\n",
    "# Generate a date range for 3 years of daily data\n",
    "dates = pd.date_range(start='2021-01-01', end='2023-12-31', freq='D')\n",
    "# Simulate some timeseries data\n",
    "np.random.seed(42)\n",
    "values = np.random.randn(len(dates)).cumsum()  # Example: cumulative sum of random values\n",
    "\n",
    "# Create the timeseries DataFrame\n",
    "ts_df = pd.DataFrame({'Date': dates, 'Value': values})\n",
    "\n",
    "# Calculate a general metric: mean and standard deviation to date\n",
    "mean_value = ts_df['Value'].mean()\n",
    "std_value = ts_df['Value'].std()"
   ]
  },
  {
   "cell_type": "code",
   "execution_count": 2,
   "id": "b8ef80c2",
   "metadata": {},
   "outputs": [
    {
     "data": {
      "text/html": [
       "<div>\n",
       "<style scoped>\n",
       "    .dataframe tbody tr th:only-of-type {\n",
       "        vertical-align: middle;\n",
       "    }\n",
       "\n",
       "    .dataframe tbody tr th {\n",
       "        vertical-align: top;\n",
       "    }\n",
       "\n",
       "    .dataframe thead th {\n",
       "        text-align: right;\n",
       "    }\n",
       "</style>\n",
       "<table border=\"1\" class=\"dataframe\">\n",
       "  <thead>\n",
       "    <tr style=\"text-align: right;\">\n",
       "      <th></th>\n",
       "      <th>Timeframe</th>\n",
       "      <th>Mean</th>\n",
       "      <th>Std Dev</th>\n",
       "      <th>Median</th>\n",
       "      <th>Max</th>\n",
       "      <th>Min</th>\n",
       "    </tr>\n",
       "  </thead>\n",
       "  <tbody>\n",
       "    <tr>\n",
       "      <th>0</th>\n",
       "      <td>Timeframe 1: 2021-01-01 to 2021-03-31</td>\n",
       "      <td>-6.060472</td>\n",
       "      <td>4.763514</td>\n",
       "      <td>-7.935465</td>\n",
       "      <td>4.480611</td>\n",
       "      <td>-12.246656</td>\n",
       "    </tr>\n",
       "    <tr>\n",
       "      <th>1</th>\n",
       "      <td>Timeframe 2: 2022-01-01 to 2022-03-31</td>\n",
       "      <td>8.149207</td>\n",
       "      <td>3.024029</td>\n",
       "      <td>7.509933</td>\n",
       "      <td>15.635646</td>\n",
       "      <td>2.790568</td>\n",
       "    </tr>\n",
       "    <tr>\n",
       "      <th>2</th>\n",
       "      <td>Timeframe 3: 2023-01-01 to 2023-03-31</td>\n",
       "      <td>-8.846034</td>\n",
       "      <td>3.066044</td>\n",
       "      <td>-7.900965</td>\n",
       "      <td>-4.033624</td>\n",
       "      <td>-16.666107</td>\n",
       "    </tr>\n",
       "    <tr>\n",
       "      <th>3</th>\n",
       "      <td>Timeframe 4: 2021-07-01 to 2021-09-30</td>\n",
       "      <td>-2.380047</td>\n",
       "      <td>2.976460</td>\n",
       "      <td>-1.465302</td>\n",
       "      <td>2.639413</td>\n",
       "      <td>-8.154193</td>\n",
       "    </tr>\n",
       "    <tr>\n",
       "      <th>4</th>\n",
       "      <td>Timeframe 5: 2023-10-01 to 2023-12-31</td>\n",
       "      <td>31.525194</td>\n",
       "      <td>3.588265</td>\n",
       "      <td>32.017569</td>\n",
       "      <td>37.084619</td>\n",
       "      <td>21.068739</td>\n",
       "    </tr>\n",
       "  </tbody>\n",
       "</table>\n",
       "</div>"
      ],
      "text/plain": [
       "                               Timeframe       Mean   Std Dev     Median  \\\n",
       "0  Timeframe 1: 2021-01-01 to 2021-03-31  -6.060472  4.763514  -7.935465   \n",
       "1  Timeframe 2: 2022-01-01 to 2022-03-31   8.149207  3.024029   7.509933   \n",
       "2  Timeframe 3: 2023-01-01 to 2023-03-31  -8.846034  3.066044  -7.900965   \n",
       "3  Timeframe 4: 2021-07-01 to 2021-09-30  -2.380047  2.976460  -1.465302   \n",
       "4  Timeframe 5: 2023-10-01 to 2023-12-31  31.525194  3.588265  32.017569   \n",
       "\n",
       "         Max        Min  \n",
       "0   4.480611 -12.246656  \n",
       "1  15.635646   2.790568  \n",
       "2  -4.033624 -16.666107  \n",
       "3   2.639413  -8.154193  \n",
       "4  37.084619  21.068739  "
      ]
     },
     "execution_count": 2,
     "metadata": {},
     "output_type": "execute_result"
    }
   ],
   "source": [
    "# Define 5 custom metrics as functions\n",
    "def metric_mean(series):\n",
    "    return series.mean()\n",
    "\n",
    "def metric_std(series):\n",
    "    return series.std()\n",
    "\n",
    "def metric_median(series):\n",
    "    return series.median()\n",
    "\n",
    "def metric_max(series):\n",
    "    return series.max()\n",
    "\n",
    "def metric_min(series):\n",
    "    return series.min()\n",
    "\n",
    "# List of metrics and their names for reporting\n",
    "metrics = [\n",
    "    (\"Mean\", metric_mean),\n",
    "    (\"Std Dev\", metric_std),\n",
    "    (\"Median\", metric_median),\n",
    "    (\"Max\", metric_max),\n",
    "    (\"Min\", metric_min)\n",
    "]\n",
    "\n",
    "# Example: set timeframes to compare (can be customized)\n",
    "custom_timeframes = [\n",
    "    (\"2021-01-01\", \"2021-03-31\"),\n",
    "    (\"2022-01-01\", \"2022-03-31\"),\n",
    "    (\"2023-01-01\", \"2023-03-31\"),\n",
    "    (\"2021-07-01\", \"2021-09-30\"),\n",
    "    (\"2023-10-01\", \"2023-12-31\"),\n",
    "]\n",
    "\n",
    "# Calculate metrics for each timeframe\n",
    "results = []\n",
    "for idx, (start, end) in enumerate(custom_timeframes):\n",
    "    df_tf = ts_df[(ts_df['Date'] >= start) & (ts_df['Date'] <= end)]\n",
    "    metric_values = [func(df_tf['Value']) for _, func in metrics]\n",
    "    results.append([f\"Timeframe {idx+1}: {start} to {end}\"] + metric_values)\n",
    "\n",
    "# Create a DataFrame for easy viewing\n",
    "metrics_df = pd.DataFrame(\n",
    "    results,\n",
    "    columns=[\"Timeframe\"] + [name for name, _ in metrics]\n",
    ")\n",
    "metrics_df"
   ]
  },
  {
   "cell_type": "code",
   "execution_count": 3,
   "id": "f35efb96",
   "metadata": {},
   "outputs": [
    {
     "data": {
      "text/html": [
       "<div>\n",
       "<style scoped>\n",
       "    .dataframe tbody tr th:only-of-type {\n",
       "        vertical-align: middle;\n",
       "    }\n",
       "\n",
       "    .dataframe tbody tr th {\n",
       "        vertical-align: top;\n",
       "    }\n",
       "\n",
       "    .dataframe thead th {\n",
       "        text-align: right;\n",
       "    }\n",
       "</style>\n",
       "<table border=\"1\" class=\"dataframe\">\n",
       "  <thead>\n",
       "    <tr style=\"text-align: right;\">\n",
       "      <th></th>\n",
       "      <th>Date</th>\n",
       "      <th>Value</th>\n",
       "      <th>Series</th>\n",
       "    </tr>\n",
       "  </thead>\n",
       "  <tbody>\n",
       "    <tr>\n",
       "      <th>0</th>\n",
       "      <td>2021-01-01</td>\n",
       "      <td>-0.080717</td>\n",
       "      <td>Series 1</td>\n",
       "    </tr>\n",
       "    <tr>\n",
       "      <th>1</th>\n",
       "      <td>2021-01-02</td>\n",
       "      <td>0.078635</td>\n",
       "      <td>Series 1</td>\n",
       "    </tr>\n",
       "    <tr>\n",
       "      <th>2</th>\n",
       "      <td>2021-01-03</td>\n",
       "      <td>-1.998201</td>\n",
       "      <td>Series 1</td>\n",
       "    </tr>\n",
       "    <tr>\n",
       "      <th>3</th>\n",
       "      <td>2021-01-04</td>\n",
       "      <td>0.916328</td>\n",
       "      <td>Series 1</td>\n",
       "    </tr>\n",
       "    <tr>\n",
       "      <th>4</th>\n",
       "      <td>2021-01-05</td>\n",
       "      <td>0.346488</td>\n",
       "      <td>Series 1</td>\n",
       "    </tr>\n",
       "  </tbody>\n",
       "</table>\n",
       "</div>"
      ],
      "text/plain": [
       "        Date     Value    Series\n",
       "0 2021-01-01 -0.080717  Series 1\n",
       "1 2021-01-02  0.078635  Series 1\n",
       "2 2021-01-03 -1.998201  Series 1\n",
       "3 2021-01-04  0.916328  Series 1\n",
       "4 2021-01-05  0.346488  Series 1"
      ]
     },
     "execution_count": 3,
     "metadata": {},
     "output_type": "execute_result"
    }
   ],
   "source": [
    "# Function to generate a timeseries with custom mean and std for each timeframe\n",
    "def generate_custom_timeseries(dates, timeframes, params):\n",
    "    \"\"\"\n",
    "    dates: DatetimeIndex for the full period\n",
    "    timeframes: list of (start, end) tuples\n",
    "    params: list of (mean, std) tuples, one per timeframe\n",
    "    Returns: DataFrame with Date and Value columns\n",
    "    \"\"\"\n",
    "    values = np.zeros(len(dates))\n",
    "    for (start, end), (mu, sigma) in zip(timeframes, params):\n",
    "        mask = (dates >= start) & (dates <= end)\n",
    "        n = mask.sum()\n",
    "        # Generate values for this timeframe\n",
    "        values[mask] = np.random.normal(loc=mu, scale=sigma, size=n)\n",
    "    return pd.DataFrame({'Date': dates, 'Value': values})\n",
    "\n",
    "# Example: define statistical parameters for 5 new timeseries (mean, std) for each timeframe\n",
    "stat_params_list = [\n",
    "    [(0, 1), (2, 1), (4, 1), (6, 1), (8, 1)],      # Series 1: increasing mean\n",
    "    [(5, 2), (5, 2), (5, 2), (5, 2), (5, 2)],      # Series 2: constant mean/std\n",
    "    [(0, 1), (0, 2), (0, 3), (0, 4), (0, 5)],      # Series 3: increasing std\n",
    "    [(-2, 1), (0, 1), (2, 1), (0, 1), (-2, 1)],    # Series 4: mean up and down\n",
    "    [(2, 1), (4, 2), (6, 3), (8, 4), (10, 5)],     # Series 5: both mean and std increase\n",
    "]\n",
    "\n",
    "# Generate the 5 new timeseries\n",
    "custom_series_list = []\n",
    "for i, params in enumerate(stat_params_list):\n",
    "    df = generate_custom_timeseries(dates, custom_timeframes, params)\n",
    "    df['Series'] = f\"Series {i+1}\"\n",
    "    custom_series_list.append(df)\n",
    "\n",
    "# Combine all into one DataFrame for easy plotting/analysis\n",
    "all_custom_series_df = pd.concat(custom_series_list, ignore_index=True)\n",
    "all_custom_series_df.head()"
   ]
  },
  {
   "cell_type": "markdown",
   "id": "f6875e14",
   "metadata": {},
   "source": [
    "# Analyze and report"
   ]
  },
  {
   "cell_type": "code",
   "execution_count": 4,
   "id": "0a9a85b3",
   "metadata": {},
   "outputs": [
    {
     "data": {
      "text/html": [
       "<div>\n",
       "<style scoped>\n",
       "    .dataframe tbody tr th:only-of-type {\n",
       "        vertical-align: middle;\n",
       "    }\n",
       "\n",
       "    .dataframe tbody tr th {\n",
       "        vertical-align: top;\n",
       "    }\n",
       "\n",
       "    .dataframe thead th {\n",
       "        text-align: right;\n",
       "    }\n",
       "</style>\n",
       "<table border=\"1\" class=\"dataframe\">\n",
       "  <thead>\n",
       "    <tr style=\"text-align: right;\">\n",
       "      <th></th>\n",
       "      <th>Timeframe</th>\n",
       "      <th>Mean</th>\n",
       "      <th>Std Dev</th>\n",
       "      <th>Median</th>\n",
       "      <th>Max</th>\n",
       "      <th>Min</th>\n",
       "    </tr>\n",
       "  </thead>\n",
       "  <tbody>\n",
       "    <tr>\n",
       "      <th>0</th>\n",
       "      <td>Timeframe 1: 2021-01-01 to 2021-03-31</td>\n",
       "      <td>0.124424</td>\n",
       "      <td>1.142110</td>\n",
       "      <td>0.190497</td>\n",
       "      <td>2.439752</td>\n",
       "      <td>-2.896255</td>\n",
       "    </tr>\n",
       "    <tr>\n",
       "      <th>1</th>\n",
       "      <td>Timeframe 2: 2022-01-01 to 2022-03-31</td>\n",
       "      <td>2.008253</td>\n",
       "      <td>0.962751</td>\n",
       "      <td>2.007223</td>\n",
       "      <td>4.579709</td>\n",
       "      <td>0.006264</td>\n",
       "    </tr>\n",
       "    <tr>\n",
       "      <th>2</th>\n",
       "      <td>Timeframe 3: 2023-01-01 to 2023-03-31</td>\n",
       "      <td>3.947170</td>\n",
       "      <td>0.970244</td>\n",
       "      <td>4.019267</td>\n",
       "      <td>6.493000</td>\n",
       "      <td>1.408958</td>\n",
       "    </tr>\n",
       "    <tr>\n",
       "      <th>3</th>\n",
       "      <td>Timeframe 4: 2021-07-01 to 2021-09-30</td>\n",
       "      <td>6.220654</td>\n",
       "      <td>1.002035</td>\n",
       "      <td>6.254673</td>\n",
       "      <td>8.601683</td>\n",
       "      <td>4.033643</td>\n",
       "    </tr>\n",
       "    <tr>\n",
       "      <th>4</th>\n",
       "      <td>Timeframe 5: 2023-10-01 to 2023-12-31</td>\n",
       "      <td>8.101259</td>\n",
       "      <td>1.055671</td>\n",
       "      <td>7.984555</td>\n",
       "      <td>10.558199</td>\n",
       "      <td>5.127738</td>\n",
       "    </tr>\n",
       "  </tbody>\n",
       "</table>\n",
       "</div>"
      ],
      "text/plain": [
       "                               Timeframe      Mean   Std Dev    Median  \\\n",
       "0  Timeframe 1: 2021-01-01 to 2021-03-31  0.124424  1.142110  0.190497   \n",
       "1  Timeframe 2: 2022-01-01 to 2022-03-31  2.008253  0.962751  2.007223   \n",
       "2  Timeframe 3: 2023-01-01 to 2023-03-31  3.947170  0.970244  4.019267   \n",
       "3  Timeframe 4: 2021-07-01 to 2021-09-30  6.220654  1.002035  6.254673   \n",
       "4  Timeframe 5: 2023-10-01 to 2023-12-31  8.101259  1.055671  7.984555   \n",
       "\n",
       "         Max       Min  \n",
       "0   2.439752 -2.896255  \n",
       "1   4.579709  0.006264  \n",
       "2   6.493000  1.408958  \n",
       "3   8.601683  4.033643  \n",
       "4  10.558199  5.127738  "
      ]
     },
     "execution_count": 4,
     "metadata": {},
     "output_type": "execute_result"
    }
   ],
   "source": [
    "# Create a metrics table for each series in all_custom_series_df\n",
    "\n",
    "metrics_tables = {}\n",
    "for series_name in all_custom_series_df['Series'].unique():\n",
    "    df_series = all_custom_series_df[all_custom_series_df['Series'] == series_name]\n",
    "    results = []\n",
    "    for idx, (start, end) in enumerate(custom_timeframes):\n",
    "        df_tf = df_series[(df_series['Date'] >= start) & (df_series['Date'] <= end)]\n",
    "        metric_values = [func(df_tf['Value']) for _, func in metrics]\n",
    "        results.append([f\"Timeframe {idx+1}: {start} to {end}\"] + metric_values)\n",
    "    metrics_tables[series_name] = pd.DataFrame(\n",
    "        results,\n",
    "        columns=[\"Timeframe\"] + [name for name, _ in metrics]\n",
    "    )\n",
    "\n",
    "# Example: display the metrics table for \"Series 1\"\n",
    "metrics_tables[\"Series 1\"]"
   ]
  },
  {
   "cell_type": "code",
   "execution_count": 5,
   "id": "cfa4837c",
   "metadata": {},
   "outputs": [
    {
     "data": {
      "text/html": [
       "<div>\n",
       "<style scoped>\n",
       "    .dataframe tbody tr th:only-of-type {\n",
       "        vertical-align: middle;\n",
       "    }\n",
       "\n",
       "    .dataframe tbody tr th {\n",
       "        vertical-align: top;\n",
       "    }\n",
       "\n",
       "    .dataframe thead th {\n",
       "        text-align: right;\n",
       "    }\n",
       "</style>\n",
       "<table border=\"1\" class=\"dataframe\">\n",
       "  <thead>\n",
       "    <tr style=\"text-align: right;\">\n",
       "      <th></th>\n",
       "      <th>Timeframe 1</th>\n",
       "      <th>Timeframe 2</th>\n",
       "      <th>Timeframe 3</th>\n",
       "      <th>Timeframe 4</th>\n",
       "      <th>Timeframe 5</th>\n",
       "    </tr>\n",
       "  </thead>\n",
       "  <tbody>\n",
       "    <tr>\n",
       "      <th>Timeframe 1</th>\n",
       "      <td>1.000000</td>\n",
       "      <td>0.007947</td>\n",
       "      <td>-0.095700</td>\n",
       "      <td>-0.095627</td>\n",
       "      <td>0.074158</td>\n",
       "    </tr>\n",
       "    <tr>\n",
       "      <th>Timeframe 2</th>\n",
       "      <td>0.007947</td>\n",
       "      <td>1.000000</td>\n",
       "      <td>-0.081286</td>\n",
       "      <td>0.090134</td>\n",
       "      <td>0.079722</td>\n",
       "    </tr>\n",
       "    <tr>\n",
       "      <th>Timeframe 3</th>\n",
       "      <td>-0.095700</td>\n",
       "      <td>-0.081286</td>\n",
       "      <td>1.000000</td>\n",
       "      <td>-0.079972</td>\n",
       "      <td>-0.027009</td>\n",
       "    </tr>\n",
       "    <tr>\n",
       "      <th>Timeframe 4</th>\n",
       "      <td>-0.095627</td>\n",
       "      <td>0.090134</td>\n",
       "      <td>-0.079972</td>\n",
       "      <td>1.000000</td>\n",
       "      <td>-0.169452</td>\n",
       "    </tr>\n",
       "    <tr>\n",
       "      <th>Timeframe 5</th>\n",
       "      <td>0.074158</td>\n",
       "      <td>0.079722</td>\n",
       "      <td>-0.027009</td>\n",
       "      <td>-0.169452</td>\n",
       "      <td>1.000000</td>\n",
       "    </tr>\n",
       "  </tbody>\n",
       "</table>\n",
       "</div>"
      ],
      "text/plain": [
       "             Timeframe 1  Timeframe 2  Timeframe 3  Timeframe 4  Timeframe 5\n",
       "Timeframe 1     1.000000     0.007947    -0.095700    -0.095627     0.074158\n",
       "Timeframe 2     0.007947     1.000000    -0.081286     0.090134     0.079722\n",
       "Timeframe 3    -0.095700    -0.081286     1.000000    -0.079972    -0.027009\n",
       "Timeframe 4    -0.095627     0.090134    -0.079972     1.000000    -0.169452\n",
       "Timeframe 5     0.074158     0.079722    -0.027009    -0.169452     1.000000"
      ]
     },
     "execution_count": 5,
     "metadata": {},
     "output_type": "execute_result"
    }
   ],
   "source": [
    "# Calculate the correlation between the values of each timeseries across the 5 custom timeframes\n",
    "\n",
    "series_corrs = {}\n",
    "\n",
    "for series_name in all_custom_series_df['Series'].unique():\n",
    "    df_series = all_custom_series_df[all_custom_series_df['Series'] == series_name]\n",
    "    # For each timeframe, extract the values as a list\n",
    "    values_by_timeframe = []\n",
    "    for start, end in custom_timeframes:\n",
    "        tf_values = df_series[(df_series['Date'] >= start) & (df_series['Date'] <= end)]['Value'].values\n",
    "        values_by_timeframe.append(tf_values)\n",
    "    # To compute correlation, all arrays must be the same length; use the minimum length\n",
    "    min_len = min(len(arr) for arr in values_by_timeframe)\n",
    "    trimmed = [arr[:min_len] for arr in values_by_timeframe]\n",
    "    # Stack as columns and compute correlation\n",
    "    data = np.column_stack(trimmed)\n",
    "    corr = pd.DataFrame(\n",
    "        np.corrcoef(data, rowvar=False),\n",
    "        index=[f\"Timeframe {i+1}\" for i in range(len(custom_timeframes))],\n",
    "        columns=[f\"Timeframe {i+1}\" for i in range(len(custom_timeframes))]\n",
    "    )\n",
    "    series_corrs[series_name] = corr\n",
    "\n",
    "# Example: show the correlation matrix for Series 1\n",
    "series_corrs[\"Series 1\"]"
   ]
  },
  {
   "cell_type": "code",
   "execution_count": 9,
   "id": "c418f6fe",
   "metadata": {},
   "outputs": [
    {
     "data": {
      "text/html": [
       "<div>\n",
       "<style scoped>\n",
       "    .dataframe tbody tr th:only-of-type {\n",
       "        vertical-align: middle;\n",
       "    }\n",
       "\n",
       "    .dataframe tbody tr th {\n",
       "        vertical-align: top;\n",
       "    }\n",
       "\n",
       "    .dataframe thead th {\n",
       "        text-align: right;\n",
       "    }\n",
       "</style>\n",
       "<table border=\"1\" class=\"dataframe\">\n",
       "  <thead>\n",
       "    <tr style=\"text-align: right;\">\n",
       "      <th></th>\n",
       "      <th>Series 1</th>\n",
       "      <th>Series 2</th>\n",
       "      <th>Series 3</th>\n",
       "      <th>Series 4</th>\n",
       "      <th>Series 5</th>\n",
       "    </tr>\n",
       "  </thead>\n",
       "  <tbody>\n",
       "    <tr>\n",
       "      <th>Series 1</th>\n",
       "      <td>1.000000</td>\n",
       "      <td>0.087982</td>\n",
       "      <td>-0.213407</td>\n",
       "      <td>0.104350</td>\n",
       "      <td>-0.000549</td>\n",
       "    </tr>\n",
       "    <tr>\n",
       "      <th>Series 2</th>\n",
       "      <td>0.087982</td>\n",
       "      <td>1.000000</td>\n",
       "      <td>-0.124899</td>\n",
       "      <td>-0.119029</td>\n",
       "      <td>-0.233384</td>\n",
       "    </tr>\n",
       "    <tr>\n",
       "      <th>Series 3</th>\n",
       "      <td>-0.213407</td>\n",
       "      <td>-0.124899</td>\n",
       "      <td>1.000000</td>\n",
       "      <td>-0.141579</td>\n",
       "      <td>0.066368</td>\n",
       "    </tr>\n",
       "    <tr>\n",
       "      <th>Series 4</th>\n",
       "      <td>0.104350</td>\n",
       "      <td>-0.119029</td>\n",
       "      <td>-0.141579</td>\n",
       "      <td>1.000000</td>\n",
       "      <td>0.116496</td>\n",
       "    </tr>\n",
       "    <tr>\n",
       "      <th>Series 5</th>\n",
       "      <td>-0.000549</td>\n",
       "      <td>-0.233384</td>\n",
       "      <td>0.066368</td>\n",
       "      <td>0.116496</td>\n",
       "      <td>1.000000</td>\n",
       "    </tr>\n",
       "  </tbody>\n",
       "</table>\n",
       "</div>"
      ],
      "text/plain": [
       "          Series 1  Series 2  Series 3  Series 4  Series 5\n",
       "Series 1  1.000000  0.087982 -0.213407  0.104350 -0.000549\n",
       "Series 2  0.087982  1.000000 -0.124899 -0.119029 -0.233384\n",
       "Series 3 -0.213407 -0.124899  1.000000 -0.141579  0.066368\n",
       "Series 4  0.104350 -0.119029 -0.141579  1.000000  0.116496\n",
       "Series 5 -0.000549 -0.233384  0.066368  0.116496  1.000000"
      ]
     },
     "execution_count": 9,
     "metadata": {},
     "output_type": "execute_result"
    }
   ],
   "source": [
    "# Calculate the correlation between the values of each series across the 5 custom series for each timeframe\n",
    "\n",
    "series_names = [f\"Series {i+1}\" for i in range(5)]\n",
    "correlations_across_series = {}\n",
    "\n",
    "for idx, (start, end) in enumerate(custom_timeframes):\n",
    "    # For each series, extract the values for this timeframe\n",
    "    values_by_series = []\n",
    "    for series_name in series_names:\n",
    "        df_series = all_custom_series_df[all_custom_series_df['Series'] == series_name]\n",
    "        tf_values = df_series[(df_series['Date'] >= start) & (df_series['Date'] <= end)]['Value'].values\n",
    "        values_by_series.append(tf_values)\n",
    "    # To compute correlation, all arrays must be the same length; use the minimum length\n",
    "    min_len = min(len(arr) for arr in values_by_series)\n",
    "    trimmed = [arr[:min_len] for arr in values_by_series]\n",
    "    # Stack as columns and compute correlation\n",
    "    data = np.column_stack(trimmed)\n",
    "    corr = pd.DataFrame(\n",
    "        np.corrcoef(data, rowvar=False),\n",
    "        index=series_names,\n",
    "        columns=series_names\n",
    "    )\n",
    "    correlations_across_series[f\"Timeframe {idx+1}: {start} to {end}\"] = corr\n",
    "\n",
    "# Example: show the correlation matrix for the first timeframe\n",
    "correlations_across_series[\"Timeframe 1: 2021-01-01 to 2021-03-31\"]"
   ]
  },
  {
   "cell_type": "markdown",
   "id": "5fa9abb3",
   "metadata": {},
   "source": [
    "## What do we have for plotting?\n",
    "* all_custom_series_df\n",
    "* metrics_tables\n",
    "* series_corrs\n",
    "* correlations_across_series"
   ]
  },
  {
   "cell_type": "code",
   "execution_count": null,
   "id": "53573ea6",
   "metadata": {},
   "outputs": [
    {
     "data": {
      "text/plain": [
       "[(Timestamp('2021-01-01 00:00:00'), Timestamp('2021-03-31 00:00:00')),\n",
       " (Timestamp('2022-01-01 00:00:00'), Timestamp('2022-03-31 00:00:00')),\n",
       " (Timestamp('2023-01-01 00:00:00'), Timestamp('2023-03-31 00:00:00')),\n",
       " (Timestamp('2021-07-01 00:00:00'), Timestamp('2021-09-30 00:00:00')),\n",
       " (Timestamp('2023-10-01 00:00:00'), Timestamp('2023-12-31 00:00:00'))]"
      ]
     },
     "execution_count": 24,
     "metadata": {},
     "output_type": "execute_result"
    }
   ],
   "source": [
    "# Convert custom_timeframes from str to datetime objects\n",
    "custom_timeframes_dt = [\n",
    "    (pd.to_datetime(start), pd.to_datetime(end))\n",
    "    for start, end in custom_timeframes\n",
    "]"
   ]
  },
  {
   "cell_type": "code",
   "execution_count": null,
   "id": "196583d7",
   "metadata": {},
   "outputs": [],
   "source": [
    "from plotly.subplots import make_subplots\n",
    "\n",
    "import plotly.graph_objs as go\n",
    "\n",
    "def plot_series_summary(series_name):\n",
    "    # 1. Filter data for the selected series\n",
    "    df_series = all_custom_series_df[all_custom_series_df['Series'] == series_name]\n",
    "    metrics_df = metrics_tables[series_name].copy()\n",
    "    corr_df = series_corrs[series_name].copy()\n",
    "    tf_label = list(correlations_across_series.keys())[0]\n",
    "    corr_across = correlations_across_series[tf_label].copy()\n",
    "\n",
    "    # Format metrics table: round numbers and shorten timeframe labels\n",
    "    metrics_df = metrics_df.round(2)\n",
    "    metrics_df['Timeframe'] = [f\"TF{i+1}\" for i in range(len(metrics_df))]\n",
    "    # Format correlation matrices: round and shorten index/columns\n",
    "    short_labels = [f\"TF{i+1}\" for i in range(len(corr_df))]\n",
    "    corr_df.index = short_labels\n",
    "    corr_df.columns = short_labels\n",
    "    corr_df = corr_df.round(2)\n",
    "    corr_across.index = [f\"S{i+1}\" for i in range(len(corr_across))]\n",
    "    corr_across.columns = [f\"S{i+1}\" for i in range(len(corr_across))]\n",
    "    corr_across = corr_across.round(2)\n",
    "\n",
    "    # Define light colors for each timeframe\n",
    "    tf_colors = [\n",
    "        \"rgba(255, 235, 205, 0.7)\",  # light yellow\n",
    "        \"rgba(204, 236, 255, 0.7)\",  # light blue\n",
    "        \"rgba(204, 255, 204, 0.7)\",  # light green\n",
    "        \"rgba(255, 204, 229, 0.7)\",  # light pink\n",
    "        \"rgba(255, 255, 204, 0.7)\",  # light cream\n",
    "    ]\n",
    "\n",
    "    # 2. Create subplots\n",
    "    fig = make_subplots(\n",
    "        rows=2, cols=2,\n",
    "        subplot_titles=[\n",
    "            f\"Timeseries: {series_name}\",\n",
    "            \"Metrics Table\",\n",
    "            \"Correlation (Timeframes)\",\n",
    "            \"Correlation (Across Series)\"\n",
    "        ],\n",
    "        specs=[[{\"type\": \"scatter\"}, {\"type\": \"table\"}],\n",
    "               [{\"type\": \"heatmap\"}, {\"type\": \"heatmap\"}]]\n",
    "    )\n",
    "\n",
    "    # Add background rectangles for each timeframe in the timeseries plot\n",
    "    # Timeseries plot\n",
    "    fig.add_trace(\n",
    "        go.Scatter(\n",
    "            x=df_series['Date'],\n",
    "            y=df_series['Value'],\n",
    "            mode='lines',\n",
    "            name=series_name\n",
    "        ),\n",
    "        row=1, col=1\n",
    "    )\n",
    "\n",
    "    for i, (start, end) in enumerate(custom_timeframes_dt):\n",
    "        fig.add_vrect(\n",
    "            x0=start, x1=end,\n",
    "            fillcolor=tf_colors[i % len(tf_colors)],\n",
    "            opacity=1,\n",
    "            layer=\"below\",\n",
    "            line_width=0,\n",
    "            row=1, col=1\n",
    "        )\n",
    "\n",
    "    cell_colors = []\n",
    "    for col in metrics_df.columns:\n",
    "        if col == 'Timeframe':\n",
    "            cell_colors.append(tf_colors)\n",
    "        else:\n",
    "            cell_colors.append(['lavender'] * len(metrics_df))\n",
    "\n",
    "    # Add table trace\n",
    "    fig.add_trace(\n",
    "        go.Table(\n",
    "            header=dict(\n",
    "                values=list(metrics_df.columns),\n",
    "                fill_color='paleturquoise',\n",
    "                align='left'\n",
    "            ),\n",
    "            cells=dict(\n",
    "                values=[metrics_df[col] for col in metrics_df.columns],\n",
    "                fill_color=cell_colors,\n",
    "                align='left'\n",
    "            )\n",
    "        ),\n",
    "        row=1, col=2\n",
    "    )\n",
    "    # Correlation (Timeframes)\n",
    "    fig.add_trace(\n",
    "        go.Heatmap(\n",
    "            z=corr_df.values,\n",
    "            x=corr_df.columns,\n",
    "            y=corr_df.index,\n",
    "            colorscale='RdBu',\n",
    "            zmin=-1, zmax=1,\n",
    "            colorbar=dict(title=\"Corr\"),\n",
    "            showscale=True\n",
    "        ),\n",
    "        row=2, col=1\n",
    "    )\n",
    "\n",
    "    # Correlation (Across Series) for first timeframe\n",
    "    fig.add_trace(\n",
    "        go.Heatmap(\n",
    "            z=corr_across.values,\n",
    "            x=corr_across.columns,\n",
    "            y=corr_across.index,\n",
    "            colorscale='RdBu',\n",
    "            zmin=-1, zmax=1,\n",
    "            colorbar=dict(title=\"Corr\"),\n",
    "            showscale=True\n",
    "        ),\n",
    "        row=2, col=2\n",
    "    )\n",
    "\n",
    "    fig.update_layout(\n",
    "        height=900, width=1200,\n",
    "        showlegend=False,\n",
    "        title_text=f\"Summary for {series_name}\",\n",
    "        margin=dict(t=60)\n",
    "    )\n",
    "    fig.show()"
   ]
  },
  {
   "cell_type": "code",
   "execution_count": 38,
   "id": "875add44",
   "metadata": {},
   "outputs": [
    {
     "data": {
      "application/vnd.plotly.v1+json": {
       "config": {
        "plotlyServerURL": "https://plot.ly"
       },
       "data": [
        {
         "mode": "lines",
         "name": "Series 2",
         "type": "scatter",
         "x": [
          "2021-01-01T00:00:00.000000000",
          "2021-01-02T00:00:00.000000000",
          "2021-01-03T00:00:00.000000000",
          "2021-01-04T00:00:00.000000000",
          "2021-01-05T00:00:00.000000000",
          "2021-01-06T00:00:00.000000000",
          "2021-01-07T00:00:00.000000000",
          "2021-01-08T00:00:00.000000000",
          "2021-01-09T00:00:00.000000000",
          "2021-01-10T00:00:00.000000000",
          "2021-01-11T00:00:00.000000000",
          "2021-01-12T00:00:00.000000000",
          "2021-01-13T00:00:00.000000000",
          "2021-01-14T00:00:00.000000000",
          "2021-01-15T00:00:00.000000000",
          "2021-01-16T00:00:00.000000000",
          "2021-01-17T00:00:00.000000000",
          "2021-01-18T00:00:00.000000000",
          "2021-01-19T00:00:00.000000000",
          "2021-01-20T00:00:00.000000000",
          "2021-01-21T00:00:00.000000000",
          "2021-01-22T00:00:00.000000000",
          "2021-01-23T00:00:00.000000000",
          "2021-01-24T00:00:00.000000000",
          "2021-01-25T00:00:00.000000000",
          "2021-01-26T00:00:00.000000000",
          "2021-01-27T00:00:00.000000000",
          "2021-01-28T00:00:00.000000000",
          "2021-01-29T00:00:00.000000000",
          "2021-01-30T00:00:00.000000000",
          "2021-01-31T00:00:00.000000000",
          "2021-02-01T00:00:00.000000000",
          "2021-02-02T00:00:00.000000000",
          "2021-02-03T00:00:00.000000000",
          "2021-02-04T00:00:00.000000000",
          "2021-02-05T00:00:00.000000000",
          "2021-02-06T00:00:00.000000000",
          "2021-02-07T00:00:00.000000000",
          "2021-02-08T00:00:00.000000000",
          "2021-02-09T00:00:00.000000000",
          "2021-02-10T00:00:00.000000000",
          "2021-02-11T00:00:00.000000000",
          "2021-02-12T00:00:00.000000000",
          "2021-02-13T00:00:00.000000000",
          "2021-02-14T00:00:00.000000000",
          "2021-02-15T00:00:00.000000000",
          "2021-02-16T00:00:00.000000000",
          "2021-02-17T00:00:00.000000000",
          "2021-02-18T00:00:00.000000000",
          "2021-02-19T00:00:00.000000000",
          "2021-02-20T00:00:00.000000000",
          "2021-02-21T00:00:00.000000000",
          "2021-02-22T00:00:00.000000000",
          "2021-02-23T00:00:00.000000000",
          "2021-02-24T00:00:00.000000000",
          "2021-02-25T00:00:00.000000000",
          "2021-02-26T00:00:00.000000000",
          "2021-02-27T00:00:00.000000000",
          "2021-02-28T00:00:00.000000000",
          "2021-03-01T00:00:00.000000000",
          "2021-03-02T00:00:00.000000000",
          "2021-03-03T00:00:00.000000000",
          "2021-03-04T00:00:00.000000000",
          "2021-03-05T00:00:00.000000000",
          "2021-03-06T00:00:00.000000000",
          "2021-03-07T00:00:00.000000000",
          "2021-03-08T00:00:00.000000000",
          "2021-03-09T00:00:00.000000000",
          "2021-03-10T00:00:00.000000000",
          "2021-03-11T00:00:00.000000000",
          "2021-03-12T00:00:00.000000000",
          "2021-03-13T00:00:00.000000000",
          "2021-03-14T00:00:00.000000000",
          "2021-03-15T00:00:00.000000000",
          "2021-03-16T00:00:00.000000000",
          "2021-03-17T00:00:00.000000000",
          "2021-03-18T00:00:00.000000000",
          "2021-03-19T00:00:00.000000000",
          "2021-03-20T00:00:00.000000000",
          "2021-03-21T00:00:00.000000000",
          "2021-03-22T00:00:00.000000000",
          "2021-03-23T00:00:00.000000000",
          "2021-03-24T00:00:00.000000000",
          "2021-03-25T00:00:00.000000000",
          "2021-03-26T00:00:00.000000000",
          "2021-03-27T00:00:00.000000000",
          "2021-03-28T00:00:00.000000000",
          "2021-03-29T00:00:00.000000000",
          "2021-03-30T00:00:00.000000000",
          "2021-03-31T00:00:00.000000000",
          "2021-04-01T00:00:00.000000000",
          "2021-04-02T00:00:00.000000000",
          "2021-04-03T00:00:00.000000000",
          "2021-04-04T00:00:00.000000000",
          "2021-04-05T00:00:00.000000000",
          "2021-04-06T00:00:00.000000000",
          "2021-04-07T00:00:00.000000000",
          "2021-04-08T00:00:00.000000000",
          "2021-04-09T00:00:00.000000000",
          "2021-04-10T00:00:00.000000000",
          "2021-04-11T00:00:00.000000000",
          "2021-04-12T00:00:00.000000000",
          "2021-04-13T00:00:00.000000000",
          "2021-04-14T00:00:00.000000000",
          "2021-04-15T00:00:00.000000000",
          "2021-04-16T00:00:00.000000000",
          "2021-04-17T00:00:00.000000000",
          "2021-04-18T00:00:00.000000000",
          "2021-04-19T00:00:00.000000000",
          "2021-04-20T00:00:00.000000000",
          "2021-04-21T00:00:00.000000000",
          "2021-04-22T00:00:00.000000000",
          "2021-04-23T00:00:00.000000000",
          "2021-04-24T00:00:00.000000000",
          "2021-04-25T00:00:00.000000000",
          "2021-04-26T00:00:00.000000000",
          "2021-04-27T00:00:00.000000000",
          "2021-04-28T00:00:00.000000000",
          "2021-04-29T00:00:00.000000000",
          "2021-04-30T00:00:00.000000000",
          "2021-05-01T00:00:00.000000000",
          "2021-05-02T00:00:00.000000000",
          "2021-05-03T00:00:00.000000000",
          "2021-05-04T00:00:00.000000000",
          "2021-05-05T00:00:00.000000000",
          "2021-05-06T00:00:00.000000000",
          "2021-05-07T00:00:00.000000000",
          "2021-05-08T00:00:00.000000000",
          "2021-05-09T00:00:00.000000000",
          "2021-05-10T00:00:00.000000000",
          "2021-05-11T00:00:00.000000000",
          "2021-05-12T00:00:00.000000000",
          "2021-05-13T00:00:00.000000000",
          "2021-05-14T00:00:00.000000000",
          "2021-05-15T00:00:00.000000000",
          "2021-05-16T00:00:00.000000000",
          "2021-05-17T00:00:00.000000000",
          "2021-05-18T00:00:00.000000000",
          "2021-05-19T00:00:00.000000000",
          "2021-05-20T00:00:00.000000000",
          "2021-05-21T00:00:00.000000000",
          "2021-05-22T00:00:00.000000000",
          "2021-05-23T00:00:00.000000000",
          "2021-05-24T00:00:00.000000000",
          "2021-05-25T00:00:00.000000000",
          "2021-05-26T00:00:00.000000000",
          "2021-05-27T00:00:00.000000000",
          "2021-05-28T00:00:00.000000000",
          "2021-05-29T00:00:00.000000000",
          "2021-05-30T00:00:00.000000000",
          "2021-05-31T00:00:00.000000000",
          "2021-06-01T00:00:00.000000000",
          "2021-06-02T00:00:00.000000000",
          "2021-06-03T00:00:00.000000000",
          "2021-06-04T00:00:00.000000000",
          "2021-06-05T00:00:00.000000000",
          "2021-06-06T00:00:00.000000000",
          "2021-06-07T00:00:00.000000000",
          "2021-06-08T00:00:00.000000000",
          "2021-06-09T00:00:00.000000000",
          "2021-06-10T00:00:00.000000000",
          "2021-06-11T00:00:00.000000000",
          "2021-06-12T00:00:00.000000000",
          "2021-06-13T00:00:00.000000000",
          "2021-06-14T00:00:00.000000000",
          "2021-06-15T00:00:00.000000000",
          "2021-06-16T00:00:00.000000000",
          "2021-06-17T00:00:00.000000000",
          "2021-06-18T00:00:00.000000000",
          "2021-06-19T00:00:00.000000000",
          "2021-06-20T00:00:00.000000000",
          "2021-06-21T00:00:00.000000000",
          "2021-06-22T00:00:00.000000000",
          "2021-06-23T00:00:00.000000000",
          "2021-06-24T00:00:00.000000000",
          "2021-06-25T00:00:00.000000000",
          "2021-06-26T00:00:00.000000000",
          "2021-06-27T00:00:00.000000000",
          "2021-06-28T00:00:00.000000000",
          "2021-06-29T00:00:00.000000000",
          "2021-06-30T00:00:00.000000000",
          "2021-07-01T00:00:00.000000000",
          "2021-07-02T00:00:00.000000000",
          "2021-07-03T00:00:00.000000000",
          "2021-07-04T00:00:00.000000000",
          "2021-07-05T00:00:00.000000000",
          "2021-07-06T00:00:00.000000000",
          "2021-07-07T00:00:00.000000000",
          "2021-07-08T00:00:00.000000000",
          "2021-07-09T00:00:00.000000000",
          "2021-07-10T00:00:00.000000000",
          "2021-07-11T00:00:00.000000000",
          "2021-07-12T00:00:00.000000000",
          "2021-07-13T00:00:00.000000000",
          "2021-07-14T00:00:00.000000000",
          "2021-07-15T00:00:00.000000000",
          "2021-07-16T00:00:00.000000000",
          "2021-07-17T00:00:00.000000000",
          "2021-07-18T00:00:00.000000000",
          "2021-07-19T00:00:00.000000000",
          "2021-07-20T00:00:00.000000000",
          "2021-07-21T00:00:00.000000000",
          "2021-07-22T00:00:00.000000000",
          "2021-07-23T00:00:00.000000000",
          "2021-07-24T00:00:00.000000000",
          "2021-07-25T00:00:00.000000000",
          "2021-07-26T00:00:00.000000000",
          "2021-07-27T00:00:00.000000000",
          "2021-07-28T00:00:00.000000000",
          "2021-07-29T00:00:00.000000000",
          "2021-07-30T00:00:00.000000000",
          "2021-07-31T00:00:00.000000000",
          "2021-08-01T00:00:00.000000000",
          "2021-08-02T00:00:00.000000000",
          "2021-08-03T00:00:00.000000000",
          "2021-08-04T00:00:00.000000000",
          "2021-08-05T00:00:00.000000000",
          "2021-08-06T00:00:00.000000000",
          "2021-08-07T00:00:00.000000000",
          "2021-08-08T00:00:00.000000000",
          "2021-08-09T00:00:00.000000000",
          "2021-08-10T00:00:00.000000000",
          "2021-08-11T00:00:00.000000000",
          "2021-08-12T00:00:00.000000000",
          "2021-08-13T00:00:00.000000000",
          "2021-08-14T00:00:00.000000000",
          "2021-08-15T00:00:00.000000000",
          "2021-08-16T00:00:00.000000000",
          "2021-08-17T00:00:00.000000000",
          "2021-08-18T00:00:00.000000000",
          "2021-08-19T00:00:00.000000000",
          "2021-08-20T00:00:00.000000000",
          "2021-08-21T00:00:00.000000000",
          "2021-08-22T00:00:00.000000000",
          "2021-08-23T00:00:00.000000000",
          "2021-08-24T00:00:00.000000000",
          "2021-08-25T00:00:00.000000000",
          "2021-08-26T00:00:00.000000000",
          "2021-08-27T00:00:00.000000000",
          "2021-08-28T00:00:00.000000000",
          "2021-08-29T00:00:00.000000000",
          "2021-08-30T00:00:00.000000000",
          "2021-08-31T00:00:00.000000000",
          "2021-09-01T00:00:00.000000000",
          "2021-09-02T00:00:00.000000000",
          "2021-09-03T00:00:00.000000000",
          "2021-09-04T00:00:00.000000000",
          "2021-09-05T00:00:00.000000000",
          "2021-09-06T00:00:00.000000000",
          "2021-09-07T00:00:00.000000000",
          "2021-09-08T00:00:00.000000000",
          "2021-09-09T00:00:00.000000000",
          "2021-09-10T00:00:00.000000000",
          "2021-09-11T00:00:00.000000000",
          "2021-09-12T00:00:00.000000000",
          "2021-09-13T00:00:00.000000000",
          "2021-09-14T00:00:00.000000000",
          "2021-09-15T00:00:00.000000000",
          "2021-09-16T00:00:00.000000000",
          "2021-09-17T00:00:00.000000000",
          "2021-09-18T00:00:00.000000000",
          "2021-09-19T00:00:00.000000000",
          "2021-09-20T00:00:00.000000000",
          "2021-09-21T00:00:00.000000000",
          "2021-09-22T00:00:00.000000000",
          "2021-09-23T00:00:00.000000000",
          "2021-09-24T00:00:00.000000000",
          "2021-09-25T00:00:00.000000000",
          "2021-09-26T00:00:00.000000000",
          "2021-09-27T00:00:00.000000000",
          "2021-09-28T00:00:00.000000000",
          "2021-09-29T00:00:00.000000000",
          "2021-09-30T00:00:00.000000000",
          "2021-10-01T00:00:00.000000000",
          "2021-10-02T00:00:00.000000000",
          "2021-10-03T00:00:00.000000000",
          "2021-10-04T00:00:00.000000000",
          "2021-10-05T00:00:00.000000000",
          "2021-10-06T00:00:00.000000000",
          "2021-10-07T00:00:00.000000000",
          "2021-10-08T00:00:00.000000000",
          "2021-10-09T00:00:00.000000000",
          "2021-10-10T00:00:00.000000000",
          "2021-10-11T00:00:00.000000000",
          "2021-10-12T00:00:00.000000000",
          "2021-10-13T00:00:00.000000000",
          "2021-10-14T00:00:00.000000000",
          "2021-10-15T00:00:00.000000000",
          "2021-10-16T00:00:00.000000000",
          "2021-10-17T00:00:00.000000000",
          "2021-10-18T00:00:00.000000000",
          "2021-10-19T00:00:00.000000000",
          "2021-10-20T00:00:00.000000000",
          "2021-10-21T00:00:00.000000000",
          "2021-10-22T00:00:00.000000000",
          "2021-10-23T00:00:00.000000000",
          "2021-10-24T00:00:00.000000000",
          "2021-10-25T00:00:00.000000000",
          "2021-10-26T00:00:00.000000000",
          "2021-10-27T00:00:00.000000000",
          "2021-10-28T00:00:00.000000000",
          "2021-10-29T00:00:00.000000000",
          "2021-10-30T00:00:00.000000000",
          "2021-10-31T00:00:00.000000000",
          "2021-11-01T00:00:00.000000000",
          "2021-11-02T00:00:00.000000000",
          "2021-11-03T00:00:00.000000000",
          "2021-11-04T00:00:00.000000000",
          "2021-11-05T00:00:00.000000000",
          "2021-11-06T00:00:00.000000000",
          "2021-11-07T00:00:00.000000000",
          "2021-11-08T00:00:00.000000000",
          "2021-11-09T00:00:00.000000000",
          "2021-11-10T00:00:00.000000000",
          "2021-11-11T00:00:00.000000000",
          "2021-11-12T00:00:00.000000000",
          "2021-11-13T00:00:00.000000000",
          "2021-11-14T00:00:00.000000000",
          "2021-11-15T00:00:00.000000000",
          "2021-11-16T00:00:00.000000000",
          "2021-11-17T00:00:00.000000000",
          "2021-11-18T00:00:00.000000000",
          "2021-11-19T00:00:00.000000000",
          "2021-11-20T00:00:00.000000000",
          "2021-11-21T00:00:00.000000000",
          "2021-11-22T00:00:00.000000000",
          "2021-11-23T00:00:00.000000000",
          "2021-11-24T00:00:00.000000000",
          "2021-11-25T00:00:00.000000000",
          "2021-11-26T00:00:00.000000000",
          "2021-11-27T00:00:00.000000000",
          "2021-11-28T00:00:00.000000000",
          "2021-11-29T00:00:00.000000000",
          "2021-11-30T00:00:00.000000000",
          "2021-12-01T00:00:00.000000000",
          "2021-12-02T00:00:00.000000000",
          "2021-12-03T00:00:00.000000000",
          "2021-12-04T00:00:00.000000000",
          "2021-12-05T00:00:00.000000000",
          "2021-12-06T00:00:00.000000000",
          "2021-12-07T00:00:00.000000000",
          "2021-12-08T00:00:00.000000000",
          "2021-12-09T00:00:00.000000000",
          "2021-12-10T00:00:00.000000000",
          "2021-12-11T00:00:00.000000000",
          "2021-12-12T00:00:00.000000000",
          "2021-12-13T00:00:00.000000000",
          "2021-12-14T00:00:00.000000000",
          "2021-12-15T00:00:00.000000000",
          "2021-12-16T00:00:00.000000000",
          "2021-12-17T00:00:00.000000000",
          "2021-12-18T00:00:00.000000000",
          "2021-12-19T00:00:00.000000000",
          "2021-12-20T00:00:00.000000000",
          "2021-12-21T00:00:00.000000000",
          "2021-12-22T00:00:00.000000000",
          "2021-12-23T00:00:00.000000000",
          "2021-12-24T00:00:00.000000000",
          "2021-12-25T00:00:00.000000000",
          "2021-12-26T00:00:00.000000000",
          "2021-12-27T00:00:00.000000000",
          "2021-12-28T00:00:00.000000000",
          "2021-12-29T00:00:00.000000000",
          "2021-12-30T00:00:00.000000000",
          "2021-12-31T00:00:00.000000000",
          "2022-01-01T00:00:00.000000000",
          "2022-01-02T00:00:00.000000000",
          "2022-01-03T00:00:00.000000000",
          "2022-01-04T00:00:00.000000000",
          "2022-01-05T00:00:00.000000000",
          "2022-01-06T00:00:00.000000000",
          "2022-01-07T00:00:00.000000000",
          "2022-01-08T00:00:00.000000000",
          "2022-01-09T00:00:00.000000000",
          "2022-01-10T00:00:00.000000000",
          "2022-01-11T00:00:00.000000000",
          "2022-01-12T00:00:00.000000000",
          "2022-01-13T00:00:00.000000000",
          "2022-01-14T00:00:00.000000000",
          "2022-01-15T00:00:00.000000000",
          "2022-01-16T00:00:00.000000000",
          "2022-01-17T00:00:00.000000000",
          "2022-01-18T00:00:00.000000000",
          "2022-01-19T00:00:00.000000000",
          "2022-01-20T00:00:00.000000000",
          "2022-01-21T00:00:00.000000000",
          "2022-01-22T00:00:00.000000000",
          "2022-01-23T00:00:00.000000000",
          "2022-01-24T00:00:00.000000000",
          "2022-01-25T00:00:00.000000000",
          "2022-01-26T00:00:00.000000000",
          "2022-01-27T00:00:00.000000000",
          "2022-01-28T00:00:00.000000000",
          "2022-01-29T00:00:00.000000000",
          "2022-01-30T00:00:00.000000000",
          "2022-01-31T00:00:00.000000000",
          "2022-02-01T00:00:00.000000000",
          "2022-02-02T00:00:00.000000000",
          "2022-02-03T00:00:00.000000000",
          "2022-02-04T00:00:00.000000000",
          "2022-02-05T00:00:00.000000000",
          "2022-02-06T00:00:00.000000000",
          "2022-02-07T00:00:00.000000000",
          "2022-02-08T00:00:00.000000000",
          "2022-02-09T00:00:00.000000000",
          "2022-02-10T00:00:00.000000000",
          "2022-02-11T00:00:00.000000000",
          "2022-02-12T00:00:00.000000000",
          "2022-02-13T00:00:00.000000000",
          "2022-02-14T00:00:00.000000000",
          "2022-02-15T00:00:00.000000000",
          "2022-02-16T00:00:00.000000000",
          "2022-02-17T00:00:00.000000000",
          "2022-02-18T00:00:00.000000000",
          "2022-02-19T00:00:00.000000000",
          "2022-02-20T00:00:00.000000000",
          "2022-02-21T00:00:00.000000000",
          "2022-02-22T00:00:00.000000000",
          "2022-02-23T00:00:00.000000000",
          "2022-02-24T00:00:00.000000000",
          "2022-02-25T00:00:00.000000000",
          "2022-02-26T00:00:00.000000000",
          "2022-02-27T00:00:00.000000000",
          "2022-02-28T00:00:00.000000000",
          "2022-03-01T00:00:00.000000000",
          "2022-03-02T00:00:00.000000000",
          "2022-03-03T00:00:00.000000000",
          "2022-03-04T00:00:00.000000000",
          "2022-03-05T00:00:00.000000000",
          "2022-03-06T00:00:00.000000000",
          "2022-03-07T00:00:00.000000000",
          "2022-03-08T00:00:00.000000000",
          "2022-03-09T00:00:00.000000000",
          "2022-03-10T00:00:00.000000000",
          "2022-03-11T00:00:00.000000000",
          "2022-03-12T00:00:00.000000000",
          "2022-03-13T00:00:00.000000000",
          "2022-03-14T00:00:00.000000000",
          "2022-03-15T00:00:00.000000000",
          "2022-03-16T00:00:00.000000000",
          "2022-03-17T00:00:00.000000000",
          "2022-03-18T00:00:00.000000000",
          "2022-03-19T00:00:00.000000000",
          "2022-03-20T00:00:00.000000000",
          "2022-03-21T00:00:00.000000000",
          "2022-03-22T00:00:00.000000000",
          "2022-03-23T00:00:00.000000000",
          "2022-03-24T00:00:00.000000000",
          "2022-03-25T00:00:00.000000000",
          "2022-03-26T00:00:00.000000000",
          "2022-03-27T00:00:00.000000000",
          "2022-03-28T00:00:00.000000000",
          "2022-03-29T00:00:00.000000000",
          "2022-03-30T00:00:00.000000000",
          "2022-03-31T00:00:00.000000000",
          "2022-04-01T00:00:00.000000000",
          "2022-04-02T00:00:00.000000000",
          "2022-04-03T00:00:00.000000000",
          "2022-04-04T00:00:00.000000000",
          "2022-04-05T00:00:00.000000000",
          "2022-04-06T00:00:00.000000000",
          "2022-04-07T00:00:00.000000000",
          "2022-04-08T00:00:00.000000000",
          "2022-04-09T00:00:00.000000000",
          "2022-04-10T00:00:00.000000000",
          "2022-04-11T00:00:00.000000000",
          "2022-04-12T00:00:00.000000000",
          "2022-04-13T00:00:00.000000000",
          "2022-04-14T00:00:00.000000000",
          "2022-04-15T00:00:00.000000000",
          "2022-04-16T00:00:00.000000000",
          "2022-04-17T00:00:00.000000000",
          "2022-04-18T00:00:00.000000000",
          "2022-04-19T00:00:00.000000000",
          "2022-04-20T00:00:00.000000000",
          "2022-04-21T00:00:00.000000000",
          "2022-04-22T00:00:00.000000000",
          "2022-04-23T00:00:00.000000000",
          "2022-04-24T00:00:00.000000000",
          "2022-04-25T00:00:00.000000000",
          "2022-04-26T00:00:00.000000000",
          "2022-04-27T00:00:00.000000000",
          "2022-04-28T00:00:00.000000000",
          "2022-04-29T00:00:00.000000000",
          "2022-04-30T00:00:00.000000000",
          "2022-05-01T00:00:00.000000000",
          "2022-05-02T00:00:00.000000000",
          "2022-05-03T00:00:00.000000000",
          "2022-05-04T00:00:00.000000000",
          "2022-05-05T00:00:00.000000000",
          "2022-05-06T00:00:00.000000000",
          "2022-05-07T00:00:00.000000000",
          "2022-05-08T00:00:00.000000000",
          "2022-05-09T00:00:00.000000000",
          "2022-05-10T00:00:00.000000000",
          "2022-05-11T00:00:00.000000000",
          "2022-05-12T00:00:00.000000000",
          "2022-05-13T00:00:00.000000000",
          "2022-05-14T00:00:00.000000000",
          "2022-05-15T00:00:00.000000000",
          "2022-05-16T00:00:00.000000000",
          "2022-05-17T00:00:00.000000000",
          "2022-05-18T00:00:00.000000000",
          "2022-05-19T00:00:00.000000000",
          "2022-05-20T00:00:00.000000000",
          "2022-05-21T00:00:00.000000000",
          "2022-05-22T00:00:00.000000000",
          "2022-05-23T00:00:00.000000000",
          "2022-05-24T00:00:00.000000000",
          "2022-05-25T00:00:00.000000000",
          "2022-05-26T00:00:00.000000000",
          "2022-05-27T00:00:00.000000000",
          "2022-05-28T00:00:00.000000000",
          "2022-05-29T00:00:00.000000000",
          "2022-05-30T00:00:00.000000000",
          "2022-05-31T00:00:00.000000000",
          "2022-06-01T00:00:00.000000000",
          "2022-06-02T00:00:00.000000000",
          "2022-06-03T00:00:00.000000000",
          "2022-06-04T00:00:00.000000000",
          "2022-06-05T00:00:00.000000000",
          "2022-06-06T00:00:00.000000000",
          "2022-06-07T00:00:00.000000000",
          "2022-06-08T00:00:00.000000000",
          "2022-06-09T00:00:00.000000000",
          "2022-06-10T00:00:00.000000000",
          "2022-06-11T00:00:00.000000000",
          "2022-06-12T00:00:00.000000000",
          "2022-06-13T00:00:00.000000000",
          "2022-06-14T00:00:00.000000000",
          "2022-06-15T00:00:00.000000000",
          "2022-06-16T00:00:00.000000000",
          "2022-06-17T00:00:00.000000000",
          "2022-06-18T00:00:00.000000000",
          "2022-06-19T00:00:00.000000000",
          "2022-06-20T00:00:00.000000000",
          "2022-06-21T00:00:00.000000000",
          "2022-06-22T00:00:00.000000000",
          "2022-06-23T00:00:00.000000000",
          "2022-06-24T00:00:00.000000000",
          "2022-06-25T00:00:00.000000000",
          "2022-06-26T00:00:00.000000000",
          "2022-06-27T00:00:00.000000000",
          "2022-06-28T00:00:00.000000000",
          "2022-06-29T00:00:00.000000000",
          "2022-06-30T00:00:00.000000000",
          "2022-07-01T00:00:00.000000000",
          "2022-07-02T00:00:00.000000000",
          "2022-07-03T00:00:00.000000000",
          "2022-07-04T00:00:00.000000000",
          "2022-07-05T00:00:00.000000000",
          "2022-07-06T00:00:00.000000000",
          "2022-07-07T00:00:00.000000000",
          "2022-07-08T00:00:00.000000000",
          "2022-07-09T00:00:00.000000000",
          "2022-07-10T00:00:00.000000000",
          "2022-07-11T00:00:00.000000000",
          "2022-07-12T00:00:00.000000000",
          "2022-07-13T00:00:00.000000000",
          "2022-07-14T00:00:00.000000000",
          "2022-07-15T00:00:00.000000000",
          "2022-07-16T00:00:00.000000000",
          "2022-07-17T00:00:00.000000000",
          "2022-07-18T00:00:00.000000000",
          "2022-07-19T00:00:00.000000000",
          "2022-07-20T00:00:00.000000000",
          "2022-07-21T00:00:00.000000000",
          "2022-07-22T00:00:00.000000000",
          "2022-07-23T00:00:00.000000000",
          "2022-07-24T00:00:00.000000000",
          "2022-07-25T00:00:00.000000000",
          "2022-07-26T00:00:00.000000000",
          "2022-07-27T00:00:00.000000000",
          "2022-07-28T00:00:00.000000000",
          "2022-07-29T00:00:00.000000000",
          "2022-07-30T00:00:00.000000000",
          "2022-07-31T00:00:00.000000000",
          "2022-08-01T00:00:00.000000000",
          "2022-08-02T00:00:00.000000000",
          "2022-08-03T00:00:00.000000000",
          "2022-08-04T00:00:00.000000000",
          "2022-08-05T00:00:00.000000000",
          "2022-08-06T00:00:00.000000000",
          "2022-08-07T00:00:00.000000000",
          "2022-08-08T00:00:00.000000000",
          "2022-08-09T00:00:00.000000000",
          "2022-08-10T00:00:00.000000000",
          "2022-08-11T00:00:00.000000000",
          "2022-08-12T00:00:00.000000000",
          "2022-08-13T00:00:00.000000000",
          "2022-08-14T00:00:00.000000000",
          "2022-08-15T00:00:00.000000000",
          "2022-08-16T00:00:00.000000000",
          "2022-08-17T00:00:00.000000000",
          "2022-08-18T00:00:00.000000000",
          "2022-08-19T00:00:00.000000000",
          "2022-08-20T00:00:00.000000000",
          "2022-08-21T00:00:00.000000000",
          "2022-08-22T00:00:00.000000000",
          "2022-08-23T00:00:00.000000000",
          "2022-08-24T00:00:00.000000000",
          "2022-08-25T00:00:00.000000000",
          "2022-08-26T00:00:00.000000000",
          "2022-08-27T00:00:00.000000000",
          "2022-08-28T00:00:00.000000000",
          "2022-08-29T00:00:00.000000000",
          "2022-08-30T00:00:00.000000000",
          "2022-08-31T00:00:00.000000000",
          "2022-09-01T00:00:00.000000000",
          "2022-09-02T00:00:00.000000000",
          "2022-09-03T00:00:00.000000000",
          "2022-09-04T00:00:00.000000000",
          "2022-09-05T00:00:00.000000000",
          "2022-09-06T00:00:00.000000000",
          "2022-09-07T00:00:00.000000000",
          "2022-09-08T00:00:00.000000000",
          "2022-09-09T00:00:00.000000000",
          "2022-09-10T00:00:00.000000000",
          "2022-09-11T00:00:00.000000000",
          "2022-09-12T00:00:00.000000000",
          "2022-09-13T00:00:00.000000000",
          "2022-09-14T00:00:00.000000000",
          "2022-09-15T00:00:00.000000000",
          "2022-09-16T00:00:00.000000000",
          "2022-09-17T00:00:00.000000000",
          "2022-09-18T00:00:00.000000000",
          "2022-09-19T00:00:00.000000000",
          "2022-09-20T00:00:00.000000000",
          "2022-09-21T00:00:00.000000000",
          "2022-09-22T00:00:00.000000000",
          "2022-09-23T00:00:00.000000000",
          "2022-09-24T00:00:00.000000000",
          "2022-09-25T00:00:00.000000000",
          "2022-09-26T00:00:00.000000000",
          "2022-09-27T00:00:00.000000000",
          "2022-09-28T00:00:00.000000000",
          "2022-09-29T00:00:00.000000000",
          "2022-09-30T00:00:00.000000000",
          "2022-10-01T00:00:00.000000000",
          "2022-10-02T00:00:00.000000000",
          "2022-10-03T00:00:00.000000000",
          "2022-10-04T00:00:00.000000000",
          "2022-10-05T00:00:00.000000000",
          "2022-10-06T00:00:00.000000000",
          "2022-10-07T00:00:00.000000000",
          "2022-10-08T00:00:00.000000000",
          "2022-10-09T00:00:00.000000000",
          "2022-10-10T00:00:00.000000000",
          "2022-10-11T00:00:00.000000000",
          "2022-10-12T00:00:00.000000000",
          "2022-10-13T00:00:00.000000000",
          "2022-10-14T00:00:00.000000000",
          "2022-10-15T00:00:00.000000000",
          "2022-10-16T00:00:00.000000000",
          "2022-10-17T00:00:00.000000000",
          "2022-10-18T00:00:00.000000000",
          "2022-10-19T00:00:00.000000000",
          "2022-10-20T00:00:00.000000000",
          "2022-10-21T00:00:00.000000000",
          "2022-10-22T00:00:00.000000000",
          "2022-10-23T00:00:00.000000000",
          "2022-10-24T00:00:00.000000000",
          "2022-10-25T00:00:00.000000000",
          "2022-10-26T00:00:00.000000000",
          "2022-10-27T00:00:00.000000000",
          "2022-10-28T00:00:00.000000000",
          "2022-10-29T00:00:00.000000000",
          "2022-10-30T00:00:00.000000000",
          "2022-10-31T00:00:00.000000000",
          "2022-11-01T00:00:00.000000000",
          "2022-11-02T00:00:00.000000000",
          "2022-11-03T00:00:00.000000000",
          "2022-11-04T00:00:00.000000000",
          "2022-11-05T00:00:00.000000000",
          "2022-11-06T00:00:00.000000000",
          "2022-11-07T00:00:00.000000000",
          "2022-11-08T00:00:00.000000000",
          "2022-11-09T00:00:00.000000000",
          "2022-11-10T00:00:00.000000000",
          "2022-11-11T00:00:00.000000000",
          "2022-11-12T00:00:00.000000000",
          "2022-11-13T00:00:00.000000000",
          "2022-11-14T00:00:00.000000000",
          "2022-11-15T00:00:00.000000000",
          "2022-11-16T00:00:00.000000000",
          "2022-11-17T00:00:00.000000000",
          "2022-11-18T00:00:00.000000000",
          "2022-11-19T00:00:00.000000000",
          "2022-11-20T00:00:00.000000000",
          "2022-11-21T00:00:00.000000000",
          "2022-11-22T00:00:00.000000000",
          "2022-11-23T00:00:00.000000000",
          "2022-11-24T00:00:00.000000000",
          "2022-11-25T00:00:00.000000000",
          "2022-11-26T00:00:00.000000000",
          "2022-11-27T00:00:00.000000000",
          "2022-11-28T00:00:00.000000000",
          "2022-11-29T00:00:00.000000000",
          "2022-11-30T00:00:00.000000000",
          "2022-12-01T00:00:00.000000000",
          "2022-12-02T00:00:00.000000000",
          "2022-12-03T00:00:00.000000000",
          "2022-12-04T00:00:00.000000000",
          "2022-12-05T00:00:00.000000000",
          "2022-12-06T00:00:00.000000000",
          "2022-12-07T00:00:00.000000000",
          "2022-12-08T00:00:00.000000000",
          "2022-12-09T00:00:00.000000000",
          "2022-12-10T00:00:00.000000000",
          "2022-12-11T00:00:00.000000000",
          "2022-12-12T00:00:00.000000000",
          "2022-12-13T00:00:00.000000000",
          "2022-12-14T00:00:00.000000000",
          "2022-12-15T00:00:00.000000000",
          "2022-12-16T00:00:00.000000000",
          "2022-12-17T00:00:00.000000000",
          "2022-12-18T00:00:00.000000000",
          "2022-12-19T00:00:00.000000000",
          "2022-12-20T00:00:00.000000000",
          "2022-12-21T00:00:00.000000000",
          "2022-12-22T00:00:00.000000000",
          "2022-12-23T00:00:00.000000000",
          "2022-12-24T00:00:00.000000000",
          "2022-12-25T00:00:00.000000000",
          "2022-12-26T00:00:00.000000000",
          "2022-12-27T00:00:00.000000000",
          "2022-12-28T00:00:00.000000000",
          "2022-12-29T00:00:00.000000000",
          "2022-12-30T00:00:00.000000000",
          "2022-12-31T00:00:00.000000000",
          "2023-01-01T00:00:00.000000000",
          "2023-01-02T00:00:00.000000000",
          "2023-01-03T00:00:00.000000000",
          "2023-01-04T00:00:00.000000000",
          "2023-01-05T00:00:00.000000000",
          "2023-01-06T00:00:00.000000000",
          "2023-01-07T00:00:00.000000000",
          "2023-01-08T00:00:00.000000000",
          "2023-01-09T00:00:00.000000000",
          "2023-01-10T00:00:00.000000000",
          "2023-01-11T00:00:00.000000000",
          "2023-01-12T00:00:00.000000000",
          "2023-01-13T00:00:00.000000000",
          "2023-01-14T00:00:00.000000000",
          "2023-01-15T00:00:00.000000000",
          "2023-01-16T00:00:00.000000000",
          "2023-01-17T00:00:00.000000000",
          "2023-01-18T00:00:00.000000000",
          "2023-01-19T00:00:00.000000000",
          "2023-01-20T00:00:00.000000000",
          "2023-01-21T00:00:00.000000000",
          "2023-01-22T00:00:00.000000000",
          "2023-01-23T00:00:00.000000000",
          "2023-01-24T00:00:00.000000000",
          "2023-01-25T00:00:00.000000000",
          "2023-01-26T00:00:00.000000000",
          "2023-01-27T00:00:00.000000000",
          "2023-01-28T00:00:00.000000000",
          "2023-01-29T00:00:00.000000000",
          "2023-01-30T00:00:00.000000000",
          "2023-01-31T00:00:00.000000000",
          "2023-02-01T00:00:00.000000000",
          "2023-02-02T00:00:00.000000000",
          "2023-02-03T00:00:00.000000000",
          "2023-02-04T00:00:00.000000000",
          "2023-02-05T00:00:00.000000000",
          "2023-02-06T00:00:00.000000000",
          "2023-02-07T00:00:00.000000000",
          "2023-02-08T00:00:00.000000000",
          "2023-02-09T00:00:00.000000000",
          "2023-02-10T00:00:00.000000000",
          "2023-02-11T00:00:00.000000000",
          "2023-02-12T00:00:00.000000000",
          "2023-02-13T00:00:00.000000000",
          "2023-02-14T00:00:00.000000000",
          "2023-02-15T00:00:00.000000000",
          "2023-02-16T00:00:00.000000000",
          "2023-02-17T00:00:00.000000000",
          "2023-02-18T00:00:00.000000000",
          "2023-02-19T00:00:00.000000000",
          "2023-02-20T00:00:00.000000000",
          "2023-02-21T00:00:00.000000000",
          "2023-02-22T00:00:00.000000000",
          "2023-02-23T00:00:00.000000000",
          "2023-02-24T00:00:00.000000000",
          "2023-02-25T00:00:00.000000000",
          "2023-02-26T00:00:00.000000000",
          "2023-02-27T00:00:00.000000000",
          "2023-02-28T00:00:00.000000000",
          "2023-03-01T00:00:00.000000000",
          "2023-03-02T00:00:00.000000000",
          "2023-03-03T00:00:00.000000000",
          "2023-03-04T00:00:00.000000000",
          "2023-03-05T00:00:00.000000000",
          "2023-03-06T00:00:00.000000000",
          "2023-03-07T00:00:00.000000000",
          "2023-03-08T00:00:00.000000000",
          "2023-03-09T00:00:00.000000000",
          "2023-03-10T00:00:00.000000000",
          "2023-03-11T00:00:00.000000000",
          "2023-03-12T00:00:00.000000000",
          "2023-03-13T00:00:00.000000000",
          "2023-03-14T00:00:00.000000000",
          "2023-03-15T00:00:00.000000000",
          "2023-03-16T00:00:00.000000000",
          "2023-03-17T00:00:00.000000000",
          "2023-03-18T00:00:00.000000000",
          "2023-03-19T00:00:00.000000000",
          "2023-03-20T00:00:00.000000000",
          "2023-03-21T00:00:00.000000000",
          "2023-03-22T00:00:00.000000000",
          "2023-03-23T00:00:00.000000000",
          "2023-03-24T00:00:00.000000000",
          "2023-03-25T00:00:00.000000000",
          "2023-03-26T00:00:00.000000000",
          "2023-03-27T00:00:00.000000000",
          "2023-03-28T00:00:00.000000000",
          "2023-03-29T00:00:00.000000000",
          "2023-03-30T00:00:00.000000000",
          "2023-03-31T00:00:00.000000000",
          "2023-04-01T00:00:00.000000000",
          "2023-04-02T00:00:00.000000000",
          "2023-04-03T00:00:00.000000000",
          "2023-04-04T00:00:00.000000000",
          "2023-04-05T00:00:00.000000000",
          "2023-04-06T00:00:00.000000000",
          "2023-04-07T00:00:00.000000000",
          "2023-04-08T00:00:00.000000000",
          "2023-04-09T00:00:00.000000000",
          "2023-04-10T00:00:00.000000000",
          "2023-04-11T00:00:00.000000000",
          "2023-04-12T00:00:00.000000000",
          "2023-04-13T00:00:00.000000000",
          "2023-04-14T00:00:00.000000000",
          "2023-04-15T00:00:00.000000000",
          "2023-04-16T00:00:00.000000000",
          "2023-04-17T00:00:00.000000000",
          "2023-04-18T00:00:00.000000000",
          "2023-04-19T00:00:00.000000000",
          "2023-04-20T00:00:00.000000000",
          "2023-04-21T00:00:00.000000000",
          "2023-04-22T00:00:00.000000000",
          "2023-04-23T00:00:00.000000000",
          "2023-04-24T00:00:00.000000000",
          "2023-04-25T00:00:00.000000000",
          "2023-04-26T00:00:00.000000000",
          "2023-04-27T00:00:00.000000000",
          "2023-04-28T00:00:00.000000000",
          "2023-04-29T00:00:00.000000000",
          "2023-04-30T00:00:00.000000000",
          "2023-05-01T00:00:00.000000000",
          "2023-05-02T00:00:00.000000000",
          "2023-05-03T00:00:00.000000000",
          "2023-05-04T00:00:00.000000000",
          "2023-05-05T00:00:00.000000000",
          "2023-05-06T00:00:00.000000000",
          "2023-05-07T00:00:00.000000000",
          "2023-05-08T00:00:00.000000000",
          "2023-05-09T00:00:00.000000000",
          "2023-05-10T00:00:00.000000000",
          "2023-05-11T00:00:00.000000000",
          "2023-05-12T00:00:00.000000000",
          "2023-05-13T00:00:00.000000000",
          "2023-05-14T00:00:00.000000000",
          "2023-05-15T00:00:00.000000000",
          "2023-05-16T00:00:00.000000000",
          "2023-05-17T00:00:00.000000000",
          "2023-05-18T00:00:00.000000000",
          "2023-05-19T00:00:00.000000000",
          "2023-05-20T00:00:00.000000000",
          "2023-05-21T00:00:00.000000000",
          "2023-05-22T00:00:00.000000000",
          "2023-05-23T00:00:00.000000000",
          "2023-05-24T00:00:00.000000000",
          "2023-05-25T00:00:00.000000000",
          "2023-05-26T00:00:00.000000000",
          "2023-05-27T00:00:00.000000000",
          "2023-05-28T00:00:00.000000000",
          "2023-05-29T00:00:00.000000000",
          "2023-05-30T00:00:00.000000000",
          "2023-05-31T00:00:00.000000000",
          "2023-06-01T00:00:00.000000000",
          "2023-06-02T00:00:00.000000000",
          "2023-06-03T00:00:00.000000000",
          "2023-06-04T00:00:00.000000000",
          "2023-06-05T00:00:00.000000000",
          "2023-06-06T00:00:00.000000000",
          "2023-06-07T00:00:00.000000000",
          "2023-06-08T00:00:00.000000000",
          "2023-06-09T00:00:00.000000000",
          "2023-06-10T00:00:00.000000000",
          "2023-06-11T00:00:00.000000000",
          "2023-06-12T00:00:00.000000000",
          "2023-06-13T00:00:00.000000000",
          "2023-06-14T00:00:00.000000000",
          "2023-06-15T00:00:00.000000000",
          "2023-06-16T00:00:00.000000000",
          "2023-06-17T00:00:00.000000000",
          "2023-06-18T00:00:00.000000000",
          "2023-06-19T00:00:00.000000000",
          "2023-06-20T00:00:00.000000000",
          "2023-06-21T00:00:00.000000000",
          "2023-06-22T00:00:00.000000000",
          "2023-06-23T00:00:00.000000000",
          "2023-06-24T00:00:00.000000000",
          "2023-06-25T00:00:00.000000000",
          "2023-06-26T00:00:00.000000000",
          "2023-06-27T00:00:00.000000000",
          "2023-06-28T00:00:00.000000000",
          "2023-06-29T00:00:00.000000000",
          "2023-06-30T00:00:00.000000000",
          "2023-07-01T00:00:00.000000000",
          "2023-07-02T00:00:00.000000000",
          "2023-07-03T00:00:00.000000000",
          "2023-07-04T00:00:00.000000000",
          "2023-07-05T00:00:00.000000000",
          "2023-07-06T00:00:00.000000000",
          "2023-07-07T00:00:00.000000000",
          "2023-07-08T00:00:00.000000000",
          "2023-07-09T00:00:00.000000000",
          "2023-07-10T00:00:00.000000000",
          "2023-07-11T00:00:00.000000000",
          "2023-07-12T00:00:00.000000000",
          "2023-07-13T00:00:00.000000000",
          "2023-07-14T00:00:00.000000000",
          "2023-07-15T00:00:00.000000000",
          "2023-07-16T00:00:00.000000000",
          "2023-07-17T00:00:00.000000000",
          "2023-07-18T00:00:00.000000000",
          "2023-07-19T00:00:00.000000000",
          "2023-07-20T00:00:00.000000000",
          "2023-07-21T00:00:00.000000000",
          "2023-07-22T00:00:00.000000000",
          "2023-07-23T00:00:00.000000000",
          "2023-07-24T00:00:00.000000000",
          "2023-07-25T00:00:00.000000000",
          "2023-07-26T00:00:00.000000000",
          "2023-07-27T00:00:00.000000000",
          "2023-07-28T00:00:00.000000000",
          "2023-07-29T00:00:00.000000000",
          "2023-07-30T00:00:00.000000000",
          "2023-07-31T00:00:00.000000000",
          "2023-08-01T00:00:00.000000000",
          "2023-08-02T00:00:00.000000000",
          "2023-08-03T00:00:00.000000000",
          "2023-08-04T00:00:00.000000000",
          "2023-08-05T00:00:00.000000000",
          "2023-08-06T00:00:00.000000000",
          "2023-08-07T00:00:00.000000000",
          "2023-08-08T00:00:00.000000000",
          "2023-08-09T00:00:00.000000000",
          "2023-08-10T00:00:00.000000000",
          "2023-08-11T00:00:00.000000000",
          "2023-08-12T00:00:00.000000000",
          "2023-08-13T00:00:00.000000000",
          "2023-08-14T00:00:00.000000000",
          "2023-08-15T00:00:00.000000000",
          "2023-08-16T00:00:00.000000000",
          "2023-08-17T00:00:00.000000000",
          "2023-08-18T00:00:00.000000000",
          "2023-08-19T00:00:00.000000000",
          "2023-08-20T00:00:00.000000000",
          "2023-08-21T00:00:00.000000000",
          "2023-08-22T00:00:00.000000000",
          "2023-08-23T00:00:00.000000000",
          "2023-08-24T00:00:00.000000000",
          "2023-08-25T00:00:00.000000000",
          "2023-08-26T00:00:00.000000000",
          "2023-08-27T00:00:00.000000000",
          "2023-08-28T00:00:00.000000000",
          "2023-08-29T00:00:00.000000000",
          "2023-08-30T00:00:00.000000000",
          "2023-08-31T00:00:00.000000000",
          "2023-09-01T00:00:00.000000000",
          "2023-09-02T00:00:00.000000000",
          "2023-09-03T00:00:00.000000000",
          "2023-09-04T00:00:00.000000000",
          "2023-09-05T00:00:00.000000000",
          "2023-09-06T00:00:00.000000000",
          "2023-09-07T00:00:00.000000000",
          "2023-09-08T00:00:00.000000000",
          "2023-09-09T00:00:00.000000000",
          "2023-09-10T00:00:00.000000000",
          "2023-09-11T00:00:00.000000000",
          "2023-09-12T00:00:00.000000000",
          "2023-09-13T00:00:00.000000000",
          "2023-09-14T00:00:00.000000000",
          "2023-09-15T00:00:00.000000000",
          "2023-09-16T00:00:00.000000000",
          "2023-09-17T00:00:00.000000000",
          "2023-09-18T00:00:00.000000000",
          "2023-09-19T00:00:00.000000000",
          "2023-09-20T00:00:00.000000000",
          "2023-09-21T00:00:00.000000000",
          "2023-09-22T00:00:00.000000000",
          "2023-09-23T00:00:00.000000000",
          "2023-09-24T00:00:00.000000000",
          "2023-09-25T00:00:00.000000000",
          "2023-09-26T00:00:00.000000000",
          "2023-09-27T00:00:00.000000000",
          "2023-09-28T00:00:00.000000000",
          "2023-09-29T00:00:00.000000000",
          "2023-09-30T00:00:00.000000000",
          "2023-10-01T00:00:00.000000000",
          "2023-10-02T00:00:00.000000000",
          "2023-10-03T00:00:00.000000000",
          "2023-10-04T00:00:00.000000000",
          "2023-10-05T00:00:00.000000000",
          "2023-10-06T00:00:00.000000000",
          "2023-10-07T00:00:00.000000000",
          "2023-10-08T00:00:00.000000000",
          "2023-10-09T00:00:00.000000000",
          "2023-10-10T00:00:00.000000000",
          "2023-10-11T00:00:00.000000000",
          "2023-10-12T00:00:00.000000000",
          "2023-10-13T00:00:00.000000000",
          "2023-10-14T00:00:00.000000000",
          "2023-10-15T00:00:00.000000000",
          "2023-10-16T00:00:00.000000000",
          "2023-10-17T00:00:00.000000000",
          "2023-10-18T00:00:00.000000000",
          "2023-10-19T00:00:00.000000000",
          "2023-10-20T00:00:00.000000000",
          "2023-10-21T00:00:00.000000000",
          "2023-10-22T00:00:00.000000000",
          "2023-10-23T00:00:00.000000000",
          "2023-10-24T00:00:00.000000000",
          "2023-10-25T00:00:00.000000000",
          "2023-10-26T00:00:00.000000000",
          "2023-10-27T00:00:00.000000000",
          "2023-10-28T00:00:00.000000000",
          "2023-10-29T00:00:00.000000000",
          "2023-10-30T00:00:00.000000000",
          "2023-10-31T00:00:00.000000000",
          "2023-11-01T00:00:00.000000000",
          "2023-11-02T00:00:00.000000000",
          "2023-11-03T00:00:00.000000000",
          "2023-11-04T00:00:00.000000000",
          "2023-11-05T00:00:00.000000000",
          "2023-11-06T00:00:00.000000000",
          "2023-11-07T00:00:00.000000000",
          "2023-11-08T00:00:00.000000000",
          "2023-11-09T00:00:00.000000000",
          "2023-11-10T00:00:00.000000000",
          "2023-11-11T00:00:00.000000000",
          "2023-11-12T00:00:00.000000000",
          "2023-11-13T00:00:00.000000000",
          "2023-11-14T00:00:00.000000000",
          "2023-11-15T00:00:00.000000000",
          "2023-11-16T00:00:00.000000000",
          "2023-11-17T00:00:00.000000000",
          "2023-11-18T00:00:00.000000000",
          "2023-11-19T00:00:00.000000000",
          "2023-11-20T00:00:00.000000000",
          "2023-11-21T00:00:00.000000000",
          "2023-11-22T00:00:00.000000000",
          "2023-11-23T00:00:00.000000000",
          "2023-11-24T00:00:00.000000000",
          "2023-11-25T00:00:00.000000000",
          "2023-11-26T00:00:00.000000000",
          "2023-11-27T00:00:00.000000000",
          "2023-11-28T00:00:00.000000000",
          "2023-11-29T00:00:00.000000000",
          "2023-11-30T00:00:00.000000000",
          "2023-12-01T00:00:00.000000000",
          "2023-12-02T00:00:00.000000000",
          "2023-12-03T00:00:00.000000000",
          "2023-12-04T00:00:00.000000000",
          "2023-12-05T00:00:00.000000000",
          "2023-12-06T00:00:00.000000000",
          "2023-12-07T00:00:00.000000000",
          "2023-12-08T00:00:00.000000000",
          "2023-12-09T00:00:00.000000000",
          "2023-12-10T00:00:00.000000000",
          "2023-12-11T00:00:00.000000000",
          "2023-12-12T00:00:00.000000000",
          "2023-12-13T00:00:00.000000000",
          "2023-12-14T00:00:00.000000000",
          "2023-12-15T00:00:00.000000000",
          "2023-12-16T00:00:00.000000000",
          "2023-12-17T00:00:00.000000000",
          "2023-12-18T00:00:00.000000000",
          "2023-12-19T00:00:00.000000000",
          "2023-12-20T00:00:00.000000000",
          "2023-12-21T00:00:00.000000000",
          "2023-12-22T00:00:00.000000000",
          "2023-12-23T00:00:00.000000000",
          "2023-12-24T00:00:00.000000000",
          "2023-12-25T00:00:00.000000000",
          "2023-12-26T00:00:00.000000000",
          "2023-12-27T00:00:00.000000000",
          "2023-12-28T00:00:00.000000000",
          "2023-12-29T00:00:00.000000000",
          "2023-12-30T00:00:00.000000000",
          "2023-12-31T00:00:00.000000000"
         ],
         "xaxis": "x",
         "y": {
          "bdata": "7Ku3XcLQHUAAqWdr4jITQHR9/0vgXhJA+MT2h8jzCUA2GhsbGcUKQJVjsNUrMBJAsKGrU13wFkDKZt50BU8bQI3gH9QtJgtAflpWtAbxH0COyUImvdQRQEKOTGI91BNABO8txGsLDEAgL3uE/WTDP4lmjGSGEhtATifCaQ7lGUCptXVW178RQGju3G0yiRRAfBqWvaQgGEAMgcXUn//9P5j7Tg8AiQ9A1L+6cKdaGkBWT7w2bu4DQLIYseY0WRZAdrOs4HBLAkAkaIOkP7sXQPQ1OZkBtxNApp3+FNdQ/D/GD97dYlEdQNDDG+ccPwxAjk2YvTQJC0D1iPUFxJoVQGoVVsdoMB1A+MrOnjG/B0CVWk8BUn4UQGg9Z1g3bhdAlPTe83qLGUCHkawwWmkVQBxTU7VTEBFAcDC9wTDCCkAeekM0bLAUQNkYbMOE2AZAENewBGj36r/B1wwRE34XQPtwoTBCOxtAsFdYEW6L0T+BD9idJNgHQCySMSYH9BhA0lGoF+A6IkB9bTPklSoUQAV3gJYZWgxACjM3l22JEkCsQ0I1v/8eQLZcBHchqg1Al2ZDcYI2C0CD+j5dVyMQQI4AU4AqvwhA3xkbkzr7FEDgkba1q38gQPBjAJaqlRZANrFKFi77EUBSOnvaXqoRQJ6u50RX+v0/yv/c25sQG0B2V0PklmATQMxYDIxgjhJA3gOC/b3FJkDCH5iQ2GMWQKampvKp+AtACysf1NGWEEBL2tFNBDAdQN7pJlH65xRAXR4JO9D8AECkTByzlFobQNKBuSVITw1AdRiyxUF+IUDe0YI98KMcQDTjen/iaxBAgliagYU/HkB0jHTU94oUQDpRLAF70hpAKJ9smbvgF0Dy/mC5UnUKQH2aTRcFtA1ATGHdGFw9HEBKwohPYVIRQBdcWvRTxRBAs1/gYtG3CEB5uCroh2MXQGBWTYgGQCJAAAAAAAAAAAAAAAAAAAAAAAAAAAAAAAAAAAAAAAAAAAAAAAAAAAAAAAAAAAAAAAAAAAAAAAAAAAAAAAAAAAAAAAAAAAAAAAAAAAAAAAAAAAAAAAAAAAAAAAAAAAAAAAAAAAAAAAAAAAAAAAAAAAAAAAAAAAAAAAAAAAAAAAAAAAAAAAAAAAAAAAAAAAAAAAAAAAAAAAAAAAAAAAAAAAAAAAAAAAAAAAAAAAAAAAAAAAAAAAAAAAAAAAAAAAAAAAAAAAAAAAAAAAAAAAAAAAAAAAAAAAAAAAAAAAAAAAAAAAAAAAAAAAAAAAAAAAAAAAAAAAAAAAAAAAAAAAAAAAAAAAAAAAAAAAAAAAAAAAAAAAAAAAAAAAAAAAAAAAAAAAAAAAAAAAAAAAAAAAAAAAAAAAAAAAAAAAAAAAAAAAAAAAAAAAAAAAAAAAAAAAAAAAAAAAAAAAAAAAAAAAAAAAAAAAAAAAAAAAAAAAAAAAAAAAAAAAAAAAAAAAAAAAAAAAAAAAAAAAAAAAAAAAAAAAAAAAAAAAAAAAAAAAAAAAAAAAAAAAAAAAAAAAAAAAAAAAAAAAAAAAAAAAAAAAAAAAAAAAAAAAAAAAAAAAAAAAAAAAAAAAAAAAAAAAAAAAAAAAAAAAAAAAAAAAAAAAAAAAAAAAAAAAAAAAAAAAAAAAAAAAAAAAAAAAAAAAAAAAAAAAAAAAAAAAAAAAAAAAAAAAAAAAAAAAAAAAAAAAAAAAAAAAAAAAAAAAAAAAAAAAAAAAAAAAAAAAAAAAAAAAAAAAAAAAAAAAAAAAAAAAAAAAAAAAAAAAAAAAAAAAAAAAAAAAAAAAAAAAAAAAAAAAAAAAAAAAAAAAAAAAAAAAAAAAAAAAAAAAAAAAAAAAAAAAAAAAAAAAAAAAAAAAAAAAAAAAAAAAAAAAAAAAAAAAAAAAAAAAAAAAAAAAAAAAAAAAAAAAAAAAAAAAAAAADCrXk9gzQIQDK7F4wv8xJAK40fhWSdFEA7mP60fjMSQCbD0OSWmQ1AUFHjnmdZFUCNY+UtGIkXQOK1bLK5jQZAfgVf6pZJH0DjheBsFzYTQG24kKGaJhRAEYrTUmyqGUA7aUVroN0VQB43ehkGoBtAEHcbwQdMFkC3IxHedDMOQPww0fVb5BZAnaz/JUyzBUDUyQ+NVN4UQDl8J+rxuxNAKCVC1MZVEkAKfEBTwfgSQLqFsoLkx/M/AAgsO2w4D0DzArB3Jb4UQK57vcliRxVAHfnsgqSOB0Dyb7ZuKyAeQLbQpNclJApAiBLZxnLBG0AgMqrg5GoXQFoFZ40NqQ1AMfY/GesZIUC54MQQ3eYEQEwY3YBtWhtAjJpnTTEBHECCql++I0UNQJy65NjEIx9AuIzqnOf/EUB0kAKbPk8WQOSnv50jFRZAYIneie/sEkBHYUQMiXwaQBMiRJ0QWRpANtDdrAYM+D+bJfDvSW8eQMzKMJrdzPo/Ag2aladCHEAER5f7fQMdQNkR08hmiwZAVAuk/6a2EEAaGB2fCE8GQIB/nXvXRxJA9wA7UiWJEUBRoUCpvjwaQM344SaDex5ANDIXRlwqH0BQ1G8ZXAEPQHpGdXuDUxJAZltyOkYh+j8oLTn9JxsLQIoqDSIEuBtA2nn8V1t2IEBnvbZlG0AEQDA7bjJEhQ5AdntLx+vJE0Da6jUixT0WQFhc8y3dCwtA0djrHXpkF0DsLWa3kzUQQILMCdlm4hNAfPebRspeGEC6bnYeJw0UQDoFPh1IghBAaoom5YQfE0BNSGBcCEsTQNL5O6g3ChFA/xZ0VPztEUCNpIzDA2UgQLLI5FXDfBhA558LN9uiEUAEarHUXJMZQCDYhXJWVBFAJYiEK49iHUBSszX3BvUWQHKwBcY+JBNAM8SRnOyUF0BIlZnvYbv9P/xerazC+AVAQTt65K7lBEDcl2lZvyQVQMJ4emkY7iBAAAAAAAAAAAAAAAAAAAAAAAAAAAAAAAAAAAAAAAAAAAAAAAAAAAAAAAAAAAAAAAAAAAAAAAAAAAAAAAAAAAAAAAAAAAAAAAAAAAAAAAAAAAAAAAAAAAAAAAAAAAAAAAAAAAAAAAAAAAAAAAAAAAAAAAAAAAAAAAAAAAAAAAAAAAAAAAAAAAAAAAAAAAAAAAAAAAAAAAAAAAAAAAAAAAAAAAAAAAAAAAAAAAAAAAAAAAAAAAAAAAAAAAAAAAAAAAAAAAAAAAAAAAAAAAAAAAAAAAAAAAAAAAAAAAAAAAAAAAAAAAAAAAAAAAAAAAAAAAAAAAAAAAAAAAAAAAAAAAAAAAAAAAAAAAAAAAAAAAAAAAAAAAAAAAAAAAAAAAAAAAAAAAAAAAAAAAAAAAAAAAAAAAAAAAAAAAAAAAAAAAAAAAAAAAAAAAAAAAAAAAAAAAAAAAAAAAAAAAAAAAAAAAAAAAAAAAAAAAAAAAAAAAAAAAAAAAAAAAAAAAAAAAAAAAAAAAAAAAAAAAAAAAAAAAAAAAAAAAAAAAAAAAAAAAAAAAAAAAAAAAAAAAAAAAAAAAAAAAAAAAAAAAAAAAAAAAAAAAAAAAAAAAAAAAAAAAAAAAAAAAAAAAAAAAAAAAAAAAAAAAAAAAAAAAAAAAAAAAAAAAAAAAAAAAAAAAAAAAAAAAAAAAAAAAAAAAAAAAAAAAAAAAAAAAAAAAAAAAAAAAAAAAAAAAAAAAAAAAAAAAAAAAAAAAAAAAAAAAAAAAAAAAAAAAAAAAAAAAAAAAAAAAAAAAAAAAAAAAAAAAAAAAAAAAAAAAAAAAAAAAAAAAAAAAAAAAAAAAAAAAAAAAAAAAAAAAAAAAAAAAAAAAAAAAAAAAAAAAAAAAAAAAAAAAAAAAAAAAAAAAAAAAAAAAAAAAAAAAAAAAAAAAAAAAAAAAAAAAAAAAAAAAAAAAAAAAAAAAAAAAAAAAAAAAAAAAAAAAAAAD39XZti6wZA67By+JkxFEBd/GFKOkwfQKGIafnkXBNA/DO0GnWeF0CWCNKkbwAHQFw2eUUsbRdAPl/xgbqAEkDEDHFoxuIbQNGTGULEfx1AvIVFkrZbJEA3CJW3FqMYQHYFZxk7mxZALgtRWxmOFUDWoJImtywRQIcjbwQ3tRZArhXilQSjEUCA130RAlkVQKLPpZNwih5A0XiBnzPlB0Cxr6umeB4dQDZZ2p9ziR5AZRePFjIOE0AgpXmChzPoPyA8unNcRg5AAJBErT5gHkBjbaKMKtETQLeTl6nbAghAxL3XIXHsD0ABmRH+lrkaQAlnWNm1XxhA8c+AxKoWEkBGDd9cvhARQIRST+et3RBAQk6B0c49CUBMGXQLJXYgQFM/7z7jaxFAKfJHm728HUAMjAfg0xUgQHpJlmyK/BtAirFEpgqMEEBCQXPX1joXQMXArohyzhNAq0bt6m+KCUDKL9mtSZgWQF6TBCynIgVABpscDV6AHUB3lPe5dkgQQNj8+Zf5mxVALSd9bixEFkCfWqk6w+0RQFrREIWMsRhAjHEwtmUzEEBaYK23avgaQKQnxALedgJAxkUITNMCFUCp4oCadsEhQKN5upSk/gdAkxPJ4/QnDUCzivu3exwYQJQaw5LIbxVAQfxKJxfOFkDS3Szx2ukXQMxVbNnoExlAdKCMT6rgHECLYwYBT0cXQJIHvIHnERJA9IUWUm5hGUBsi2KmepkhQPCG57dd8BJAtiK39VNoCECB+CQcTdscQHoerpl1CRNA6LC2bvvy5D+gQioEhccaQN42S7ZLbw9AyW6KfJZGE0BqrLVN5acWQIFlNLIkhhVAfpkFE/WsGUDqY8S4H4QQQBxvdDbXGhhA1u6fynLsEUC01Cp4FekZQOrclslF7BhAdOR0bXEICUDhGUhkF7AcQIYjNpixbA9AiinHAed2GkAOW7pUNPAWQAAAAAAAAAAAAAAAAAAAAAAAAAAAAAAAAAAAAAAAAAAAAAAAAAAAAAAAAAAAAAAAAAAAAAAAAAAAAAAAAAAAAAAAAAAAAAAAAAAAAAAAAAAAAAAAAAAAAAAAAAAAAAAAAAAAAAAAAAAAAAAAAAAAAAAAAAAAAAAAAAAAAAAAAAAAAAAAAAAAAAAAAAAAAAAAAAAAAAAAAAAAAAAAAAAAAAAAAAAAAAAAAAAAAAAAAAAAAAAAAAAAAAAAAAAAAAAAAAAAAAAAAAAAAAAAAAAAAAAAAAAAAAAAAAAAAAAAAAAAAAAAAAAAAAAAAAAAAAAAAAAAAAAAAAAAAAAAAAAAAAAAAAAAAAAAAAAAAAAAAAAAAAAAAAAAAAAAAAAAAAAAAAAAAAAAAAAAAAAAAAAAAAAAAAAAAAAAAAAAAAAAAAAAAAAAAAAAAAAAAAAAAAAAAAAAAAAAAAAAAAAAAAAAAAAAAAAAAAAAAAAAAAAAAAAAAAAAAAAAAAAAAAAAAAAAAAAAAAAAAAAAAAAAAAAAAAAAAAAAAAAAAAAAAAAAAAAAAAAAAAAAAAAAAAAAAAAAAAAAAAAAAAAAAAAAAAAAAAAAAAAAAAAAAAAAAAAAAAAAAAAAAAAAAAAAAAAAAAAAAAAAAAAAAAAAAAAAAAAAAAAAAAAAAAAAAAAAAAAAAAAAAAAAAAAAAAAAAAAAAAAAAAAAAAAAAAAAAAAAAAAAAAAAAAAAAAAAAAAAAAAAAAAAAAAAAAAAAAAAAAAAAAAAAAAAAAAAAAAAAAAAAAAAAAAAAAAAAAAAAAAAAAAAAAAAAAAAAAAAAAAAAAAAAAAAAAAAAAAAAAAAAAAAAAAAAAAAAAAAAAAAAAAAAAAAAAAAAAAAAAAAAAAAAAAAAAAAAAAAAAAAAAAAAAAAAAAAAAAAAAAAAAAAAAAAAAAAAAAAAAAAAAAAAAAAAAAAAAAAAAAAAAAAAAAAAAAAAAAAAAAAAAAAAAAAAAAAAAAAAAAAAAAAAAAAAAAAAAAAAAAAAAAAAAAAAAAAAAAAAAAAAAAAAAAAAAAAAAAAAAAAAAAAAAAAAAAAAAAAAAAAAAAAAAAAAAAAAAAAAAAAAAAAAAAAAAAAAAAAAAAAAAAAAAAAAAAAAAAAAAAAAAAAAAAAAAAAAAAAAAAAAAAAAAAAAAAAAAAAAAAAAAAAAAAAAAAAAAAAAAAAAAAAAAAAAAAAAAAAAAAAAAAAAAAAAAAAAAAAAAAAAAAAAAAAAAAAAAAAAAAAAAAAAAAAAAAAAAAAAAAAAAAAAAAAAAAAAAAAAAAAAAAAAAAAAAAAAAAAAAAAAAAAAAAAAAAAAAAAAAAAAAAAAAAAAAAAAAAAAAAAAAAAAAAAAAAAAAAAAAAAAAAAAAAAAAAAAAAAAAAAAAAAAAAAAAAAAAAAAAAAAAAAAAAAAAAAAAAAAAAAAAAAAAAAAAAAAAAAAAAAAAAAAAAAAAAAAAAAAAAAAAAAAAAAAAAAAAAAAAAAAAAAAAAAAAAAAAAAAAAAAAAAAAAAAAAAAAAAAAAAAAAAAAAAAAAAAAAAAAAAAAAAAAAAAAAAAAAAAAAAAAAAAAAAAAAAAAAAAAAAAAAAAAAAAAAAAAAAAAAAAAAAAAAAAAAAAAAAAAAAAAAAAAAAAAAAAAAAAAAAAAAAAAAAAAAAAAAAAAAAAAAAAAAAAAAAAAAAAAAAAAAAAAAAAAAAAAAAAAAAAAAAAAAAAAAAAAAAAAAAAAAAAAAAAAAAAAAAAAAAAAAAAAAAAAAAAAAAAAAAAAAAAAAAAAAAAAAAAAAAAAAAAAAAAAAAAAAAAAAAAAAAAAAAAAAAAAAAAAAAAAAAAAAAAAAAAAAAAAAAAAAAAAAAAAAAAAAAAAAAAAAAAAAAAAAAAAAAAAAAAAAAAAAAAAAAAAAAAAAAAAAAAAAAAAAAAAAAAAAAAAAAAAAAAAAAAAAAAAAAAAAAAAAAAAAAAAAAAAAAAAAAAAAAAAAAAAAAAAAAAAAAAAAAAAAAAAAAAAAAAAAAAAAAAAAAAAAAAAAAAAAAAAAAAAAAAAAAAAAAAAAAAAAAAAAAAAAAAAAAAAAAAAAAAAAAAAAAAAAAAAAAAAAAAAAAAAAAAAAAAAAAAAAAAAAAAAAAAAAAAAAAAAAAAAAAAAAAAAAAAAAAAAAAAAAAAAAAAAAAAAAAAAAAAAAAAAAAAAAAAAAAAAAAAAAAAAAAAAAAAAAAAAAAAAAAAAAAAAAAAAAAAAAAAAAAAAAAAAAAAAAAAAAAAAAAAAAAAAAAAAAAAAAAAAAAAAAAAAAAAAAAAAAAAAAAAAAAAAAAAAAAAAAAAAAAAAAAAAAAAAAAAAAAAAAAAAAAAAAAAAAAAAAAAAAAAAAAAAAAAAAAAAAAAAAAAAAAAAAAAAAAAAAAAAAAAAAAAAAAAAAAAAAAAAAAAAAAAAAAAAAAAAAAAAAAAAAAAAAAAAAAAAAAAAAAAAAAAAAAAAAAAAAAAAAAAAAAAAAAAAAAAAAAAAAAAAAAAAAAAAAAAAAAAAAAAAAAAAAAAAAAAAAAAAAAAAAAAAAAAAAAAAAAAAAAAAAAAAAAAAAAAAAAAAAAAAAAAAAAAAAAAAAAAAAAAAAAAAAAAAAAAAAAAAAAAAAAAAAAAAAAAAAAAAAAAAAAAAAAAAAAAAAAAAAAAAAAAAAAAAAAAAAAAAAAAAAAAAAAAAAAAAAAAAAAAAAAAAAAAAAAAAAAAAAAAAAAAAAAAAAAAAAAAAAAAAAAAAAAAAAAAAAAAAAAAAAAAAAAAAAAAAAAAAAAAAAAAAAAAAAAAAAAAAAAAAAAAAAAAAAAAAAAAAAAAAAAAAAAAAAAAAAAAAAAAAAAAAAAAAAAAAAAAAAAAAAAAAAAAAAAAAAAAAAAAAAAAAAAAAAAAAAAAAAAAAAAAAAAAAAAAAAAAAAcgV/STFohQBiOj3dXNhJAq9RFZZk0EUDjfJ6IOtgTQOVYX3oWkxFAQ1Sc8EdmGkCmyJL5Lkf8PwVXVucdJAdA4+fTe0fqBkAOVuXdOpobQMhbLQir1yBAeE8yhxYqE0A4W+DLQKYSQG6uLIJ3jxRAyBL92YZLHUAl74zCjykJQEPQSf8t6BVAA2s4ajTNG0D83ACpPQIYQB632V1DhBVAauoqdCQCHEDAHvYJhAPav9Y0QeVJbBlA4L297+eIDUACoiCPdGv1P0a4dGPxFhhAScT6sED9HkCBUqZkgeYSQGFry7B8nxtAzHNYEvlyIEAWc3ne8YQeQCsAkdxSjyBANO68ieDvGUAPzqDzfJoUQCzukjGyvPw/Ba3lYxAIEkAwdarbD4IKQOaRlJsLryJAii7eLcmXEkCAyz7NUvwUQFCHMipxaRhA8I9JPUxZFECuzb51u8cgQKWap9KgCQ5A92l+Wo6OFUBs9cIp1x4MQCMsRRMw4QJA+rodnTE2DkCHbT8NJrQTQFzJzP7JkBBATAqG+tfrDEDcxVtCuX8BQCOO277MVRNAwi59qFTZ/z+xaZk4mBQaQLzzVSzWqBRAb/+Yet6tAEBSjjNkvYYRQD4vSNgq9wtAz7yfXauNFkDIn1wVPrkeQBhiEE6W/vM/iwABy5LrFECdMQBMDLgSQIfKxovnXhlA0C8Pb6C0FUCGY4kB7/cLQNw2pdmTchFAXyMkZHpDC0AgWXShqZscQAWPEHGlKxRAcBMru9GaIUDBI2RDxIMTQOarfapdqgxA9smH1aaP/z/CiosFrkz2PxbyiyPCTv0/598vTBMjFkBsb8ts3hEYQO4LwcHiZv0/u/382AkpG0DXYijjsCIQQPwSjtChLBVAqyzh9ulyIECaRlsXuiwbQIQqipoM2hFAJEWWOK29CUDAvBAOqEjmPw600BZZfgxAnE4I85pPEkAAAAAAAAAAAAAAAAAAAAAAAAAAAAAAAAAAAAAAAAAAAAAAAAAAAAAAAAAAAAAAAAAAAAAAAAAAAAAAAAAAAAAAAAAAAAAAAAAAAAAAAAAAAAAAAAAAAAAAAAAAAAAAAAAAAAAAAAAAAAAAAAAAAAAAAAAAAAAAAAAAAAAAAAAAAAAAAAAAAAAAAAAAAAAAAAAAAAAAAAAAAAAAAAAAAAAAAAAAAAAAAAAAAAAAAAAAAAAAAAAAAAAAAAAAAAAAAAAAAAAAAAAAAAAAAAAAAAAAAAAAAAAAAAAAAAAAAAAAAAAAAAAAAAAAAAAAAAAAAAAAAAAAAAAAAAAAAAAAAAAAAAAAAAAAAAAAAAAAAAAAAAAAAAAAAAAAAAAAAAAAAAAAAAAAAAAAAAAAAAAAAAAAAAAAAAAAAAAAAAAAAAAAAAAAAAAAAAAAAAAAAAAAAAAAAAAAAAAAAAAAAAAAAAAAAAAAAAAAAAAAAAAAAAAAAAAAAAAAAAAAAAAAAAAAAAAAAAAAAAAAAAAAAAAAAAAAAAAAAAAAAAAAAAAAAAAAAAAAAAAAAAAAAAAAAAAAAAAAAAAAAAAAAAAAAAAAAAAAAAAAAAAAAAAAAAAAAAAAAAAAAAAAAAAAAAAAAAAAAAAAAAAAAAAAAAAAAAAAAAAAAAAAAAAAAAAAAAAAAAAAAAAAAAAAAAAAAAAAAAAAAAAAAAAAAAAAAAAAAAAAAAAAAAAAAAAAAAAAAAAAAAAAAAAAAAAAAAAAAAAAAAAAAAAAAAAAAAAAAAAAAAAAAAAAAAAAAAAAAAAAAAAAAAAAAAAAAAAAAAAAAAAAAAAAAAAAAAAAAAAAAAAAAAAAAAAAAAAAAAAAAAAAAAAAAAAAAAAAAAAAAAAAAAAAAAAAAAAAAAAAAAAAAAAAAAAAAAAAAAAAAAAAAAAAAAAAAAAAAAAAAAAAAAAAAAAAAAAAAAAAAAAAAAAAAAAAAAAAAAAAAAAAAAAAAAAAAAAAAAAAAAAAAAAAAAAAAAAAAAAAAAAAAAAAAAAAAAAAAAAAAAAAAAAAAAAAAAAAAAAAAAAAAAAAAAAAAAAAAAAAAAAAAAAAAAAAAAAAAAAAAAAAAAAAAAAAAAAAAAAAAAAAAAAAAAAAAAAAAAAAAAAAAAAAAAAAAAAAAAAAAAAAAAAAAAAAAAAAAAAAAAAAAAAAAAAAAAAAAAAAAAAAAAAAAAAAAAAAAAAAAAAAAAAAAAAAAAAAAAAAAAAAAAAAAAAAAAAAAAAAAAAAAAAAAAAAAAAAAAAAAAAAAAAAAAAAAAAAAAAAAAAAAAAAAAAAAAAAAAAAAAAAAAAAAAAAAAAAAAAAAAAAAAAAAAAAAAAAAAAAAAAAAAAAAAAAAAAAAAAAAAAAAAAAAAAAAAAAAAAAAAAAAAAAAAAAAAAAAAAAAAAAAAAAAAAAAAAAAAAAAAAAAAAAAAAAAAAAAAAAAAAAAAAAAAAAAAAAAAAAAAAAAAAAAAAAAAAAAAAAAAAAAAAAAAAAAAAAAAAAAAAAAAAAAAAAAAAAAAAAAAAAAAAAAAAAAAAAAAAAAAAAAAAAAAAAAAAAAAAAAAAAAAAAAAAAAAAAAAAAAAAAAAAAAAAAAAAAAAAAAAAAAAAAAAAAAAAAAAAAAAAAAAAAAAAAAAAAAAAAAAAAAAAAAAAAAAAAAAAAAAAAAAAAAAAAAAAAAAAAAAAAAAAAAAAAAAAAAAAAAAAAAAAAAAAAAAAAAAAAAAAAAAAAAAAAAAAAAAAAAAAAAAAAAAAAAAAAAAAAAAAAAAAAAAAAAAAAAAAAAAAAAAAAAAAAAAAAAAAAAAAAAAAAAAAAAAAAAAAAAAAAAAAAAAAAAAAAAAAAAAAAAAAAAAAAAAAAAAAAAAAAAAAAAAAAAAAAAAAAAAAAAAAAAAAAAAAAAAAAAAAAAAAAAAAAAAAAAAAAAAAAAAAAAABa1A3y2ewiQCzrLom6GhlAXiaCv7oBGEBeZbMrvF32P/DwG0c1UQ9ANL5T3TxlC0CGYdsbAhEOQO06sTakpxJAKFRAkyg5EECqn65xk6nwPz3xUl+4+xlAlfe2aAvWBkA6OYhC+ukVQCQbz1PcSyJAOArrYTNKCUCAerA+sQOvv1QOJGtDthFAmUfU7MPOHEBIVPgIWdUhQNdE8M3DUwRA5/49cT35F0COJK1PC0cQQPmWmYwEJxNAWFULvs6TJEDo5hXFquf/P9aJ3qioBxZAQVzq6tW9F0Dcd6C9sK8cQEe7PWSryBRAcnuFM+N2FkBsLxtb590QQEX2mAYsJxZAi/2DaCRBEUBzW9iu+vgYQKNuc7wJCxFA6fIYNk0EF0Bk36HbEcQTQKPARaImAh1ACL4v476WE0DkxMlpUUP3P5d8vUxqGB5A2NPN2B6CCUBKccROLIoNQE5x6dwreA5AslwkZtn+HkCIQwMaHVHnPweRnPMNjSZAJUGN6c1yHEDLCNt7MckVQADa9LuTjxNAfwYmk9BIFkCWz1g8QisYQCQzBMpmKRlAifgXweBxGEDvwYITdrcUQC5JlNXZaxJA25iPOzHKEkA5U3Ht03ASQHrQeQ72ER1AVyO0qpq/GEB4cdrPUy/svz3uBOhIPxlAJ1Gd2dGOFUAOVDc5r9kTQM658G9Q5BBAOtxKzy7+HEBOTPfAiJQbQLg4zgZLogtA7rEnoaRBF0D4T2MRGHQIQF051IAV7QFASr0IXPf4DUC2V4GMLuYaQEgcFwYAoBtAdvpah8waGEAW1hcF/8wZQCqD8BQiIRhAEYF4y328DUDGPJ7Ok3QXQAkU8hs9ZxpALKWJ5MkIGkDlFYID5YIdQFzgGjWbqhlABwjtE8TPFkBbAZvtqo8cQCwD1zivyRNAhOPcZ9fjCUCdbZbyCbISQGuj3fbgFAxA0T7gQ3gyDUB17FyYBtgSQECzKX0/UgtA",
          "dtype": "f8"
         },
         "yaxis": "y"
        },
        {
         "cells": {
          "align": "left",
          "fill": {
           "color": [
            [
             "rgba(255, 235, 205, 0.7)",
             "rgba(204, 236, 255, 0.7)",
             "rgba(204, 255, 204, 0.7)",
             "rgba(255, 204, 229, 0.7)",
             "rgba(255, 255, 204, 0.7)"
            ],
            [
             "lavender",
             "lavender",
             "lavender",
             "lavender",
             "lavender"
            ],
            [
             "lavender",
             "lavender",
             "lavender",
             "lavender",
             "lavender"
            ],
            [
             "lavender",
             "lavender",
             "lavender",
             "lavender",
             "lavender"
            ],
            [
             "lavender",
             "lavender",
             "lavender",
             "lavender",
             "lavender"
            ],
            [
             "lavender",
             "lavender",
             "lavender",
             "lavender",
             "lavender"
            ]
           ]
          },
          "values": [
           [
            "TF1",
            "TF2",
            "TF3",
            "TF4",
            "TF5"
           ],
           [
            4.95,
            5.36,
            4.87,
            5.02,
            5.15
           ],
           [
            2.07,
            1.74,
            2.08,
            1.74,
            2.09
           ],
           [
            4.89,
            5.4,
            4.86,
            4.94,
            5.29
           ],
           [
            11.39,
            10.18,
            9.34,
            8.55,
            11.28
           ],
           [
            -0.84,
            0.65,
            -0.41,
            1.24,
            -0.88
           ]
          ]
         },
         "domain": {
          "x": [
           0.55,
           1
          ],
          "y": [
           0.625,
           1
          ]
         },
         "header": {
          "align": "left",
          "fill": {
           "color": "paleturquoise"
          },
          "values": [
           "Timeframe",
           "Mean",
           "Std Dev",
           "Median",
           "Max",
           "Min"
          ]
         },
         "type": "table"
        },
        {
         "colorbar": {
          "title": {
           "text": "Corr"
          }
         },
         "colorscale": [
          [
           0,
           "rgb(103,0,31)"
          ],
          [
           0.1,
           "rgb(178,24,43)"
          ],
          [
           0.2,
           "rgb(214,96,77)"
          ],
          [
           0.3,
           "rgb(244,165,130)"
          ],
          [
           0.4,
           "rgb(253,219,199)"
          ],
          [
           0.5,
           "rgb(247,247,247)"
          ],
          [
           0.6,
           "rgb(209,229,240)"
          ],
          [
           0.7,
           "rgb(146,197,222)"
          ],
          [
           0.8,
           "rgb(67,147,195)"
          ],
          [
           0.9,
           "rgb(33,102,172)"
          ],
          [
           1,
           "rgb(5,48,97)"
          ]
         ],
         "showscale": true,
         "type": "heatmap",
         "x": [
          "TF1",
          "TF2",
          "TF3",
          "TF4",
          "TF5"
         ],
         "xaxis": "x2",
         "y": [
          "TF1",
          "TF2",
          "TF3",
          "TF4",
          "TF5"
         ],
         "yaxis": "y2",
         "z": {
          "bdata": "AAAAAAAA8D/sUbgeheuxv3sUrkfheqS/exSuR+F6xL+4HoXrUbi+P+xRuB6F67G/AAAAAAAA8D+amZmZmZmpPwrXo3A9Crc/exSuR+F6lL97FK5H4Xqkv5qZmZmZmak/AAAAAAAA8D+4HoXrUbiuPwAAAAAAAACAexSuR+F6xL8K16NwPQq3P7gehetRuK4/AAAAAAAA8D/sUbgeheuxv7gehetRuL4/exSuR+F6lL8AAAAAAAAAgOxRuB6F67G/AAAAAAAA8D8=",
          "dtype": "f8",
          "shape": "5, 5"
         },
         "zmax": 1,
         "zmin": -1
        },
        {
         "colorbar": {
          "title": {
           "text": "Corr"
          }
         },
         "colorscale": [
          [
           0,
           "rgb(103,0,31)"
          ],
          [
           0.1,
           "rgb(178,24,43)"
          ],
          [
           0.2,
           "rgb(214,96,77)"
          ],
          [
           0.3,
           "rgb(244,165,130)"
          ],
          [
           0.4,
           "rgb(253,219,199)"
          ],
          [
           0.5,
           "rgb(247,247,247)"
          ],
          [
           0.6,
           "rgb(209,229,240)"
          ],
          [
           0.7,
           "rgb(146,197,222)"
          ],
          [
           0.8,
           "rgb(67,147,195)"
          ],
          [
           0.9,
           "rgb(33,102,172)"
          ],
          [
           1,
           "rgb(5,48,97)"
          ]
         ],
         "showscale": true,
         "type": "heatmap",
         "x": [
          "S1",
          "S2",
          "S3",
          "S4",
          "S5"
         ],
         "xaxis": "x3",
         "y": [
          "S1",
          "S2",
          "S3",
          "S4",
          "S5"
         ],
         "yaxis": "y3",
         "z": {
          "bdata": "AAAAAAAA8D8K16NwPQq3P+F6FK5H4cq/mpmZmZmZuT8AAAAAAAAAgArXo3A9Crc/AAAAAAAA8D+4HoXrUbi+v7gehetRuL6/cT0K16Nwzb/hehSuR+HKv7gehetRuL6/AAAAAAAA8D/sUbgehevBv+xRuB6F67E/mpmZmZmZuT+4HoXrUbi+v+xRuB6F68G/AAAAAAAA8D+4HoXrUbi+PwAAAAAAAACAcT0K16Nwzb/sUbgeheuxP7gehetRuL4/AAAAAAAA8D8=",
          "dtype": "f8",
          "shape": "5, 5"
         },
         "zmax": 1,
         "zmin": -1
        }
       ],
       "layout": {
        "annotations": [
         {
          "font": {
           "size": 16
          },
          "showarrow": false,
          "text": "Timeseries: Series 2",
          "x": 0.225,
          "xanchor": "center",
          "xref": "paper",
          "y": 1,
          "yanchor": "bottom",
          "yref": "paper"
         },
         {
          "font": {
           "size": 16
          },
          "showarrow": false,
          "text": "Metrics Table",
          "x": 0.775,
          "xanchor": "center",
          "xref": "paper",
          "y": 1,
          "yanchor": "bottom",
          "yref": "paper"
         },
         {
          "font": {
           "size": 16
          },
          "showarrow": false,
          "text": "Correlation (Timeframes)",
          "x": 0.225,
          "xanchor": "center",
          "xref": "paper",
          "y": 0.375,
          "yanchor": "bottom",
          "yref": "paper"
         },
         {
          "font": {
           "size": 16
          },
          "showarrow": false,
          "text": "Correlation (Across Series)",
          "x": 0.775,
          "xanchor": "center",
          "xref": "paper",
          "y": 0.375,
          "yanchor": "bottom",
          "yref": "paper"
         }
        ],
        "height": 900,
        "margin": {
         "t": 60
        },
        "shapes": [
         {
          "fillcolor": "rgba(255, 235, 205, 0.7)",
          "layer": "below",
          "line": {
           "width": 0
          },
          "opacity": 1,
          "type": "rect",
          "x0": "2021-01-01T00:00:00",
          "x1": "2021-03-31T00:00:00",
          "xref": "x",
          "y0": 0,
          "y1": 1,
          "yref": "y domain"
         },
         {
          "fillcolor": "rgba(204, 236, 255, 0.7)",
          "layer": "below",
          "line": {
           "width": 0
          },
          "opacity": 1,
          "type": "rect",
          "x0": "2022-01-01T00:00:00",
          "x1": "2022-03-31T00:00:00",
          "xref": "x",
          "y0": 0,
          "y1": 1,
          "yref": "y domain"
         },
         {
          "fillcolor": "rgba(204, 255, 204, 0.7)",
          "layer": "below",
          "line": {
           "width": 0
          },
          "opacity": 1,
          "type": "rect",
          "x0": "2023-01-01T00:00:00",
          "x1": "2023-03-31T00:00:00",
          "xref": "x",
          "y0": 0,
          "y1": 1,
          "yref": "y domain"
         },
         {
          "fillcolor": "rgba(255, 204, 229, 0.7)",
          "layer": "below",
          "line": {
           "width": 0
          },
          "opacity": 1,
          "type": "rect",
          "x0": "2021-07-01T00:00:00",
          "x1": "2021-09-30T00:00:00",
          "xref": "x",
          "y0": 0,
          "y1": 1,
          "yref": "y domain"
         },
         {
          "fillcolor": "rgba(255, 255, 204, 0.7)",
          "layer": "below",
          "line": {
           "width": 0
          },
          "opacity": 1,
          "type": "rect",
          "x0": "2023-10-01T00:00:00",
          "x1": "2023-12-31T00:00:00",
          "xref": "x",
          "y0": 0,
          "y1": 1,
          "yref": "y domain"
         }
        ],
        "showlegend": false,
        "template": {
         "data": {
          "bar": [
           {
            "error_x": {
             "color": "#2a3f5f"
            },
            "error_y": {
             "color": "#2a3f5f"
            },
            "marker": {
             "line": {
              "color": "#E5ECF6",
              "width": 0.5
             },
             "pattern": {
              "fillmode": "overlay",
              "size": 10,
              "solidity": 0.2
             }
            },
            "type": "bar"
           }
          ],
          "barpolar": [
           {
            "marker": {
             "line": {
              "color": "#E5ECF6",
              "width": 0.5
             },
             "pattern": {
              "fillmode": "overlay",
              "size": 10,
              "solidity": 0.2
             }
            },
            "type": "barpolar"
           }
          ],
          "carpet": [
           {
            "aaxis": {
             "endlinecolor": "#2a3f5f",
             "gridcolor": "white",
             "linecolor": "white",
             "minorgridcolor": "white",
             "startlinecolor": "#2a3f5f"
            },
            "baxis": {
             "endlinecolor": "#2a3f5f",
             "gridcolor": "white",
             "linecolor": "white",
             "minorgridcolor": "white",
             "startlinecolor": "#2a3f5f"
            },
            "type": "carpet"
           }
          ],
          "choropleth": [
           {
            "colorbar": {
             "outlinewidth": 0,
             "ticks": ""
            },
            "type": "choropleth"
           }
          ],
          "contour": [
           {
            "colorbar": {
             "outlinewidth": 0,
             "ticks": ""
            },
            "colorscale": [
             [
              0,
              "#0d0887"
             ],
             [
              0.1111111111111111,
              "#46039f"
             ],
             [
              0.2222222222222222,
              "#7201a8"
             ],
             [
              0.3333333333333333,
              "#9c179e"
             ],
             [
              0.4444444444444444,
              "#bd3786"
             ],
             [
              0.5555555555555556,
              "#d8576b"
             ],
             [
              0.6666666666666666,
              "#ed7953"
             ],
             [
              0.7777777777777778,
              "#fb9f3a"
             ],
             [
              0.8888888888888888,
              "#fdca26"
             ],
             [
              1,
              "#f0f921"
             ]
            ],
            "type": "contour"
           }
          ],
          "contourcarpet": [
           {
            "colorbar": {
             "outlinewidth": 0,
             "ticks": ""
            },
            "type": "contourcarpet"
           }
          ],
          "heatmap": [
           {
            "colorbar": {
             "outlinewidth": 0,
             "ticks": ""
            },
            "colorscale": [
             [
              0,
              "#0d0887"
             ],
             [
              0.1111111111111111,
              "#46039f"
             ],
             [
              0.2222222222222222,
              "#7201a8"
             ],
             [
              0.3333333333333333,
              "#9c179e"
             ],
             [
              0.4444444444444444,
              "#bd3786"
             ],
             [
              0.5555555555555556,
              "#d8576b"
             ],
             [
              0.6666666666666666,
              "#ed7953"
             ],
             [
              0.7777777777777778,
              "#fb9f3a"
             ],
             [
              0.8888888888888888,
              "#fdca26"
             ],
             [
              1,
              "#f0f921"
             ]
            ],
            "type": "heatmap"
           }
          ],
          "histogram": [
           {
            "marker": {
             "pattern": {
              "fillmode": "overlay",
              "size": 10,
              "solidity": 0.2
             }
            },
            "type": "histogram"
           }
          ],
          "histogram2d": [
           {
            "colorbar": {
             "outlinewidth": 0,
             "ticks": ""
            },
            "colorscale": [
             [
              0,
              "#0d0887"
             ],
             [
              0.1111111111111111,
              "#46039f"
             ],
             [
              0.2222222222222222,
              "#7201a8"
             ],
             [
              0.3333333333333333,
              "#9c179e"
             ],
             [
              0.4444444444444444,
              "#bd3786"
             ],
             [
              0.5555555555555556,
              "#d8576b"
             ],
             [
              0.6666666666666666,
              "#ed7953"
             ],
             [
              0.7777777777777778,
              "#fb9f3a"
             ],
             [
              0.8888888888888888,
              "#fdca26"
             ],
             [
              1,
              "#f0f921"
             ]
            ],
            "type": "histogram2d"
           }
          ],
          "histogram2dcontour": [
           {
            "colorbar": {
             "outlinewidth": 0,
             "ticks": ""
            },
            "colorscale": [
             [
              0,
              "#0d0887"
             ],
             [
              0.1111111111111111,
              "#46039f"
             ],
             [
              0.2222222222222222,
              "#7201a8"
             ],
             [
              0.3333333333333333,
              "#9c179e"
             ],
             [
              0.4444444444444444,
              "#bd3786"
             ],
             [
              0.5555555555555556,
              "#d8576b"
             ],
             [
              0.6666666666666666,
              "#ed7953"
             ],
             [
              0.7777777777777778,
              "#fb9f3a"
             ],
             [
              0.8888888888888888,
              "#fdca26"
             ],
             [
              1,
              "#f0f921"
             ]
            ],
            "type": "histogram2dcontour"
           }
          ],
          "mesh3d": [
           {
            "colorbar": {
             "outlinewidth": 0,
             "ticks": ""
            },
            "type": "mesh3d"
           }
          ],
          "parcoords": [
           {
            "line": {
             "colorbar": {
              "outlinewidth": 0,
              "ticks": ""
             }
            },
            "type": "parcoords"
           }
          ],
          "pie": [
           {
            "automargin": true,
            "type": "pie"
           }
          ],
          "scatter": [
           {
            "fillpattern": {
             "fillmode": "overlay",
             "size": 10,
             "solidity": 0.2
            },
            "type": "scatter"
           }
          ],
          "scatter3d": [
           {
            "line": {
             "colorbar": {
              "outlinewidth": 0,
              "ticks": ""
             }
            },
            "marker": {
             "colorbar": {
              "outlinewidth": 0,
              "ticks": ""
             }
            },
            "type": "scatter3d"
           }
          ],
          "scattercarpet": [
           {
            "marker": {
             "colorbar": {
              "outlinewidth": 0,
              "ticks": ""
             }
            },
            "type": "scattercarpet"
           }
          ],
          "scattergeo": [
           {
            "marker": {
             "colorbar": {
              "outlinewidth": 0,
              "ticks": ""
             }
            },
            "type": "scattergeo"
           }
          ],
          "scattergl": [
           {
            "marker": {
             "colorbar": {
              "outlinewidth": 0,
              "ticks": ""
             }
            },
            "type": "scattergl"
           }
          ],
          "scattermap": [
           {
            "marker": {
             "colorbar": {
              "outlinewidth": 0,
              "ticks": ""
             }
            },
            "type": "scattermap"
           }
          ],
          "scattermapbox": [
           {
            "marker": {
             "colorbar": {
              "outlinewidth": 0,
              "ticks": ""
             }
            },
            "type": "scattermapbox"
           }
          ],
          "scatterpolar": [
           {
            "marker": {
             "colorbar": {
              "outlinewidth": 0,
              "ticks": ""
             }
            },
            "type": "scatterpolar"
           }
          ],
          "scatterpolargl": [
           {
            "marker": {
             "colorbar": {
              "outlinewidth": 0,
              "ticks": ""
             }
            },
            "type": "scatterpolargl"
           }
          ],
          "scatterternary": [
           {
            "marker": {
             "colorbar": {
              "outlinewidth": 0,
              "ticks": ""
             }
            },
            "type": "scatterternary"
           }
          ],
          "surface": [
           {
            "colorbar": {
             "outlinewidth": 0,
             "ticks": ""
            },
            "colorscale": [
             [
              0,
              "#0d0887"
             ],
             [
              0.1111111111111111,
              "#46039f"
             ],
             [
              0.2222222222222222,
              "#7201a8"
             ],
             [
              0.3333333333333333,
              "#9c179e"
             ],
             [
              0.4444444444444444,
              "#bd3786"
             ],
             [
              0.5555555555555556,
              "#d8576b"
             ],
             [
              0.6666666666666666,
              "#ed7953"
             ],
             [
              0.7777777777777778,
              "#fb9f3a"
             ],
             [
              0.8888888888888888,
              "#fdca26"
             ],
             [
              1,
              "#f0f921"
             ]
            ],
            "type": "surface"
           }
          ],
          "table": [
           {
            "cells": {
             "fill": {
              "color": "#EBF0F8"
             },
             "line": {
              "color": "white"
             }
            },
            "header": {
             "fill": {
              "color": "#C8D4E3"
             },
             "line": {
              "color": "white"
             }
            },
            "type": "table"
           }
          ]
         },
         "layout": {
          "annotationdefaults": {
           "arrowcolor": "#2a3f5f",
           "arrowhead": 0,
           "arrowwidth": 1
          },
          "autotypenumbers": "strict",
          "coloraxis": {
           "colorbar": {
            "outlinewidth": 0,
            "ticks": ""
           }
          },
          "colorscale": {
           "diverging": [
            [
             0,
             "#8e0152"
            ],
            [
             0.1,
             "#c51b7d"
            ],
            [
             0.2,
             "#de77ae"
            ],
            [
             0.3,
             "#f1b6da"
            ],
            [
             0.4,
             "#fde0ef"
            ],
            [
             0.5,
             "#f7f7f7"
            ],
            [
             0.6,
             "#e6f5d0"
            ],
            [
             0.7,
             "#b8e186"
            ],
            [
             0.8,
             "#7fbc41"
            ],
            [
             0.9,
             "#4d9221"
            ],
            [
             1,
             "#276419"
            ]
           ],
           "sequential": [
            [
             0,
             "#0d0887"
            ],
            [
             0.1111111111111111,
             "#46039f"
            ],
            [
             0.2222222222222222,
             "#7201a8"
            ],
            [
             0.3333333333333333,
             "#9c179e"
            ],
            [
             0.4444444444444444,
             "#bd3786"
            ],
            [
             0.5555555555555556,
             "#d8576b"
            ],
            [
             0.6666666666666666,
             "#ed7953"
            ],
            [
             0.7777777777777778,
             "#fb9f3a"
            ],
            [
             0.8888888888888888,
             "#fdca26"
            ],
            [
             1,
             "#f0f921"
            ]
           ],
           "sequentialminus": [
            [
             0,
             "#0d0887"
            ],
            [
             0.1111111111111111,
             "#46039f"
            ],
            [
             0.2222222222222222,
             "#7201a8"
            ],
            [
             0.3333333333333333,
             "#9c179e"
            ],
            [
             0.4444444444444444,
             "#bd3786"
            ],
            [
             0.5555555555555556,
             "#d8576b"
            ],
            [
             0.6666666666666666,
             "#ed7953"
            ],
            [
             0.7777777777777778,
             "#fb9f3a"
            ],
            [
             0.8888888888888888,
             "#fdca26"
            ],
            [
             1,
             "#f0f921"
            ]
           ]
          },
          "colorway": [
           "#636efa",
           "#EF553B",
           "#00cc96",
           "#ab63fa",
           "#FFA15A",
           "#19d3f3",
           "#FF6692",
           "#B6E880",
           "#FF97FF",
           "#FECB52"
          ],
          "font": {
           "color": "#2a3f5f"
          },
          "geo": {
           "bgcolor": "white",
           "lakecolor": "white",
           "landcolor": "#E5ECF6",
           "showlakes": true,
           "showland": true,
           "subunitcolor": "white"
          },
          "hoverlabel": {
           "align": "left"
          },
          "hovermode": "closest",
          "mapbox": {
           "style": "light"
          },
          "paper_bgcolor": "white",
          "plot_bgcolor": "#E5ECF6",
          "polar": {
           "angularaxis": {
            "gridcolor": "white",
            "linecolor": "white",
            "ticks": ""
           },
           "bgcolor": "#E5ECF6",
           "radialaxis": {
            "gridcolor": "white",
            "linecolor": "white",
            "ticks": ""
           }
          },
          "scene": {
           "xaxis": {
            "backgroundcolor": "#E5ECF6",
            "gridcolor": "white",
            "gridwidth": 2,
            "linecolor": "white",
            "showbackground": true,
            "ticks": "",
            "zerolinecolor": "white"
           },
           "yaxis": {
            "backgroundcolor": "#E5ECF6",
            "gridcolor": "white",
            "gridwidth": 2,
            "linecolor": "white",
            "showbackground": true,
            "ticks": "",
            "zerolinecolor": "white"
           },
           "zaxis": {
            "backgroundcolor": "#E5ECF6",
            "gridcolor": "white",
            "gridwidth": 2,
            "linecolor": "white",
            "showbackground": true,
            "ticks": "",
            "zerolinecolor": "white"
           }
          },
          "shapedefaults": {
           "line": {
            "color": "#2a3f5f"
           }
          },
          "ternary": {
           "aaxis": {
            "gridcolor": "white",
            "linecolor": "white",
            "ticks": ""
           },
           "baxis": {
            "gridcolor": "white",
            "linecolor": "white",
            "ticks": ""
           },
           "bgcolor": "#E5ECF6",
           "caxis": {
            "gridcolor": "white",
            "linecolor": "white",
            "ticks": ""
           }
          },
          "title": {
           "x": 0.05
          },
          "xaxis": {
           "automargin": true,
           "gridcolor": "white",
           "linecolor": "white",
           "ticks": "",
           "title": {
            "standoff": 15
           },
           "zerolinecolor": "white",
           "zerolinewidth": 2
          },
          "yaxis": {
           "automargin": true,
           "gridcolor": "white",
           "linecolor": "white",
           "ticks": "",
           "title": {
            "standoff": 15
           },
           "zerolinecolor": "white",
           "zerolinewidth": 2
          }
         }
        },
        "title": {
         "text": "Summary for Series 2"
        },
        "width": 1200,
        "xaxis": {
         "anchor": "y",
         "domain": [
          0,
          0.45
         ]
        },
        "xaxis2": {
         "anchor": "y2",
         "domain": [
          0,
          0.45
         ]
        },
        "xaxis3": {
         "anchor": "y3",
         "domain": [
          0.55,
          1
         ]
        },
        "yaxis": {
         "anchor": "x",
         "domain": [
          0.625,
          1
         ]
        },
        "yaxis2": {
         "anchor": "x2",
         "domain": [
          0,
          0.375
         ]
        },
        "yaxis3": {
         "anchor": "x3",
         "domain": [
          0,
          0.375
         ]
        }
       }
      }
     },
     "metadata": {},
     "output_type": "display_data"
    }
   ],
   "source": [
    "plot_series_summary(\"Series 2\")"
   ]
  },
  {
   "cell_type": "markdown",
   "id": "0fbf0637",
   "metadata": {},
   "source": [
    "# Dashboard"
   ]
  },
  {
   "cell_type": "code",
   "execution_count": null,
   "id": "522f71fa",
   "metadata": {},
   "outputs": [],
   "source": [
    "import dash\n",
    "from dash import dcc, html, Input, Output, State, dash_table, MATCH, ALL\n",
    "import dash_daq as daq\n",
    "import pandas as pd\n",
    "import numpy as np\n",
    "from datetime import datetime, timedelta\n",
    "\n",
    "import plotly.graph_objs as go\n",
    "\n",
    "# --- Defaults ---\n",
    "def_date_fmt = \"%Y-%m-%d\"\n",
    "today = pd.Timestamp.today().normalize()\n",
    "default_earliest = today - pd.Timedelta(days=90)\n",
    "default_latest = today\n",
    "\n",
    "def get_default_timeframes(latest_date):\n",
    "    return [\n",
    "        (\"Today\", latest_date, latest_date),\n",
    "        (\"Last week\", latest_date - pd.Timedelta(days=6), latest_date),\n",
    "        (\"Last 4 weeks\", latest_date - pd.Timedelta(days=27), latest_date),\n",
    "        (\"Prev 4 weeks\", latest_date - pd.Timedelta(days=55), latest_date - pd.Timedelta(days=28)),\n",
    "        (\"Last 8 weeks\", latest_date - pd.Timedelta(days=55), latest_date),\n",
    "        (\"Last 12 weeks\", latest_date - pd.Timedelta(days=83), latest_date),\n",
    "    ]\n",
    "\n",
    "default_tf_colors = {\n",
    "    \"Today\": \"green\",\n",
    "    \"Last week\": \"blue\",\n",
    "    \"Last 4 weeks\": \"red\",\n",
    "    \"Prev 4 weeks\": \"orange\",\n",
    "    \"Last 8 weeks\": \"yellow\",\n",
    "    \"Last 12 weeks\": \"pink\"\n",
    "}\n",
    "\n",
    "# --- Helper Functions ---\n",
    "def generate_timeseries(start_date, end_date, initial_value, params, timeframes, random_state=None):\n",
    "    dates = pd.date_range(start=start_date, end=end_date, freq='D')\n",
    "    values = np.zeros(len(dates))\n",
    "    current_value = initial_value\n",
    "    rng = np.random.default_rng(random_state)\n",
    "    for tf_label, tf_start, tf_end in timeframes:\n",
    "        mask = (dates >= tf_start) & (dates <= tf_end)\n",
    "        n = mask.sum()\n",
    "        if tf_label in params:\n",
    "            mu, sigma = params[tf_label][\"mean\"], params[tf_label][\"std\"]\n",
    "        else:\n",
    "            mu, sigma = 5, 5\n",
    "        changes = rng.normal(mu, sigma, n)\n",
    "        tf_values = []\n",
    "        for change in changes:\n",
    "            current_value += change\n",
    "            tf_values.append(current_value)\n",
    "        values[mask] = tf_values\n",
    "        if n > 0:\n",
    "            current_value = tf_values[-1]\n",
    "    return pd.DataFrame({'Date': dates, 'Value': values})\n",
    "\n",
    "def Basic_stats(series_df, timeframes):\n",
    "    stats = []\n",
    "    for tf_label, tf_start, tf_end in timeframes:\n",
    "        tf_values = series_df[(series_df['Date'] >= tf_start) & (series_df['Date'] <= tf_end)]['Value']\n",
    "        if len(tf_values) == 0:\n",
    "            stats.append([np.nan]*4)\n",
    "        else:\n",
    "            stats.append([\n",
    "                np.quantile(tf_values, 0),\n",
    "                np.quantile(tf_values, 0.5),\n",
    "                np.quantile(tf_values, 0.8),\n",
    "                np.quantile(tf_values, 1)\n",
    "            ])\n",
    "    df = pd.DataFrame(stats, columns=['Min', 'Median', 'Quantile 0.8', 'Max'],\n",
    "                      index=[tf_label for tf_label, _, _ in timeframes])\n",
    "    return df\n",
    "\n",
    "def Timeframe_corr(series_df, timeframes):\n",
    "    \"\"\"\n",
    "    Compute pairwise correlation for slices of a time series DataFrame based on equal-span timeframes.\n",
    "\n",
    "    Parameters:\n",
    "    - series_df: pd.DataFrame with columns ['Date', 'Value']\n",
    "    - timeframes: list of tuples -> (label, start_date, end_date)\n",
    "\n",
    "    Returns:\n",
    "    - pd.DataFrame containing the correlation matrix of valid timeframe slices\n",
    "    \"\"\"\n",
    "\n",
    "    # Ensure 'Date' column is datetime\n",
    "    series_df = series_df.copy()\n",
    "    series_df['Date'] = pd.to_datetime(series_df['Date'])\n",
    "\n",
    "    slices = {}\n",
    "\n",
    "    valid_timeframes = None\n",
    "    duration_list = []\n",
    "\n",
    "    for label, start, end in timeframes:\n",
    "        start = pd.to_datetime(start)\n",
    "        end = pd.to_datetime(end)\n",
    "        mask = (series_df['Date'] >= start) & (series_df['Date'] <= end)\n",
    "        values = series_df.loc[mask, 'Value'].values\n",
    "\n",
    "        duration = (end - start).days + 1  # inclusive\n",
    "        duration_list.append(duration)\n",
    "        # skip non-uniform spans or missing days\n",
    "        slices[label] = values\n",
    "\n",
    "    same_durations = [duration_list.count(d) > 1 for d in duration_list]\n",
    "    copy_of_slice_keys = list(slices.keys()).copy()\n",
    "    for label, duration_boolean in zip(copy_of_slice_keys, same_durations):\n",
    "        if not duration_boolean:\n",
    "            del slices[label]\n",
    "    if sum(same_durations) < 2:\n",
    "        corr_matrix = pd.DataFrame(data=['No timeframes with same duration span (>1 day)'])\n",
    "        return corr_matrix\n",
    "    else:\n",
    "        # Create a DataFrame from slices\n",
    "        slice_df = pd.DataFrame(slices)\n",
    "        corr_matrix = slice_df.corr()\n",
    "        corr_matrix.index = slices.keys()\n",
    "        corr_matrix.columns = slices.keys()\n",
    "\n",
    "    return corr_matrix\n",
    "\n",
    "def Series_corr(series_dict, timeframes, tf_label):\n",
    "    tf_idx = [i for i, (lbl, _, _) in enumerate(timeframes) if lbl == tf_label]\n",
    "    if not tf_idx:\n",
    "        return pd.DataFrame()\n",
    "    tf_idx = tf_idx[0]\n",
    "    vals = []\n",
    "    names = []\n",
    "    min_len = None\n",
    "    for name, df in series_dict.items():\n",
    "        tf_start, tf_end = timeframes[tf_idx][1], timeframes[tf_idx][2]\n",
    "        # Ensure Date column is datetime\n",
    "        if not np.issubdtype(df['Date'].dtype, np.datetime64):\n",
    "            df = df.copy()\n",
    "            df['Date'] = pd.to_datetime(df['Date'])\n",
    "        v = df[(df['Date'] >= tf_start) & (df['Date'] <= tf_end)]['Value'].values\n",
    "        if len(v) == 0:\n",
    "            continue\n",
    "        if min_len is None or len(v) < min_len:\n",
    "            min_len = len(v)\n",
    "        vals.append(v)\n",
    "        names.append(name)\n",
    "    if len(vals) < 2 or min_len is None or min_len == 0:\n",
    "        return pd.DataFrame(np.nan, index=names, columns=names)\n",
    "    trimmed = [arr[:min_len] for arr in vals]\n",
    "    data = np.column_stack(trimmed)\n",
    "    valid_cols = [i for i in range(data.shape[1]) if np.std(data[:, i]) > 1e-8]\n",
    "    if len(valid_cols) < 2:\n",
    "        return pd.DataFrame(np.nan, index=[names[i] for i in valid_cols], columns=[names[i] for i in valid_cols])\n",
    "    data = data[:, valid_cols]\n",
    "    valid_names = [names[i] for i in valid_cols]\n",
    "    corr = np.corrcoef(data, rowvar=False)\n",
    "    return pd.DataFrame(corr, index=valid_names, columns=valid_names)\n",
    "\n",
    "# --- UI Helper Functions ---\n",
    "def make_timeframe_picker(tf_label, tf_start, tf_end, color, idx, editable=True):\n",
    "    return html.Div([\n",
    "        html.Label(tf_label, style={'fontWeight': 'bold', 'marginRight': '10px'}),\n",
    "        dcc.Input(id={'type': 'tf-label', 'index': idx}, value=tf_label, style={'width': '100px', 'marginRight': '10px'}, disabled=not editable),\n",
    "        dcc.DatePickerRange(\n",
    "            id={'type': 'tf-date', 'index': idx},\n",
    "            start_date=tf_start.strftime(def_date_fmt),\n",
    "            end_date=tf_end.strftime(def_date_fmt),\n",
    "            display_format='YYYY-MM-DD',\n",
    "            disabled=not editable\n",
    "        ),\n",
    "        daq.ColorPicker(\n",
    "            id={'type': 'tf-color', 'index': idx},\n",
    "            value={'hex': color},\n",
    "            size=164,\n",
    "            disabled=not editable,\n",
    "            style={'display': 'inline-block', 'marginLeft': '10px'}\n",
    "        ),\n",
    "        html.Button('Delete', id={'type': 'tf-delete', 'index': idx}, n_clicks=0, style={'marginLeft': '10px', 'display': 'inline-block'} if editable else {'display': 'none'})\n",
    "    ], style={'marginBottom': '10px', 'display': 'flex', 'alignItems': 'center'})\n",
    "\n",
    "def make_series_param_editor(series_name, params, idx, editable=True):\n",
    "    tf_label = list(params['params'].keys())[0]\n",
    "    mean = params['params'][tf_label]['mean']\n",
    "    std = params['params'][tf_label]['std']\n",
    "    return html.Div([\n",
    "        html.Label(f\"{series_name} Initial Value:\"),\n",
    "        dcc.Input(id={'type': 'series-init', 'index': idx}, type='number', value=params['initial_value'], style={'width': '80px', 'marginRight': '10px'}, disabled=not editable),\n",
    "        html.Label(\"Daily Change Mean:\"),\n",
    "        dcc.Input(id={'type': 'series-mean', 'index': idx}, type='number', value=mean, style={'width': '60px', 'marginRight': '10px'}, disabled=not editable),\n",
    "        html.Label(\"Std:\"),\n",
    "        dcc.Input(id={'type': 'series-std', 'index': idx}, type='number', value=std, style={'width': '60px', 'marginRight': '10px'}, disabled=not editable),\n",
    "        html.Button('Delete', id={'type': 'series-delete', 'index': idx}, n_clicks=0, style={'marginLeft': '10px'} if editable else {'display': 'none'})\n",
    "    ], style={'marginBottom': '10px', 'display': 'flex', 'alignItems': 'center'})\n",
    "\n",
    "# --- App Layout ---\n",
    "app = dash.Dash(__name__)\n",
    "\n",
    "app.layout = html.Div([\n",
    "    dcc.Store(id='series-store', data={\n",
    "        \"Series 1\": {\n",
    "            \"initial_value\": 500,\n",
    "            \"params\": {\n",
    "                \"Last 12 weeks\": {\"mean\": 0, \"std\": 5}\n",
    "            }\n",
    "        },\n",
    "        \"Series 2\": {\n",
    "            \"initial_value\": 900,\n",
    "            \"params\": {\n",
    "                \"Last 12 weeks\": {\"mean\": 0, \"std\": 10}\n",
    "            }\n",
    "        }\n",
    "    }),\n",
    "    dcc.Store(id='tf-store', data=[\n",
    "        {\n",
    "            \"label\": lbl,\n",
    "            \"start\": tf_start.strftime(def_date_fmt),\n",
    "            \"end\": tf_end.strftime(def_date_fmt),\n",
    "            \"color\": default_tf_colors.get(lbl, \"#b3e2cd\")\n",
    "        }\n",
    "        for lbl, tf_start, tf_end in get_default_timeframes(default_latest)\n",
    "    ]),\n",
    "    dcc.Store(id='editing-mode', data=True),\n",
    "    html.H2(\"Timeseries Dashboard\"),\n",
    "    html.Div([\n",
    "        html.Label(\"Earliest Date:\"),\n",
    "        dcc.DatePickerSingle(id='earliest-date', date=default_earliest.strftime(def_date_fmt)),\n",
    "        html.Label(\"Latest Date:\", style={'marginLeft': '20px'}),\n",
    "        dcc.DatePickerSingle(id='latest-date', date=default_latest.strftime(def_date_fmt)),\n",
    "    ], style={'marginBottom': '20px'}),\n",
    "    html.H4(\"Custom Timeframes\"),\n",
    "    html.Div(id='custom-timeframes'),\n",
    "    html.Button('Add Custom Timeframe', id='add-tf', n_clicks=0, style={'marginBottom': '20px'}),\n",
    "    html.H4(\"Series Parameters\"),\n",
    "    html.Div(id='series-params'),\n",
    "    html.Button('Add Series', id='add-series', n_clicks=0, style={'marginBottom': '20px'}),\n",
    "    html.Button('Done', id='done-btn', n_clicks=0, style={'marginBottom': '20px'}),\n",
    "    html.Div([\n",
    "        html.Label(\"Select Series:\"),\n",
    "        dcc.Dropdown(id='series-dropdown',style={'width': '200px'}),\n",
    "        html.Label(\"Select Timeframe for Series Corr:\", style={'marginLeft': '20px'}),\n",
    "        dcc.Dropdown(id='tf-dropdown',style={'width': '200px'}),\n",
    "    ], style={'marginBottom': '20px', 'display': 'flex', 'alignItems': 'center'}),\n",
    "    dcc.Loading([\n",
    "        dcc.Graph(id='plot-1', style={'display': 'inline-block', 'width': '48%'}),\n",
    "        dcc.Graph(id='plot-2', style={'display': 'inline-block', 'width': '48%'}),\n",
    "        dcc.Graph(id='plot-3', style={'display': 'inline-block', 'width': '48%'}),\n",
    "        dcc.Graph(id='plot-4', style={'display': 'inline-block', 'width': '48%'}),\n",
    "    ])\n",
    "])\n",
    "\n",
    "# --- Editing Mode Callback ---\n",
    "@app.callback(\n",
    "    Output('editing-mode', 'data'),\n",
    "    Input('add-tf', 'n_clicks'),\n",
    "    Input('add-series', 'n_clicks'),\n",
    "    Input({'type': 'tf-delete', 'index': ALL}, 'n_clicks'),\n",
    "    Input({'type': 'series-delete', 'index': ALL}, 'n_clicks'),\n",
    "    Input('done-btn', 'n_clicks'),\n",
    "    State('editing-mode', 'data'),\n",
    "    prevent_initial_call=True\n",
    ")\n",
    "def set_editing_mode(add_tf, add_series, del_tf, del_series, done, editing):\n",
    "    ctx = dash.callback_context\n",
    "    if not ctx.triggered:\n",
    "        return editing\n",
    "    btn = ctx.triggered[0]['prop_id'].split('.')[0]\n",
    "    if btn == 'done-btn':\n",
    "        return False\n",
    "    return True\n",
    "\n",
    "# --- Timeframes Editor Callback ---\n",
    "@app.callback(\n",
    "    Output('custom-timeframes', 'children'),\n",
    "    Output('tf-store', 'data'),\n",
    "    Input('add-tf', 'n_clicks'),\n",
    "    Input({'type': 'tf-delete', 'index': ALL}, 'n_clicks'),\n",
    "    Input({'type': 'tf-label', 'index': ALL}, 'value'),\n",
    "    Input({'type': 'tf-date', 'index': ALL}, 'start_date'),\n",
    "    Input({'type': 'tf-date', 'index': ALL}, 'end_date'),\n",
    "    Input({'type': 'tf-color', 'index': ALL}, 'value'),\n",
    "    State('tf-store', 'data'),\n",
    "    State('editing-mode', 'data'),\n",
    "    prevent_initial_call=True\n",
    ")\n",
    "def update_timeframes(add_tf_clicks, del_clicks, labels, starts, ends, colors, tf_data, editing_mode):\n",
    "    ctx = dash.callback_context\n",
    "    triggered = ctx.triggered[0]['prop_id'].split('.')[0]\n",
    "    tf_data = tf_data or []\n",
    "    # Handle delete\n",
    "    if 'tf-delete' in triggered:\n",
    "        idx = int(eval(triggered)['index'])\n",
    "        tf_data = [tf for i, tf in enumerate(tf_data) if i != idx]\n",
    "    # Handle add\n",
    "    elif 'add-tf' in triggered:\n",
    "        tf_data = tf_data + [{\n",
    "            \"label\": f\"Custom TF {len(tf_data)+1}\",\n",
    "            \"start\": default_earliest.strftime(def_date_fmt),\n",
    "            \"end\": default_latest.strftime(def_date_fmt),\n",
    "            \"color\": \"#b3e2cd\"\n",
    "        }]\n",
    "    # Handle edits\n",
    "    else:\n",
    "        for i in range(len(tf_data)):\n",
    "            tf_data[i]['label'] = labels[i]\n",
    "            tf_data[i]['start'] = pd.to_datetime(starts[i])\n",
    "            tf_data[i]['end'] = pd.to_datetime(ends[i])\n",
    "            tf_data[i]['color'] = colors[i]['hex'] if isinstance(colors[i], dict) else colors[i]\n",
    "    # Render\n",
    "    if editing_mode:\n",
    "        children = [\n",
    "            make_timeframe_picker(tf['label'], pd.to_datetime(tf['start']), pd.to_datetime(tf['end']), tf['color'], idx, editable=True)\n",
    "            for idx, tf in enumerate(tf_data)\n",
    "        ]\n",
    "    else:\n",
    "        children = []\n",
    "    return children, tf_data\n",
    "\n",
    "# --- Series Editor Callback ---\n",
    "@app.callback(\n",
    "    Output('series-params', 'children'),\n",
    "    Output('series-store', 'data'),\n",
    "    Input('add-series', 'n_clicks'),\n",
    "    Input({'type': 'series-delete', 'index': ALL}, 'n_clicks'),\n",
    "    Input({'type': 'series-init', 'index': ALL}, 'value'),\n",
    "    Input({'type': 'series-mean', 'index': ALL}, 'value'),\n",
    "    Input({'type': 'series-std', 'index': ALL}, 'value'),\n",
    "    State('series-store', 'data'),\n",
    "    State('tf-store', 'data'),\n",
    "    State('editing-mode', 'data'),\n",
    "    prevent_initial_call=True\n",
    ")\n",
    "def update_series(add_series_clicks, del_clicks, inits, means, stds, series_data, tf_data, editing_mode):\n",
    "    ctx = dash.callback_context\n",
    "    triggered = ctx.triggered[0]['prop_id'].split('.')[0]\n",
    "    series_data = series_data or {}\n",
    "    tf_data = tf_data or []\n",
    "    tf_label = tf_data[-1]['label'] if tf_data else \"Last 12 weeks\"\n",
    "    # Handle delete\n",
    "    if 'series-delete' in triggered:\n",
    "        idx = int(eval(triggered)['index'])\n",
    "        keys = list(series_data.keys())\n",
    "        if idx < len(keys):\n",
    "            del series_data[keys[idx]]\n",
    "    # Handle add\n",
    "    elif 'add-series' in triggered:\n",
    "        new_idx = len(series_data) + 1\n",
    "        series_data[f\"Series {new_idx}\"] = {\n",
    "            \"initial_value\": 20,\n",
    "            \"params\": {\n",
    "                tf_label: {\"mean\": 4, \"std\": 10}\n",
    "            }\n",
    "        }\n",
    "    # Handle edits\n",
    "    else:\n",
    "        keys = list(series_data.keys())\n",
    "        for i, k in enumerate(keys):\n",
    "            if i < len(inits):\n",
    "                series_data[k]['initial_value'] = inits[i]\n",
    "                series_data[k]['params'][tf_label] = {\"mean\": means[i], \"std\": stds[i]}\n",
    "    # Render\n",
    "    if editing_mode:\n",
    "        children = [\n",
    "            make_series_param_editor(k, v, idx, editable=True)\n",
    "            for idx, (k, v) in enumerate(series_data.items())\n",
    "        ]\n",
    "    else:\n",
    "        children = []\n",
    "    return children, series_data\n",
    "\n",
    "# --- Dashboard Update Callback ---\n",
    "@app.callback(\n",
    "    Output('series-dropdown', 'options'),\n",
    "    Output('series-dropdown', 'value'),\n",
    "    Output('tf-dropdown', 'options'),\n",
    "    Output('tf-dropdown', 'value'),\n",
    "    Output('plot-1', 'figure'),\n",
    "    Output('plot-2', 'figure'),\n",
    "    Output('plot-3', 'figure'),\n",
    "    Output('plot-4', 'figure'),\n",
    "    Input('earliest-date', 'date'),\n",
    "    Input('latest-date', 'date'),\n",
    "    Input('series-dropdown', 'value'),\n",
    "    Input('tf-dropdown', 'value'),\n",
    "    Input('series-store', 'data'),\n",
    "    Input('tf-store', 'data'),\n",
    ")\n",
    "def update_dashboard(earliest_date, latest_date, selected_series, selected_tf, series_data, tf_data):\n",
    "    earliest = pd.to_datetime(earliest_date)\n",
    "    latest = pd.to_datetime(latest_date)\n",
    "    timeframes = [\n",
    "        (tf['label'], pd.to_datetime(tf['start']), pd.to_datetime(tf['end']))\n",
    "        for tf in tf_data\n",
    "    ]\n",
    "    tf_labels = [lbl for lbl, _, _ in timeframes]\n",
    "    tf_colors = [tf['color'] for tf in tf_data]\n",
    "\n",
    "    series_dict = {}\n",
    "    for i, (name, params) in enumerate(series_data.items()):\n",
    "        series_seed = abs(hash(name)) % (2**32)\n",
    "        df = generate_timeseries(\n",
    "            earliest, latest,\n",
    "            params['initial_value'],\n",
    "            params['params'],\n",
    "            timeframes,\n",
    "            random_state=series_seed\n",
    "        )\n",
    "        series_dict[name] = df\n",
    "\n",
    "    series_options = [{'label': k, 'value': k} for k in series_dict.keys()]\n",
    "    if not selected_series or selected_series not in series_dict:\n",
    "        selected_series = series_options[0]['value'] if series_options else None\n",
    "    tf_options = [{'label': lbl, 'value': lbl} for lbl in tf_labels]\n",
    "    if not selected_tf or selected_tf not in tf_labels:\n",
    "        selected_tf = tf_labels[-1] if tf_labels else None\n",
    "\n",
    "    if not selected_series or not timeframes:\n",
    "        return series_options, selected_series, tf_options, selected_tf, {}, {}, {}, {}\n",
    "    df_selected = series_dict[selected_series]\n",
    "    stats_df = Basic_stats(df_selected, timeframes)\n",
    "    corr_df = Timeframe_corr(df_selected, timeframes)\n",
    "    series_corr_df = Series_corr(series_dict, timeframes, selected_tf)\n",
    "\n",
    "    fig1 = go.Figure()\n",
    "    fig1.add_trace(go.Scatter(\n",
    "        x=df_selected['Date'], y=df_selected['Value'],\n",
    "        mode='lines', name=selected_series\n",
    "    ))\n",
    "    for i, (tf_label, tf_start, tf_end) in enumerate(timeframes):\n",
    "        fig1.add_vrect(\n",
    "            x0=tf_start, x1=tf_end,\n",
    "            fillcolor=tf_colors[i], opacity=0.2, line_width=0,\n",
    "            annotation_text=tf_label, annotation_position=\"top left\"\n",
    "        )\n",
    "    fig1.update_layout(\n",
    "        title=f\"Timeseries: {selected_series}\",\n",
    "        xaxis_title=\"Date\", yaxis_title=\"Value\",\n",
    "        showlegend=False, height=400\n",
    "    )\n",
    "\n",
    "    stats_df_fmt = stats_df.round(2)\n",
    "    cell_colors = [tf_colors] + [['lavender'] * len(stats_df)] * (len(stats_df.columns))\n",
    "    fig2 = go.Figure(data=[go.Table(\n",
    "        header=dict(\n",
    "            values=[\"Timeframe\"] + list(stats_df_fmt.columns),\n",
    "            fill_color='paleturquoise',\n",
    "            align='left'\n",
    "        ),\n",
    "        cells=dict(\n",
    "            values=[[idx for idx in stats_df_fmt.index]] + [stats_df_fmt[col].tolist() for col in stats_df_fmt.columns],\n",
    "            fill_color=cell_colors,\n",
    "            format=[None] + [\".2f\"] * len(stats_df_fmt.columns),\n",
    "            align='left'\n",
    "        )\n",
    "    )])\n",
    "    fig2.update_layout(\n",
    "        title=f\"Basic Stats: {selected_series}\",\n",
    "        height=400\n",
    "    )\n",
    "\n",
    "    corr_df_fmt = corr_df.round(2)\n",
    "    fig3 = go.Figure(data=go.Heatmap(\n",
    "        z=corr_df_fmt.values,\n",
    "        x=corr_df_fmt.columns,\n",
    "        y=corr_df_fmt.index,\n",
    "        colorscale='RdBu', zmin=-1, zmax=1,\n",
    "        colorbar=dict(title=\"Corr\"),\n",
    "        hovertemplate='Corr: %{z:.2f}<extra></extra>'\n",
    "    ))\n",
    "    fig3.update_layout(\n",
    "        title=f\"Timeframe Corr: {selected_series}\",\n",
    "        height=400\n",
    "    )\n",
    "\n",
    "    series_corr_fmt = series_corr_df.round(2)\n",
    "    fig4 = go.Figure(data=go.Heatmap(\n",
    "        z=series_corr_fmt.values,\n",
    "        x=series_corr_fmt.columns,\n",
    "        y=series_corr_fmt.index,\n",
    "        colorscale='RdBu', zmin=-1, zmax=1,\n",
    "        colorbar=dict(title=\"Corr\"),\n",
    "        hovertemplate='Corr: %{z:.2f}<extra></extra>'\n",
    "    ))\n",
    "    fig4.update_layout(\n",
    "        title=f\"Series Corr: {selected_tf}\",\n",
    "        height=400\n",
    "    )\n",
    "\n",
    "    return series_options, selected_series, tf_options, selected_tf, fig1, fig2, fig3, fig4\n",
    "\n",
    "# To run the app:\n",
    "if __name__ == \"__main__\":\n",
    "    app.run(host='localhost', port=8501, debug=True)"
   ]
  }
 ],
 "metadata": {
  "kernelspec": {
   "display_name": ".venv",
   "language": "python",
   "name": "python3"
  },
  "language_info": {
   "codemirror_mode": {
    "name": "ipython",
    "version": 3
   },
   "file_extension": ".py",
   "mimetype": "text/x-python",
   "name": "python",
   "nbconvert_exporter": "python",
   "pygments_lexer": "ipython3",
   "version": "3.12.4"
  }
 },
 "nbformat": 4,
 "nbformat_minor": 5
}
